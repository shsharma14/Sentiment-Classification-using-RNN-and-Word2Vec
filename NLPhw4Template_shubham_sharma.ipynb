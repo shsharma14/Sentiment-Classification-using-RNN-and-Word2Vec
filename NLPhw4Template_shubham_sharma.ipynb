{
  "nbformat": 4,
  "nbformat_minor": 0,
  "metadata": {
    "colab": {
      "name": "NLPhw4Template_shsharma.ipynb",
      "provenance": [],
      "collapsed_sections": []
    },
    "kernelspec": {
      "name": "python3",
      "display_name": "Python 3"
    },
    "language_info": {
      "name": "python"
    },
    "widgets": {
      "application/vnd.jupyter.widget-state+json": {
        "50843f301bbf41a6848d6db7251c592d": {
          "model_module": "@jupyter-widgets/controls",
          "model_name": "HBoxModel",
          "model_module_version": "1.5.0",
          "state": {
            "_dom_classes": [],
            "_model_module": "@jupyter-widgets/controls",
            "_model_module_version": "1.5.0",
            "_model_name": "HBoxModel",
            "_view_count": null,
            "_view_module": "@jupyter-widgets/controls",
            "_view_module_version": "1.5.0",
            "_view_name": "HBoxView",
            "box_style": "",
            "children": [
              "IPY_MODEL_790979fbbe99442da78c620877524c32",
              "IPY_MODEL_b78c8e15d2584ceaa21744bb9d40ab66",
              "IPY_MODEL_6723fa86eb4240fdbb4211d59fcf2f79"
            ],
            "layout": "IPY_MODEL_edb1b1f0014b4955b479c7e2a316975d"
          }
        },
        "790979fbbe99442da78c620877524c32": {
          "model_module": "@jupyter-widgets/controls",
          "model_name": "HTMLModel",
          "model_module_version": "1.5.0",
          "state": {
            "_dom_classes": [],
            "_model_module": "@jupyter-widgets/controls",
            "_model_module_version": "1.5.0",
            "_model_name": "HTMLModel",
            "_view_count": null,
            "_view_module": "@jupyter-widgets/controls",
            "_view_module_version": "1.5.0",
            "_view_name": "HTMLView",
            "description": "",
            "description_tooltip": null,
            "layout": "IPY_MODEL_99fac8113f6b41b9a8d3f24df2ab515d",
            "placeholder": "​",
            "style": "IPY_MODEL_64cf2f60905d42a2852689edfe5168b6",
            "value": "Downloading: 100%"
          }
        },
        "b78c8e15d2584ceaa21744bb9d40ab66": {
          "model_module": "@jupyter-widgets/controls",
          "model_name": "FloatProgressModel",
          "model_module_version": "1.5.0",
          "state": {
            "_dom_classes": [],
            "_model_module": "@jupyter-widgets/controls",
            "_model_module_version": "1.5.0",
            "_model_name": "FloatProgressModel",
            "_view_count": null,
            "_view_module": "@jupyter-widgets/controls",
            "_view_module_version": "1.5.0",
            "_view_name": "ProgressView",
            "bar_style": "success",
            "description": "",
            "description_tooltip": null,
            "layout": "IPY_MODEL_78171164f1ad43de99266c4e8900a437",
            "max": 1175,
            "min": 0,
            "orientation": "horizontal",
            "style": "IPY_MODEL_f4555f0a7e404c709e907ad100313d54",
            "value": 1175
          }
        },
        "6723fa86eb4240fdbb4211d59fcf2f79": {
          "model_module": "@jupyter-widgets/controls",
          "model_name": "HTMLModel",
          "model_module_version": "1.5.0",
          "state": {
            "_dom_classes": [],
            "_model_module": "@jupyter-widgets/controls",
            "_model_module_version": "1.5.0",
            "_model_name": "HTMLModel",
            "_view_count": null,
            "_view_module": "@jupyter-widgets/controls",
            "_view_module_version": "1.5.0",
            "_view_name": "HTMLView",
            "description": "",
            "description_tooltip": null,
            "layout": "IPY_MODEL_67a07a827478489ba05762f4f163c87f",
            "placeholder": "​",
            "style": "IPY_MODEL_8c1b1d4c964948acb7c1ba7795abdeb8",
            "value": " 1.18k/1.18k [00:00&lt;00:00, 5.80kB/s]"
          }
        },
        "edb1b1f0014b4955b479c7e2a316975d": {
          "model_module": "@jupyter-widgets/base",
          "model_name": "LayoutModel",
          "model_module_version": "1.2.0",
          "state": {
            "_model_module": "@jupyter-widgets/base",
            "_model_module_version": "1.2.0",
            "_model_name": "LayoutModel",
            "_view_count": null,
            "_view_module": "@jupyter-widgets/base",
            "_view_module_version": "1.2.0",
            "_view_name": "LayoutView",
            "align_content": null,
            "align_items": null,
            "align_self": null,
            "border": null,
            "bottom": null,
            "display": null,
            "flex": null,
            "flex_flow": null,
            "grid_area": null,
            "grid_auto_columns": null,
            "grid_auto_flow": null,
            "grid_auto_rows": null,
            "grid_column": null,
            "grid_gap": null,
            "grid_row": null,
            "grid_template_areas": null,
            "grid_template_columns": null,
            "grid_template_rows": null,
            "height": null,
            "justify_content": null,
            "justify_items": null,
            "left": null,
            "margin": null,
            "max_height": null,
            "max_width": null,
            "min_height": null,
            "min_width": null,
            "object_fit": null,
            "object_position": null,
            "order": null,
            "overflow": null,
            "overflow_x": null,
            "overflow_y": null,
            "padding": null,
            "right": null,
            "top": null,
            "visibility": null,
            "width": null
          }
        },
        "99fac8113f6b41b9a8d3f24df2ab515d": {
          "model_module": "@jupyter-widgets/base",
          "model_name": "LayoutModel",
          "model_module_version": "1.2.0",
          "state": {
            "_model_module": "@jupyter-widgets/base",
            "_model_module_version": "1.2.0",
            "_model_name": "LayoutModel",
            "_view_count": null,
            "_view_module": "@jupyter-widgets/base",
            "_view_module_version": "1.2.0",
            "_view_name": "LayoutView",
            "align_content": null,
            "align_items": null,
            "align_self": null,
            "border": null,
            "bottom": null,
            "display": null,
            "flex": null,
            "flex_flow": null,
            "grid_area": null,
            "grid_auto_columns": null,
            "grid_auto_flow": null,
            "grid_auto_rows": null,
            "grid_column": null,
            "grid_gap": null,
            "grid_row": null,
            "grid_template_areas": null,
            "grid_template_columns": null,
            "grid_template_rows": null,
            "height": null,
            "justify_content": null,
            "justify_items": null,
            "left": null,
            "margin": null,
            "max_height": null,
            "max_width": null,
            "min_height": null,
            "min_width": null,
            "object_fit": null,
            "object_position": null,
            "order": null,
            "overflow": null,
            "overflow_x": null,
            "overflow_y": null,
            "padding": null,
            "right": null,
            "top": null,
            "visibility": null,
            "width": null
          }
        },
        "64cf2f60905d42a2852689edfe5168b6": {
          "model_module": "@jupyter-widgets/controls",
          "model_name": "DescriptionStyleModel",
          "model_module_version": "1.5.0",
          "state": {
            "_model_module": "@jupyter-widgets/controls",
            "_model_module_version": "1.5.0",
            "_model_name": "DescriptionStyleModel",
            "_view_count": null,
            "_view_module": "@jupyter-widgets/base",
            "_view_module_version": "1.2.0",
            "_view_name": "StyleView",
            "description_width": ""
          }
        },
        "78171164f1ad43de99266c4e8900a437": {
          "model_module": "@jupyter-widgets/base",
          "model_name": "LayoutModel",
          "model_module_version": "1.2.0",
          "state": {
            "_model_module": "@jupyter-widgets/base",
            "_model_module_version": "1.2.0",
            "_model_name": "LayoutModel",
            "_view_count": null,
            "_view_module": "@jupyter-widgets/base",
            "_view_module_version": "1.2.0",
            "_view_name": "LayoutView",
            "align_content": null,
            "align_items": null,
            "align_self": null,
            "border": null,
            "bottom": null,
            "display": null,
            "flex": null,
            "flex_flow": null,
            "grid_area": null,
            "grid_auto_columns": null,
            "grid_auto_flow": null,
            "grid_auto_rows": null,
            "grid_column": null,
            "grid_gap": null,
            "grid_row": null,
            "grid_template_areas": null,
            "grid_template_columns": null,
            "grid_template_rows": null,
            "height": null,
            "justify_content": null,
            "justify_items": null,
            "left": null,
            "margin": null,
            "max_height": null,
            "max_width": null,
            "min_height": null,
            "min_width": null,
            "object_fit": null,
            "object_position": null,
            "order": null,
            "overflow": null,
            "overflow_x": null,
            "overflow_y": null,
            "padding": null,
            "right": null,
            "top": null,
            "visibility": null,
            "width": null
          }
        },
        "f4555f0a7e404c709e907ad100313d54": {
          "model_module": "@jupyter-widgets/controls",
          "model_name": "ProgressStyleModel",
          "model_module_version": "1.5.0",
          "state": {
            "_model_module": "@jupyter-widgets/controls",
            "_model_module_version": "1.5.0",
            "_model_name": "ProgressStyleModel",
            "_view_count": null,
            "_view_module": "@jupyter-widgets/base",
            "_view_module_version": "1.2.0",
            "_view_name": "StyleView",
            "bar_color": null,
            "description_width": ""
          }
        },
        "67a07a827478489ba05762f4f163c87f": {
          "model_module": "@jupyter-widgets/base",
          "model_name": "LayoutModel",
          "model_module_version": "1.2.0",
          "state": {
            "_model_module": "@jupyter-widgets/base",
            "_model_module_version": "1.2.0",
            "_model_name": "LayoutModel",
            "_view_count": null,
            "_view_module": "@jupyter-widgets/base",
            "_view_module_version": "1.2.0",
            "_view_name": "LayoutView",
            "align_content": null,
            "align_items": null,
            "align_self": null,
            "border": null,
            "bottom": null,
            "display": null,
            "flex": null,
            "flex_flow": null,
            "grid_area": null,
            "grid_auto_columns": null,
            "grid_auto_flow": null,
            "grid_auto_rows": null,
            "grid_column": null,
            "grid_gap": null,
            "grid_row": null,
            "grid_template_areas": null,
            "grid_template_columns": null,
            "grid_template_rows": null,
            "height": null,
            "justify_content": null,
            "justify_items": null,
            "left": null,
            "margin": null,
            "max_height": null,
            "max_width": null,
            "min_height": null,
            "min_width": null,
            "object_fit": null,
            "object_position": null,
            "order": null,
            "overflow": null,
            "overflow_x": null,
            "overflow_y": null,
            "padding": null,
            "right": null,
            "top": null,
            "visibility": null,
            "width": null
          }
        },
        "8c1b1d4c964948acb7c1ba7795abdeb8": {
          "model_module": "@jupyter-widgets/controls",
          "model_name": "DescriptionStyleModel",
          "model_module_version": "1.5.0",
          "state": {
            "_model_module": "@jupyter-widgets/controls",
            "_model_module_version": "1.5.0",
            "_model_name": "DescriptionStyleModel",
            "_view_count": null,
            "_view_module": "@jupyter-widgets/base",
            "_view_module_version": "1.2.0",
            "_view_name": "StyleView",
            "description_width": ""
          }
        },
        "9e83c57bb50f4e6db413a46d4faedae3": {
          "model_module": "@jupyter-widgets/controls",
          "model_name": "HBoxModel",
          "model_module_version": "1.5.0",
          "state": {
            "_dom_classes": [],
            "_model_module": "@jupyter-widgets/controls",
            "_model_module_version": "1.5.0",
            "_model_name": "HBoxModel",
            "_view_count": null,
            "_view_module": "@jupyter-widgets/controls",
            "_view_module_version": "1.5.0",
            "_view_name": "HBoxView",
            "box_style": "",
            "children": [
              "IPY_MODEL_68f5d1e088dd4389bc2ee52e04876092",
              "IPY_MODEL_d53477af902c4dca92cf43e2ef246489",
              "IPY_MODEL_d0923b5caebc44fa994451a0f01c1456"
            ],
            "layout": "IPY_MODEL_2d920c596ef0415c82f4896455cb33a3"
          }
        },
        "68f5d1e088dd4389bc2ee52e04876092": {
          "model_module": "@jupyter-widgets/controls",
          "model_name": "HTMLModel",
          "model_module_version": "1.5.0",
          "state": {
            "_dom_classes": [],
            "_model_module": "@jupyter-widgets/controls",
            "_model_module_version": "1.5.0",
            "_model_name": "HTMLModel",
            "_view_count": null,
            "_view_module": "@jupyter-widgets/controls",
            "_view_module_version": "1.5.0",
            "_view_name": "HTMLView",
            "description": "",
            "description_tooltip": null,
            "layout": "IPY_MODEL_3c1327913c53448e85d50c7324222fbd",
            "placeholder": "​",
            "style": "IPY_MODEL_18b9b638f7af4136be00273116412196",
            "value": "Downloading: 100%"
          }
        },
        "d53477af902c4dca92cf43e2ef246489": {
          "model_module": "@jupyter-widgets/controls",
          "model_name": "FloatProgressModel",
          "model_module_version": "1.5.0",
          "state": {
            "_dom_classes": [],
            "_model_module": "@jupyter-widgets/controls",
            "_model_module_version": "1.5.0",
            "_model_name": "FloatProgressModel",
            "_view_count": null,
            "_view_module": "@jupyter-widgets/controls",
            "_view_module_version": "1.5.0",
            "_view_name": "ProgressView",
            "bar_style": "success",
            "description": "",
            "description_tooltip": null,
            "layout": "IPY_MODEL_054292d10c9a43b69a9de9ec572dfee3",
            "max": 190,
            "min": 0,
            "orientation": "horizontal",
            "style": "IPY_MODEL_72d2b44ed028455589557c0c4dd4b81b",
            "value": 190
          }
        },
        "d0923b5caebc44fa994451a0f01c1456": {
          "model_module": "@jupyter-widgets/controls",
          "model_name": "HTMLModel",
          "model_module_version": "1.5.0",
          "state": {
            "_dom_classes": [],
            "_model_module": "@jupyter-widgets/controls",
            "_model_module_version": "1.5.0",
            "_model_name": "HTMLModel",
            "_view_count": null,
            "_view_module": "@jupyter-widgets/controls",
            "_view_module_version": "1.5.0",
            "_view_name": "HTMLView",
            "description": "",
            "description_tooltip": null,
            "layout": "IPY_MODEL_73fb8a2318a44cb88503690509483389",
            "placeholder": "​",
            "style": "IPY_MODEL_8ba682f237bf4b6daf2c96e136038e4d",
            "value": " 190/190 [00:00&lt;00:00, 1.55kB/s]"
          }
        },
        "2d920c596ef0415c82f4896455cb33a3": {
          "model_module": "@jupyter-widgets/base",
          "model_name": "LayoutModel",
          "model_module_version": "1.2.0",
          "state": {
            "_model_module": "@jupyter-widgets/base",
            "_model_module_version": "1.2.0",
            "_model_name": "LayoutModel",
            "_view_count": null,
            "_view_module": "@jupyter-widgets/base",
            "_view_module_version": "1.2.0",
            "_view_name": "LayoutView",
            "align_content": null,
            "align_items": null,
            "align_self": null,
            "border": null,
            "bottom": null,
            "display": null,
            "flex": null,
            "flex_flow": null,
            "grid_area": null,
            "grid_auto_columns": null,
            "grid_auto_flow": null,
            "grid_auto_rows": null,
            "grid_column": null,
            "grid_gap": null,
            "grid_row": null,
            "grid_template_areas": null,
            "grid_template_columns": null,
            "grid_template_rows": null,
            "height": null,
            "justify_content": null,
            "justify_items": null,
            "left": null,
            "margin": null,
            "max_height": null,
            "max_width": null,
            "min_height": null,
            "min_width": null,
            "object_fit": null,
            "object_position": null,
            "order": null,
            "overflow": null,
            "overflow_x": null,
            "overflow_y": null,
            "padding": null,
            "right": null,
            "top": null,
            "visibility": null,
            "width": null
          }
        },
        "3c1327913c53448e85d50c7324222fbd": {
          "model_module": "@jupyter-widgets/base",
          "model_name": "LayoutModel",
          "model_module_version": "1.2.0",
          "state": {
            "_model_module": "@jupyter-widgets/base",
            "_model_module_version": "1.2.0",
            "_model_name": "LayoutModel",
            "_view_count": null,
            "_view_module": "@jupyter-widgets/base",
            "_view_module_version": "1.2.0",
            "_view_name": "LayoutView",
            "align_content": null,
            "align_items": null,
            "align_self": null,
            "border": null,
            "bottom": null,
            "display": null,
            "flex": null,
            "flex_flow": null,
            "grid_area": null,
            "grid_auto_columns": null,
            "grid_auto_flow": null,
            "grid_auto_rows": null,
            "grid_column": null,
            "grid_gap": null,
            "grid_row": null,
            "grid_template_areas": null,
            "grid_template_columns": null,
            "grid_template_rows": null,
            "height": null,
            "justify_content": null,
            "justify_items": null,
            "left": null,
            "margin": null,
            "max_height": null,
            "max_width": null,
            "min_height": null,
            "min_width": null,
            "object_fit": null,
            "object_position": null,
            "order": null,
            "overflow": null,
            "overflow_x": null,
            "overflow_y": null,
            "padding": null,
            "right": null,
            "top": null,
            "visibility": null,
            "width": null
          }
        },
        "18b9b638f7af4136be00273116412196": {
          "model_module": "@jupyter-widgets/controls",
          "model_name": "DescriptionStyleModel",
          "model_module_version": "1.5.0",
          "state": {
            "_model_module": "@jupyter-widgets/controls",
            "_model_module_version": "1.5.0",
            "_model_name": "DescriptionStyleModel",
            "_view_count": null,
            "_view_module": "@jupyter-widgets/base",
            "_view_module_version": "1.2.0",
            "_view_name": "StyleView",
            "description_width": ""
          }
        },
        "054292d10c9a43b69a9de9ec572dfee3": {
          "model_module": "@jupyter-widgets/base",
          "model_name": "LayoutModel",
          "model_module_version": "1.2.0",
          "state": {
            "_model_module": "@jupyter-widgets/base",
            "_model_module_version": "1.2.0",
            "_model_name": "LayoutModel",
            "_view_count": null,
            "_view_module": "@jupyter-widgets/base",
            "_view_module_version": "1.2.0",
            "_view_name": "LayoutView",
            "align_content": null,
            "align_items": null,
            "align_self": null,
            "border": null,
            "bottom": null,
            "display": null,
            "flex": null,
            "flex_flow": null,
            "grid_area": null,
            "grid_auto_columns": null,
            "grid_auto_flow": null,
            "grid_auto_rows": null,
            "grid_column": null,
            "grid_gap": null,
            "grid_row": null,
            "grid_template_areas": null,
            "grid_template_columns": null,
            "grid_template_rows": null,
            "height": null,
            "justify_content": null,
            "justify_items": null,
            "left": null,
            "margin": null,
            "max_height": null,
            "max_width": null,
            "min_height": null,
            "min_width": null,
            "object_fit": null,
            "object_position": null,
            "order": null,
            "overflow": null,
            "overflow_x": null,
            "overflow_y": null,
            "padding": null,
            "right": null,
            "top": null,
            "visibility": null,
            "width": null
          }
        },
        "72d2b44ed028455589557c0c4dd4b81b": {
          "model_module": "@jupyter-widgets/controls",
          "model_name": "ProgressStyleModel",
          "model_module_version": "1.5.0",
          "state": {
            "_model_module": "@jupyter-widgets/controls",
            "_model_module_version": "1.5.0",
            "_model_name": "ProgressStyleModel",
            "_view_count": null,
            "_view_module": "@jupyter-widgets/base",
            "_view_module_version": "1.2.0",
            "_view_name": "StyleView",
            "bar_color": null,
            "description_width": ""
          }
        },
        "73fb8a2318a44cb88503690509483389": {
          "model_module": "@jupyter-widgets/base",
          "model_name": "LayoutModel",
          "model_module_version": "1.2.0",
          "state": {
            "_model_module": "@jupyter-widgets/base",
            "_model_module_version": "1.2.0",
            "_model_name": "LayoutModel",
            "_view_count": null,
            "_view_module": "@jupyter-widgets/base",
            "_view_module_version": "1.2.0",
            "_view_name": "LayoutView",
            "align_content": null,
            "align_items": null,
            "align_self": null,
            "border": null,
            "bottom": null,
            "display": null,
            "flex": null,
            "flex_flow": null,
            "grid_area": null,
            "grid_auto_columns": null,
            "grid_auto_flow": null,
            "grid_auto_rows": null,
            "grid_column": null,
            "grid_gap": null,
            "grid_row": null,
            "grid_template_areas": null,
            "grid_template_columns": null,
            "grid_template_rows": null,
            "height": null,
            "justify_content": null,
            "justify_items": null,
            "left": null,
            "margin": null,
            "max_height": null,
            "max_width": null,
            "min_height": null,
            "min_width": null,
            "object_fit": null,
            "object_position": null,
            "order": null,
            "overflow": null,
            "overflow_x": null,
            "overflow_y": null,
            "padding": null,
            "right": null,
            "top": null,
            "visibility": null,
            "width": null
          }
        },
        "8ba682f237bf4b6daf2c96e136038e4d": {
          "model_module": "@jupyter-widgets/controls",
          "model_name": "DescriptionStyleModel",
          "model_module_version": "1.5.0",
          "state": {
            "_model_module": "@jupyter-widgets/controls",
            "_model_module_version": "1.5.0",
            "_model_name": "DescriptionStyleModel",
            "_view_count": null,
            "_view_module": "@jupyter-widgets/base",
            "_view_module_version": "1.2.0",
            "_view_name": "StyleView",
            "description_width": ""
          }
        },
        "33e5252e25624e7aab23b7d9ea747ca3": {
          "model_module": "@jupyter-widgets/controls",
          "model_name": "HBoxModel",
          "model_module_version": "1.5.0",
          "state": {
            "_dom_classes": [],
            "_model_module": "@jupyter-widgets/controls",
            "_model_module_version": "1.5.0",
            "_model_name": "HBoxModel",
            "_view_count": null,
            "_view_module": "@jupyter-widgets/controls",
            "_view_module_version": "1.5.0",
            "_view_name": "HBoxView",
            "box_style": "",
            "children": [
              "IPY_MODEL_095e4b36651a4b0dbf75506c74244a18",
              "IPY_MODEL_8c25490d398b41448f32294c86c12814",
              "IPY_MODEL_f438ca20cbb3481cbc5dfcc4561db2ac"
            ],
            "layout": "IPY_MODEL_110037db539e4d749944d26a8e10b352"
          }
        },
        "095e4b36651a4b0dbf75506c74244a18": {
          "model_module": "@jupyter-widgets/controls",
          "model_name": "HTMLModel",
          "model_module_version": "1.5.0",
          "state": {
            "_dom_classes": [],
            "_model_module": "@jupyter-widgets/controls",
            "_model_module_version": "1.5.0",
            "_model_name": "HTMLModel",
            "_view_count": null,
            "_view_module": "@jupyter-widgets/controls",
            "_view_module_version": "1.5.0",
            "_view_name": "HTMLView",
            "description": "",
            "description_tooltip": null,
            "layout": "IPY_MODEL_ad1248342d3548ac9daca19a22839c81",
            "placeholder": "​",
            "style": "IPY_MODEL_60df76c228a147f88af9455d6f259ee2",
            "value": "Downloading: 100%"
          }
        },
        "8c25490d398b41448f32294c86c12814": {
          "model_module": "@jupyter-widgets/controls",
          "model_name": "FloatProgressModel",
          "model_module_version": "1.5.0",
          "state": {
            "_dom_classes": [],
            "_model_module": "@jupyter-widgets/controls",
            "_model_module_version": "1.5.0",
            "_model_name": "FloatProgressModel",
            "_view_count": null,
            "_view_module": "@jupyter-widgets/controls",
            "_view_module_version": "1.5.0",
            "_view_name": "ProgressView",
            "bar_style": "success",
            "description": "",
            "description_tooltip": null,
            "layout": "IPY_MODEL_26f6375a8b8745b78134beef6bfe17f9",
            "max": 10177,
            "min": 0,
            "orientation": "horizontal",
            "style": "IPY_MODEL_c3d2a4ec9b4944d6ab52f6430f34be8c",
            "value": 10177
          }
        },
        "f438ca20cbb3481cbc5dfcc4561db2ac": {
          "model_module": "@jupyter-widgets/controls",
          "model_name": "HTMLModel",
          "model_module_version": "1.5.0",
          "state": {
            "_dom_classes": [],
            "_model_module": "@jupyter-widgets/controls",
            "_model_module_version": "1.5.0",
            "_model_name": "HTMLModel",
            "_view_count": null,
            "_view_module": "@jupyter-widgets/controls",
            "_view_module_version": "1.5.0",
            "_view_name": "HTMLView",
            "description": "",
            "description_tooltip": null,
            "layout": "IPY_MODEL_cc0c78293b3741a3b1aee8e5c4e43a80",
            "placeholder": "​",
            "style": "IPY_MODEL_89079e07702641be98413a2f9b73f53b",
            "value": " 10.2k/10.2k [00:00&lt;00:00, 101kB/s]"
          }
        },
        "110037db539e4d749944d26a8e10b352": {
          "model_module": "@jupyter-widgets/base",
          "model_name": "LayoutModel",
          "model_module_version": "1.2.0",
          "state": {
            "_model_module": "@jupyter-widgets/base",
            "_model_module_version": "1.2.0",
            "_model_name": "LayoutModel",
            "_view_count": null,
            "_view_module": "@jupyter-widgets/base",
            "_view_module_version": "1.2.0",
            "_view_name": "LayoutView",
            "align_content": null,
            "align_items": null,
            "align_self": null,
            "border": null,
            "bottom": null,
            "display": null,
            "flex": null,
            "flex_flow": null,
            "grid_area": null,
            "grid_auto_columns": null,
            "grid_auto_flow": null,
            "grid_auto_rows": null,
            "grid_column": null,
            "grid_gap": null,
            "grid_row": null,
            "grid_template_areas": null,
            "grid_template_columns": null,
            "grid_template_rows": null,
            "height": null,
            "justify_content": null,
            "justify_items": null,
            "left": null,
            "margin": null,
            "max_height": null,
            "max_width": null,
            "min_height": null,
            "min_width": null,
            "object_fit": null,
            "object_position": null,
            "order": null,
            "overflow": null,
            "overflow_x": null,
            "overflow_y": null,
            "padding": null,
            "right": null,
            "top": null,
            "visibility": null,
            "width": null
          }
        },
        "ad1248342d3548ac9daca19a22839c81": {
          "model_module": "@jupyter-widgets/base",
          "model_name": "LayoutModel",
          "model_module_version": "1.2.0",
          "state": {
            "_model_module": "@jupyter-widgets/base",
            "_model_module_version": "1.2.0",
            "_model_name": "LayoutModel",
            "_view_count": null,
            "_view_module": "@jupyter-widgets/base",
            "_view_module_version": "1.2.0",
            "_view_name": "LayoutView",
            "align_content": null,
            "align_items": null,
            "align_self": null,
            "border": null,
            "bottom": null,
            "display": null,
            "flex": null,
            "flex_flow": null,
            "grid_area": null,
            "grid_auto_columns": null,
            "grid_auto_flow": null,
            "grid_auto_rows": null,
            "grid_column": null,
            "grid_gap": null,
            "grid_row": null,
            "grid_template_areas": null,
            "grid_template_columns": null,
            "grid_template_rows": null,
            "height": null,
            "justify_content": null,
            "justify_items": null,
            "left": null,
            "margin": null,
            "max_height": null,
            "max_width": null,
            "min_height": null,
            "min_width": null,
            "object_fit": null,
            "object_position": null,
            "order": null,
            "overflow": null,
            "overflow_x": null,
            "overflow_y": null,
            "padding": null,
            "right": null,
            "top": null,
            "visibility": null,
            "width": null
          }
        },
        "60df76c228a147f88af9455d6f259ee2": {
          "model_module": "@jupyter-widgets/controls",
          "model_name": "DescriptionStyleModel",
          "model_module_version": "1.5.0",
          "state": {
            "_model_module": "@jupyter-widgets/controls",
            "_model_module_version": "1.5.0",
            "_model_name": "DescriptionStyleModel",
            "_view_count": null,
            "_view_module": "@jupyter-widgets/base",
            "_view_module_version": "1.2.0",
            "_view_name": "StyleView",
            "description_width": ""
          }
        },
        "26f6375a8b8745b78134beef6bfe17f9": {
          "model_module": "@jupyter-widgets/base",
          "model_name": "LayoutModel",
          "model_module_version": "1.2.0",
          "state": {
            "_model_module": "@jupyter-widgets/base",
            "_model_module_version": "1.2.0",
            "_model_name": "LayoutModel",
            "_view_count": null,
            "_view_module": "@jupyter-widgets/base",
            "_view_module_version": "1.2.0",
            "_view_name": "LayoutView",
            "align_content": null,
            "align_items": null,
            "align_self": null,
            "border": null,
            "bottom": null,
            "display": null,
            "flex": null,
            "flex_flow": null,
            "grid_area": null,
            "grid_auto_columns": null,
            "grid_auto_flow": null,
            "grid_auto_rows": null,
            "grid_column": null,
            "grid_gap": null,
            "grid_row": null,
            "grid_template_areas": null,
            "grid_template_columns": null,
            "grid_template_rows": null,
            "height": null,
            "justify_content": null,
            "justify_items": null,
            "left": null,
            "margin": null,
            "max_height": null,
            "max_width": null,
            "min_height": null,
            "min_width": null,
            "object_fit": null,
            "object_position": null,
            "order": null,
            "overflow": null,
            "overflow_x": null,
            "overflow_y": null,
            "padding": null,
            "right": null,
            "top": null,
            "visibility": null,
            "width": null
          }
        },
        "c3d2a4ec9b4944d6ab52f6430f34be8c": {
          "model_module": "@jupyter-widgets/controls",
          "model_name": "ProgressStyleModel",
          "model_module_version": "1.5.0",
          "state": {
            "_model_module": "@jupyter-widgets/controls",
            "_model_module_version": "1.5.0",
            "_model_name": "ProgressStyleModel",
            "_view_count": null,
            "_view_module": "@jupyter-widgets/base",
            "_view_module_version": "1.2.0",
            "_view_name": "StyleView",
            "bar_color": null,
            "description_width": ""
          }
        },
        "cc0c78293b3741a3b1aee8e5c4e43a80": {
          "model_module": "@jupyter-widgets/base",
          "model_name": "LayoutModel",
          "model_module_version": "1.2.0",
          "state": {
            "_model_module": "@jupyter-widgets/base",
            "_model_module_version": "1.2.0",
            "_model_name": "LayoutModel",
            "_view_count": null,
            "_view_module": "@jupyter-widgets/base",
            "_view_module_version": "1.2.0",
            "_view_name": "LayoutView",
            "align_content": null,
            "align_items": null,
            "align_self": null,
            "border": null,
            "bottom": null,
            "display": null,
            "flex": null,
            "flex_flow": null,
            "grid_area": null,
            "grid_auto_columns": null,
            "grid_auto_flow": null,
            "grid_auto_rows": null,
            "grid_column": null,
            "grid_gap": null,
            "grid_row": null,
            "grid_template_areas": null,
            "grid_template_columns": null,
            "grid_template_rows": null,
            "height": null,
            "justify_content": null,
            "justify_items": null,
            "left": null,
            "margin": null,
            "max_height": null,
            "max_width": null,
            "min_height": null,
            "min_width": null,
            "object_fit": null,
            "object_position": null,
            "order": null,
            "overflow": null,
            "overflow_x": null,
            "overflow_y": null,
            "padding": null,
            "right": null,
            "top": null,
            "visibility": null,
            "width": null
          }
        },
        "89079e07702641be98413a2f9b73f53b": {
          "model_module": "@jupyter-widgets/controls",
          "model_name": "DescriptionStyleModel",
          "model_module_version": "1.5.0",
          "state": {
            "_model_module": "@jupyter-widgets/controls",
            "_model_module_version": "1.5.0",
            "_model_name": "DescriptionStyleModel",
            "_view_count": null,
            "_view_module": "@jupyter-widgets/base",
            "_view_module_version": "1.2.0",
            "_view_name": "StyleView",
            "description_width": ""
          }
        },
        "c339f1d28e7946f1ab20a237f6eba56e": {
          "model_module": "@jupyter-widgets/controls",
          "model_name": "HBoxModel",
          "model_module_version": "1.5.0",
          "state": {
            "_dom_classes": [],
            "_model_module": "@jupyter-widgets/controls",
            "_model_module_version": "1.5.0",
            "_model_name": "HBoxModel",
            "_view_count": null,
            "_view_module": "@jupyter-widgets/controls",
            "_view_module_version": "1.5.0",
            "_view_name": "HBoxView",
            "box_style": "",
            "children": [
              "IPY_MODEL_dbeae876ddd541cca2a1375b8abe14c8",
              "IPY_MODEL_fc293a84ce1c4024b9d804c43a8a405f",
              "IPY_MODEL_34265483cec9427c92cade7796c832a6"
            ],
            "layout": "IPY_MODEL_6cb461531b6647ea832b5f7dba552354"
          }
        },
        "dbeae876ddd541cca2a1375b8abe14c8": {
          "model_module": "@jupyter-widgets/controls",
          "model_name": "HTMLModel",
          "model_module_version": "1.5.0",
          "state": {
            "_dom_classes": [],
            "_model_module": "@jupyter-widgets/controls",
            "_model_module_version": "1.5.0",
            "_model_name": "HTMLModel",
            "_view_count": null,
            "_view_module": "@jupyter-widgets/controls",
            "_view_module_version": "1.5.0",
            "_view_name": "HTMLView",
            "description": "",
            "description_tooltip": null,
            "layout": "IPY_MODEL_cba3af018ece4fb18086fdd3a8ca43de",
            "placeholder": "​",
            "style": "IPY_MODEL_232c9226270a4a5a914d206ba107eccb",
            "value": "Downloading: 100%"
          }
        },
        "fc293a84ce1c4024b9d804c43a8a405f": {
          "model_module": "@jupyter-widgets/controls",
          "model_name": "FloatProgressModel",
          "model_module_version": "1.5.0",
          "state": {
            "_dom_classes": [],
            "_model_module": "@jupyter-widgets/controls",
            "_model_module_version": "1.5.0",
            "_model_name": "FloatProgressModel",
            "_view_count": null,
            "_view_module": "@jupyter-widgets/controls",
            "_view_module_version": "1.5.0",
            "_view_name": "ProgressView",
            "bar_style": "success",
            "description": "",
            "description_tooltip": null,
            "layout": "IPY_MODEL_525256ea39cc4759b164d0fd20555c2e",
            "max": 612,
            "min": 0,
            "orientation": "horizontal",
            "style": "IPY_MODEL_a011e181253f448681c98a3cab91cd53",
            "value": 612
          }
        },
        "34265483cec9427c92cade7796c832a6": {
          "model_module": "@jupyter-widgets/controls",
          "model_name": "HTMLModel",
          "model_module_version": "1.5.0",
          "state": {
            "_dom_classes": [],
            "_model_module": "@jupyter-widgets/controls",
            "_model_module_version": "1.5.0",
            "_model_name": "HTMLModel",
            "_view_count": null,
            "_view_module": "@jupyter-widgets/controls",
            "_view_module_version": "1.5.0",
            "_view_name": "HTMLView",
            "description": "",
            "description_tooltip": null,
            "layout": "IPY_MODEL_44cce37575704f23b3fc952b2d4d441c",
            "placeholder": "​",
            "style": "IPY_MODEL_dc4eb8e7708c48ed9a7a3804e9d770e1",
            "value": " 612/612 [00:00&lt;00:00, 4.19kB/s]"
          }
        },
        "6cb461531b6647ea832b5f7dba552354": {
          "model_module": "@jupyter-widgets/base",
          "model_name": "LayoutModel",
          "model_module_version": "1.2.0",
          "state": {
            "_model_module": "@jupyter-widgets/base",
            "_model_module_version": "1.2.0",
            "_model_name": "LayoutModel",
            "_view_count": null,
            "_view_module": "@jupyter-widgets/base",
            "_view_module_version": "1.2.0",
            "_view_name": "LayoutView",
            "align_content": null,
            "align_items": null,
            "align_self": null,
            "border": null,
            "bottom": null,
            "display": null,
            "flex": null,
            "flex_flow": null,
            "grid_area": null,
            "grid_auto_columns": null,
            "grid_auto_flow": null,
            "grid_auto_rows": null,
            "grid_column": null,
            "grid_gap": null,
            "grid_row": null,
            "grid_template_areas": null,
            "grid_template_columns": null,
            "grid_template_rows": null,
            "height": null,
            "justify_content": null,
            "justify_items": null,
            "left": null,
            "margin": null,
            "max_height": null,
            "max_width": null,
            "min_height": null,
            "min_width": null,
            "object_fit": null,
            "object_position": null,
            "order": null,
            "overflow": null,
            "overflow_x": null,
            "overflow_y": null,
            "padding": null,
            "right": null,
            "top": null,
            "visibility": null,
            "width": null
          }
        },
        "cba3af018ece4fb18086fdd3a8ca43de": {
          "model_module": "@jupyter-widgets/base",
          "model_name": "LayoutModel",
          "model_module_version": "1.2.0",
          "state": {
            "_model_module": "@jupyter-widgets/base",
            "_model_module_version": "1.2.0",
            "_model_name": "LayoutModel",
            "_view_count": null,
            "_view_module": "@jupyter-widgets/base",
            "_view_module_version": "1.2.0",
            "_view_name": "LayoutView",
            "align_content": null,
            "align_items": null,
            "align_self": null,
            "border": null,
            "bottom": null,
            "display": null,
            "flex": null,
            "flex_flow": null,
            "grid_area": null,
            "grid_auto_columns": null,
            "grid_auto_flow": null,
            "grid_auto_rows": null,
            "grid_column": null,
            "grid_gap": null,
            "grid_row": null,
            "grid_template_areas": null,
            "grid_template_columns": null,
            "grid_template_rows": null,
            "height": null,
            "justify_content": null,
            "justify_items": null,
            "left": null,
            "margin": null,
            "max_height": null,
            "max_width": null,
            "min_height": null,
            "min_width": null,
            "object_fit": null,
            "object_position": null,
            "order": null,
            "overflow": null,
            "overflow_x": null,
            "overflow_y": null,
            "padding": null,
            "right": null,
            "top": null,
            "visibility": null,
            "width": null
          }
        },
        "232c9226270a4a5a914d206ba107eccb": {
          "model_module": "@jupyter-widgets/controls",
          "model_name": "DescriptionStyleModel",
          "model_module_version": "1.5.0",
          "state": {
            "_model_module": "@jupyter-widgets/controls",
            "_model_module_version": "1.5.0",
            "_model_name": "DescriptionStyleModel",
            "_view_count": null,
            "_view_module": "@jupyter-widgets/base",
            "_view_module_version": "1.2.0",
            "_view_name": "StyleView",
            "description_width": ""
          }
        },
        "525256ea39cc4759b164d0fd20555c2e": {
          "model_module": "@jupyter-widgets/base",
          "model_name": "LayoutModel",
          "model_module_version": "1.2.0",
          "state": {
            "_model_module": "@jupyter-widgets/base",
            "_model_module_version": "1.2.0",
            "_model_name": "LayoutModel",
            "_view_count": null,
            "_view_module": "@jupyter-widgets/base",
            "_view_module_version": "1.2.0",
            "_view_name": "LayoutView",
            "align_content": null,
            "align_items": null,
            "align_self": null,
            "border": null,
            "bottom": null,
            "display": null,
            "flex": null,
            "flex_flow": null,
            "grid_area": null,
            "grid_auto_columns": null,
            "grid_auto_flow": null,
            "grid_auto_rows": null,
            "grid_column": null,
            "grid_gap": null,
            "grid_row": null,
            "grid_template_areas": null,
            "grid_template_columns": null,
            "grid_template_rows": null,
            "height": null,
            "justify_content": null,
            "justify_items": null,
            "left": null,
            "margin": null,
            "max_height": null,
            "max_width": null,
            "min_height": null,
            "min_width": null,
            "object_fit": null,
            "object_position": null,
            "order": null,
            "overflow": null,
            "overflow_x": null,
            "overflow_y": null,
            "padding": null,
            "right": null,
            "top": null,
            "visibility": null,
            "width": null
          }
        },
        "a011e181253f448681c98a3cab91cd53": {
          "model_module": "@jupyter-widgets/controls",
          "model_name": "ProgressStyleModel",
          "model_module_version": "1.5.0",
          "state": {
            "_model_module": "@jupyter-widgets/controls",
            "_model_module_version": "1.5.0",
            "_model_name": "ProgressStyleModel",
            "_view_count": null,
            "_view_module": "@jupyter-widgets/base",
            "_view_module_version": "1.2.0",
            "_view_name": "StyleView",
            "bar_color": null,
            "description_width": ""
          }
        },
        "44cce37575704f23b3fc952b2d4d441c": {
          "model_module": "@jupyter-widgets/base",
          "model_name": "LayoutModel",
          "model_module_version": "1.2.0",
          "state": {
            "_model_module": "@jupyter-widgets/base",
            "_model_module_version": "1.2.0",
            "_model_name": "LayoutModel",
            "_view_count": null,
            "_view_module": "@jupyter-widgets/base",
            "_view_module_version": "1.2.0",
            "_view_name": "LayoutView",
            "align_content": null,
            "align_items": null,
            "align_self": null,
            "border": null,
            "bottom": null,
            "display": null,
            "flex": null,
            "flex_flow": null,
            "grid_area": null,
            "grid_auto_columns": null,
            "grid_auto_flow": null,
            "grid_auto_rows": null,
            "grid_column": null,
            "grid_gap": null,
            "grid_row": null,
            "grid_template_areas": null,
            "grid_template_columns": null,
            "grid_template_rows": null,
            "height": null,
            "justify_content": null,
            "justify_items": null,
            "left": null,
            "margin": null,
            "max_height": null,
            "max_width": null,
            "min_height": null,
            "min_width": null,
            "object_fit": null,
            "object_position": null,
            "order": null,
            "overflow": null,
            "overflow_x": null,
            "overflow_y": null,
            "padding": null,
            "right": null,
            "top": null,
            "visibility": null,
            "width": null
          }
        },
        "dc4eb8e7708c48ed9a7a3804e9d770e1": {
          "model_module": "@jupyter-widgets/controls",
          "model_name": "DescriptionStyleModel",
          "model_module_version": "1.5.0",
          "state": {
            "_model_module": "@jupyter-widgets/controls",
            "_model_module_version": "1.5.0",
            "_model_name": "DescriptionStyleModel",
            "_view_count": null,
            "_view_module": "@jupyter-widgets/base",
            "_view_module_version": "1.2.0",
            "_view_name": "StyleView",
            "description_width": ""
          }
        },
        "a042e4c688994ebcb4868dff1374cd0b": {
          "model_module": "@jupyter-widgets/controls",
          "model_name": "HBoxModel",
          "model_module_version": "1.5.0",
          "state": {
            "_dom_classes": [],
            "_model_module": "@jupyter-widgets/controls",
            "_model_module_version": "1.5.0",
            "_model_name": "HBoxModel",
            "_view_count": null,
            "_view_module": "@jupyter-widgets/controls",
            "_view_module_version": "1.5.0",
            "_view_name": "HBoxView",
            "box_style": "",
            "children": [
              "IPY_MODEL_2b299fd823344486b97682aafbfcd33e",
              "IPY_MODEL_2475f394210141d4a959155214f35d4c",
              "IPY_MODEL_89f762d278cf4081a982c81bddf7a280"
            ],
            "layout": "IPY_MODEL_409a6b98ddef451787afa47b2dd4d2f4"
          }
        },
        "2b299fd823344486b97682aafbfcd33e": {
          "model_module": "@jupyter-widgets/controls",
          "model_name": "HTMLModel",
          "model_module_version": "1.5.0",
          "state": {
            "_dom_classes": [],
            "_model_module": "@jupyter-widgets/controls",
            "_model_module_version": "1.5.0",
            "_model_name": "HTMLModel",
            "_view_count": null,
            "_view_module": "@jupyter-widgets/controls",
            "_view_module_version": "1.5.0",
            "_view_name": "HTMLView",
            "description": "",
            "description_tooltip": null,
            "layout": "IPY_MODEL_58547f4571d548c2b846d41d62b420b3",
            "placeholder": "​",
            "style": "IPY_MODEL_9603c8ef2cba48a48441b2852b5e50b0",
            "value": "Downloading: 100%"
          }
        },
        "2475f394210141d4a959155214f35d4c": {
          "model_module": "@jupyter-widgets/controls",
          "model_name": "FloatProgressModel",
          "model_module_version": "1.5.0",
          "state": {
            "_dom_classes": [],
            "_model_module": "@jupyter-widgets/controls",
            "_model_module_version": "1.5.0",
            "_model_name": "FloatProgressModel",
            "_view_count": null,
            "_view_module": "@jupyter-widgets/controls",
            "_view_module_version": "1.5.0",
            "_view_name": "ProgressView",
            "bar_style": "success",
            "description": "",
            "description_tooltip": null,
            "layout": "IPY_MODEL_67676a64ad884fec9c54cdd5662fd1e2",
            "max": 116,
            "min": 0,
            "orientation": "horizontal",
            "style": "IPY_MODEL_51e2807883ab4a808e674c69385ed243",
            "value": 116
          }
        },
        "89f762d278cf4081a982c81bddf7a280": {
          "model_module": "@jupyter-widgets/controls",
          "model_name": "HTMLModel",
          "model_module_version": "1.5.0",
          "state": {
            "_dom_classes": [],
            "_model_module": "@jupyter-widgets/controls",
            "_model_module_version": "1.5.0",
            "_model_name": "HTMLModel",
            "_view_count": null,
            "_view_module": "@jupyter-widgets/controls",
            "_view_module_version": "1.5.0",
            "_view_name": "HTMLView",
            "description": "",
            "description_tooltip": null,
            "layout": "IPY_MODEL_0b3f077f71f04e5590227a3098da5449",
            "placeholder": "​",
            "style": "IPY_MODEL_eb1f6ea4ac7f475390408e4da137161b",
            "value": " 116/116 [00:00&lt;00:00, 1.17kB/s]"
          }
        },
        "409a6b98ddef451787afa47b2dd4d2f4": {
          "model_module": "@jupyter-widgets/base",
          "model_name": "LayoutModel",
          "model_module_version": "1.2.0",
          "state": {
            "_model_module": "@jupyter-widgets/base",
            "_model_module_version": "1.2.0",
            "_model_name": "LayoutModel",
            "_view_count": null,
            "_view_module": "@jupyter-widgets/base",
            "_view_module_version": "1.2.0",
            "_view_name": "LayoutView",
            "align_content": null,
            "align_items": null,
            "align_self": null,
            "border": null,
            "bottom": null,
            "display": null,
            "flex": null,
            "flex_flow": null,
            "grid_area": null,
            "grid_auto_columns": null,
            "grid_auto_flow": null,
            "grid_auto_rows": null,
            "grid_column": null,
            "grid_gap": null,
            "grid_row": null,
            "grid_template_areas": null,
            "grid_template_columns": null,
            "grid_template_rows": null,
            "height": null,
            "justify_content": null,
            "justify_items": null,
            "left": null,
            "margin": null,
            "max_height": null,
            "max_width": null,
            "min_height": null,
            "min_width": null,
            "object_fit": null,
            "object_position": null,
            "order": null,
            "overflow": null,
            "overflow_x": null,
            "overflow_y": null,
            "padding": null,
            "right": null,
            "top": null,
            "visibility": null,
            "width": null
          }
        },
        "58547f4571d548c2b846d41d62b420b3": {
          "model_module": "@jupyter-widgets/base",
          "model_name": "LayoutModel",
          "model_module_version": "1.2.0",
          "state": {
            "_model_module": "@jupyter-widgets/base",
            "_model_module_version": "1.2.0",
            "_model_name": "LayoutModel",
            "_view_count": null,
            "_view_module": "@jupyter-widgets/base",
            "_view_module_version": "1.2.0",
            "_view_name": "LayoutView",
            "align_content": null,
            "align_items": null,
            "align_self": null,
            "border": null,
            "bottom": null,
            "display": null,
            "flex": null,
            "flex_flow": null,
            "grid_area": null,
            "grid_auto_columns": null,
            "grid_auto_flow": null,
            "grid_auto_rows": null,
            "grid_column": null,
            "grid_gap": null,
            "grid_row": null,
            "grid_template_areas": null,
            "grid_template_columns": null,
            "grid_template_rows": null,
            "height": null,
            "justify_content": null,
            "justify_items": null,
            "left": null,
            "margin": null,
            "max_height": null,
            "max_width": null,
            "min_height": null,
            "min_width": null,
            "object_fit": null,
            "object_position": null,
            "order": null,
            "overflow": null,
            "overflow_x": null,
            "overflow_y": null,
            "padding": null,
            "right": null,
            "top": null,
            "visibility": null,
            "width": null
          }
        },
        "9603c8ef2cba48a48441b2852b5e50b0": {
          "model_module": "@jupyter-widgets/controls",
          "model_name": "DescriptionStyleModel",
          "model_module_version": "1.5.0",
          "state": {
            "_model_module": "@jupyter-widgets/controls",
            "_model_module_version": "1.5.0",
            "_model_name": "DescriptionStyleModel",
            "_view_count": null,
            "_view_module": "@jupyter-widgets/base",
            "_view_module_version": "1.2.0",
            "_view_name": "StyleView",
            "description_width": ""
          }
        },
        "67676a64ad884fec9c54cdd5662fd1e2": {
          "model_module": "@jupyter-widgets/base",
          "model_name": "LayoutModel",
          "model_module_version": "1.2.0",
          "state": {
            "_model_module": "@jupyter-widgets/base",
            "_model_module_version": "1.2.0",
            "_model_name": "LayoutModel",
            "_view_count": null,
            "_view_module": "@jupyter-widgets/base",
            "_view_module_version": "1.2.0",
            "_view_name": "LayoutView",
            "align_content": null,
            "align_items": null,
            "align_self": null,
            "border": null,
            "bottom": null,
            "display": null,
            "flex": null,
            "flex_flow": null,
            "grid_area": null,
            "grid_auto_columns": null,
            "grid_auto_flow": null,
            "grid_auto_rows": null,
            "grid_column": null,
            "grid_gap": null,
            "grid_row": null,
            "grid_template_areas": null,
            "grid_template_columns": null,
            "grid_template_rows": null,
            "height": null,
            "justify_content": null,
            "justify_items": null,
            "left": null,
            "margin": null,
            "max_height": null,
            "max_width": null,
            "min_height": null,
            "min_width": null,
            "object_fit": null,
            "object_position": null,
            "order": null,
            "overflow": null,
            "overflow_x": null,
            "overflow_y": null,
            "padding": null,
            "right": null,
            "top": null,
            "visibility": null,
            "width": null
          }
        },
        "51e2807883ab4a808e674c69385ed243": {
          "model_module": "@jupyter-widgets/controls",
          "model_name": "ProgressStyleModel",
          "model_module_version": "1.5.0",
          "state": {
            "_model_module": "@jupyter-widgets/controls",
            "_model_module_version": "1.5.0",
            "_model_name": "ProgressStyleModel",
            "_view_count": null,
            "_view_module": "@jupyter-widgets/base",
            "_view_module_version": "1.2.0",
            "_view_name": "StyleView",
            "bar_color": null,
            "description_width": ""
          }
        },
        "0b3f077f71f04e5590227a3098da5449": {
          "model_module": "@jupyter-widgets/base",
          "model_name": "LayoutModel",
          "model_module_version": "1.2.0",
          "state": {
            "_model_module": "@jupyter-widgets/base",
            "_model_module_version": "1.2.0",
            "_model_name": "LayoutModel",
            "_view_count": null,
            "_view_module": "@jupyter-widgets/base",
            "_view_module_version": "1.2.0",
            "_view_name": "LayoutView",
            "align_content": null,
            "align_items": null,
            "align_self": null,
            "border": null,
            "bottom": null,
            "display": null,
            "flex": null,
            "flex_flow": null,
            "grid_area": null,
            "grid_auto_columns": null,
            "grid_auto_flow": null,
            "grid_auto_rows": null,
            "grid_column": null,
            "grid_gap": null,
            "grid_row": null,
            "grid_template_areas": null,
            "grid_template_columns": null,
            "grid_template_rows": null,
            "height": null,
            "justify_content": null,
            "justify_items": null,
            "left": null,
            "margin": null,
            "max_height": null,
            "max_width": null,
            "min_height": null,
            "min_width": null,
            "object_fit": null,
            "object_position": null,
            "order": null,
            "overflow": null,
            "overflow_x": null,
            "overflow_y": null,
            "padding": null,
            "right": null,
            "top": null,
            "visibility": null,
            "width": null
          }
        },
        "eb1f6ea4ac7f475390408e4da137161b": {
          "model_module": "@jupyter-widgets/controls",
          "model_name": "DescriptionStyleModel",
          "model_module_version": "1.5.0",
          "state": {
            "_model_module": "@jupyter-widgets/controls",
            "_model_module_version": "1.5.0",
            "_model_name": "DescriptionStyleModel",
            "_view_count": null,
            "_view_module": "@jupyter-widgets/base",
            "_view_module_version": "1.2.0",
            "_view_name": "StyleView",
            "description_width": ""
          }
        },
        "0dea1d8f90bd43a4bc26949185020997": {
          "model_module": "@jupyter-widgets/controls",
          "model_name": "HBoxModel",
          "model_module_version": "1.5.0",
          "state": {
            "_dom_classes": [],
            "_model_module": "@jupyter-widgets/controls",
            "_model_module_version": "1.5.0",
            "_model_name": "HBoxModel",
            "_view_count": null,
            "_view_module": "@jupyter-widgets/controls",
            "_view_module_version": "1.5.0",
            "_view_name": "HBoxView",
            "box_style": "",
            "children": [
              "IPY_MODEL_cf2d5032c0cc46e396db2ff5e52c06b4",
              "IPY_MODEL_ffecc13a0b36478cb80a75bdf3b650a9",
              "IPY_MODEL_72fd9a093b3e48c9a68e8f57ce033042"
            ],
            "layout": "IPY_MODEL_42b4dc383656414ca1cbe15eb31a79fa"
          }
        },
        "cf2d5032c0cc46e396db2ff5e52c06b4": {
          "model_module": "@jupyter-widgets/controls",
          "model_name": "HTMLModel",
          "model_module_version": "1.5.0",
          "state": {
            "_dom_classes": [],
            "_model_module": "@jupyter-widgets/controls",
            "_model_module_version": "1.5.0",
            "_model_name": "HTMLModel",
            "_view_count": null,
            "_view_module": "@jupyter-widgets/controls",
            "_view_module_version": "1.5.0",
            "_view_name": "HTMLView",
            "description": "",
            "description_tooltip": null,
            "layout": "IPY_MODEL_db1eb843b812438fadb8752351a58eb4",
            "placeholder": "​",
            "style": "IPY_MODEL_da02feb2bff74c4e96ce4cca2abac4ef",
            "value": "Downloading: 100%"
          }
        },
        "ffecc13a0b36478cb80a75bdf3b650a9": {
          "model_module": "@jupyter-widgets/controls",
          "model_name": "FloatProgressModel",
          "model_module_version": "1.5.0",
          "state": {
            "_dom_classes": [],
            "_model_module": "@jupyter-widgets/controls",
            "_model_module_version": "1.5.0",
            "_model_name": "FloatProgressModel",
            "_view_count": null,
            "_view_module": "@jupyter-widgets/controls",
            "_view_module_version": "1.5.0",
            "_view_name": "ProgressView",
            "bar_style": "success",
            "description": "",
            "description_tooltip": null,
            "layout": "IPY_MODEL_12c7dbe240904883a186d5bebfd9a974",
            "max": 39265,
            "min": 0,
            "orientation": "horizontal",
            "style": "IPY_MODEL_a3ea861ce0894a899da26b17e13af33c",
            "value": 39265
          }
        },
        "72fd9a093b3e48c9a68e8f57ce033042": {
          "model_module": "@jupyter-widgets/controls",
          "model_name": "HTMLModel",
          "model_module_version": "1.5.0",
          "state": {
            "_dom_classes": [],
            "_model_module": "@jupyter-widgets/controls",
            "_model_module_version": "1.5.0",
            "_model_name": "HTMLModel",
            "_view_count": null,
            "_view_module": "@jupyter-widgets/controls",
            "_view_module_version": "1.5.0",
            "_view_name": "HTMLView",
            "description": "",
            "description_tooltip": null,
            "layout": "IPY_MODEL_52a8923459324418aeae67cf66c9ed11",
            "placeholder": "​",
            "style": "IPY_MODEL_61968817bb7a4790aac178d2bdc076f1",
            "value": " 39.3k/39.3k [00:00&lt;00:00, 465kB/s]"
          }
        },
        "42b4dc383656414ca1cbe15eb31a79fa": {
          "model_module": "@jupyter-widgets/base",
          "model_name": "LayoutModel",
          "model_module_version": "1.2.0",
          "state": {
            "_model_module": "@jupyter-widgets/base",
            "_model_module_version": "1.2.0",
            "_model_name": "LayoutModel",
            "_view_count": null,
            "_view_module": "@jupyter-widgets/base",
            "_view_module_version": "1.2.0",
            "_view_name": "LayoutView",
            "align_content": null,
            "align_items": null,
            "align_self": null,
            "border": null,
            "bottom": null,
            "display": null,
            "flex": null,
            "flex_flow": null,
            "grid_area": null,
            "grid_auto_columns": null,
            "grid_auto_flow": null,
            "grid_auto_rows": null,
            "grid_column": null,
            "grid_gap": null,
            "grid_row": null,
            "grid_template_areas": null,
            "grid_template_columns": null,
            "grid_template_rows": null,
            "height": null,
            "justify_content": null,
            "justify_items": null,
            "left": null,
            "margin": null,
            "max_height": null,
            "max_width": null,
            "min_height": null,
            "min_width": null,
            "object_fit": null,
            "object_position": null,
            "order": null,
            "overflow": null,
            "overflow_x": null,
            "overflow_y": null,
            "padding": null,
            "right": null,
            "top": null,
            "visibility": null,
            "width": null
          }
        },
        "db1eb843b812438fadb8752351a58eb4": {
          "model_module": "@jupyter-widgets/base",
          "model_name": "LayoutModel",
          "model_module_version": "1.2.0",
          "state": {
            "_model_module": "@jupyter-widgets/base",
            "_model_module_version": "1.2.0",
            "_model_name": "LayoutModel",
            "_view_count": null,
            "_view_module": "@jupyter-widgets/base",
            "_view_module_version": "1.2.0",
            "_view_name": "LayoutView",
            "align_content": null,
            "align_items": null,
            "align_self": null,
            "border": null,
            "bottom": null,
            "display": null,
            "flex": null,
            "flex_flow": null,
            "grid_area": null,
            "grid_auto_columns": null,
            "grid_auto_flow": null,
            "grid_auto_rows": null,
            "grid_column": null,
            "grid_gap": null,
            "grid_row": null,
            "grid_template_areas": null,
            "grid_template_columns": null,
            "grid_template_rows": null,
            "height": null,
            "justify_content": null,
            "justify_items": null,
            "left": null,
            "margin": null,
            "max_height": null,
            "max_width": null,
            "min_height": null,
            "min_width": null,
            "object_fit": null,
            "object_position": null,
            "order": null,
            "overflow": null,
            "overflow_x": null,
            "overflow_y": null,
            "padding": null,
            "right": null,
            "top": null,
            "visibility": null,
            "width": null
          }
        },
        "da02feb2bff74c4e96ce4cca2abac4ef": {
          "model_module": "@jupyter-widgets/controls",
          "model_name": "DescriptionStyleModel",
          "model_module_version": "1.5.0",
          "state": {
            "_model_module": "@jupyter-widgets/controls",
            "_model_module_version": "1.5.0",
            "_model_name": "DescriptionStyleModel",
            "_view_count": null,
            "_view_module": "@jupyter-widgets/base",
            "_view_module_version": "1.2.0",
            "_view_name": "StyleView",
            "description_width": ""
          }
        },
        "12c7dbe240904883a186d5bebfd9a974": {
          "model_module": "@jupyter-widgets/base",
          "model_name": "LayoutModel",
          "model_module_version": "1.2.0",
          "state": {
            "_model_module": "@jupyter-widgets/base",
            "_model_module_version": "1.2.0",
            "_model_name": "LayoutModel",
            "_view_count": null,
            "_view_module": "@jupyter-widgets/base",
            "_view_module_version": "1.2.0",
            "_view_name": "LayoutView",
            "align_content": null,
            "align_items": null,
            "align_self": null,
            "border": null,
            "bottom": null,
            "display": null,
            "flex": null,
            "flex_flow": null,
            "grid_area": null,
            "grid_auto_columns": null,
            "grid_auto_flow": null,
            "grid_auto_rows": null,
            "grid_column": null,
            "grid_gap": null,
            "grid_row": null,
            "grid_template_areas": null,
            "grid_template_columns": null,
            "grid_template_rows": null,
            "height": null,
            "justify_content": null,
            "justify_items": null,
            "left": null,
            "margin": null,
            "max_height": null,
            "max_width": null,
            "min_height": null,
            "min_width": null,
            "object_fit": null,
            "object_position": null,
            "order": null,
            "overflow": null,
            "overflow_x": null,
            "overflow_y": null,
            "padding": null,
            "right": null,
            "top": null,
            "visibility": null,
            "width": null
          }
        },
        "a3ea861ce0894a899da26b17e13af33c": {
          "model_module": "@jupyter-widgets/controls",
          "model_name": "ProgressStyleModel",
          "model_module_version": "1.5.0",
          "state": {
            "_model_module": "@jupyter-widgets/controls",
            "_model_module_version": "1.5.0",
            "_model_name": "ProgressStyleModel",
            "_view_count": null,
            "_view_module": "@jupyter-widgets/base",
            "_view_module_version": "1.2.0",
            "_view_name": "StyleView",
            "bar_color": null,
            "description_width": ""
          }
        },
        "52a8923459324418aeae67cf66c9ed11": {
          "model_module": "@jupyter-widgets/base",
          "model_name": "LayoutModel",
          "model_module_version": "1.2.0",
          "state": {
            "_model_module": "@jupyter-widgets/base",
            "_model_module_version": "1.2.0",
            "_model_name": "LayoutModel",
            "_view_count": null,
            "_view_module": "@jupyter-widgets/base",
            "_view_module_version": "1.2.0",
            "_view_name": "LayoutView",
            "align_content": null,
            "align_items": null,
            "align_self": null,
            "border": null,
            "bottom": null,
            "display": null,
            "flex": null,
            "flex_flow": null,
            "grid_area": null,
            "grid_auto_columns": null,
            "grid_auto_flow": null,
            "grid_auto_rows": null,
            "grid_column": null,
            "grid_gap": null,
            "grid_row": null,
            "grid_template_areas": null,
            "grid_template_columns": null,
            "grid_template_rows": null,
            "height": null,
            "justify_content": null,
            "justify_items": null,
            "left": null,
            "margin": null,
            "max_height": null,
            "max_width": null,
            "min_height": null,
            "min_width": null,
            "object_fit": null,
            "object_position": null,
            "order": null,
            "overflow": null,
            "overflow_x": null,
            "overflow_y": null,
            "padding": null,
            "right": null,
            "top": null,
            "visibility": null,
            "width": null
          }
        },
        "61968817bb7a4790aac178d2bdc076f1": {
          "model_module": "@jupyter-widgets/controls",
          "model_name": "DescriptionStyleModel",
          "model_module_version": "1.5.0",
          "state": {
            "_model_module": "@jupyter-widgets/controls",
            "_model_module_version": "1.5.0",
            "_model_name": "DescriptionStyleModel",
            "_view_count": null,
            "_view_module": "@jupyter-widgets/base",
            "_view_module_version": "1.2.0",
            "_view_name": "StyleView",
            "description_width": ""
          }
        },
        "9e29ab2dd10b4f3488ba507d96d44747": {
          "model_module": "@jupyter-widgets/controls",
          "model_name": "HBoxModel",
          "model_module_version": "1.5.0",
          "state": {
            "_dom_classes": [],
            "_model_module": "@jupyter-widgets/controls",
            "_model_module_version": "1.5.0",
            "_model_name": "HBoxModel",
            "_view_count": null,
            "_view_module": "@jupyter-widgets/controls",
            "_view_module_version": "1.5.0",
            "_view_name": "HBoxView",
            "box_style": "",
            "children": [
              "IPY_MODEL_e587be5367e245d7b5fe67c1330b6e65",
              "IPY_MODEL_5817a4eb693743f99c37f46a30662d16",
              "IPY_MODEL_3291b2a844c54641aa745983d316e157"
            ],
            "layout": "IPY_MODEL_e082b33e76d84ace854b6dcd80654f79"
          }
        },
        "e587be5367e245d7b5fe67c1330b6e65": {
          "model_module": "@jupyter-widgets/controls",
          "model_name": "HTMLModel",
          "model_module_version": "1.5.0",
          "state": {
            "_dom_classes": [],
            "_model_module": "@jupyter-widgets/controls",
            "_model_module_version": "1.5.0",
            "_model_name": "HTMLModel",
            "_view_count": null,
            "_view_module": "@jupyter-widgets/controls",
            "_view_module_version": "1.5.0",
            "_view_name": "HTMLView",
            "description": "",
            "description_tooltip": null,
            "layout": "IPY_MODEL_8536dfb16c7e4cc2a97f395396ba125c",
            "placeholder": "​",
            "style": "IPY_MODEL_12cf961d57604a3b96862b5965081eec",
            "value": "Downloading: 100%"
          }
        },
        "5817a4eb693743f99c37f46a30662d16": {
          "model_module": "@jupyter-widgets/controls",
          "model_name": "FloatProgressModel",
          "model_module_version": "1.5.0",
          "state": {
            "_dom_classes": [],
            "_model_module": "@jupyter-widgets/controls",
            "_model_module_version": "1.5.0",
            "_model_name": "FloatProgressModel",
            "_view_count": null,
            "_view_module": "@jupyter-widgets/controls",
            "_view_module_version": "1.5.0",
            "_view_name": "ProgressView",
            "bar_style": "success",
            "description": "",
            "description_tooltip": null,
            "layout": "IPY_MODEL_dbcb98bf83644e93b1a0aa3574a1ce96",
            "max": 349,
            "min": 0,
            "orientation": "horizontal",
            "style": "IPY_MODEL_c64dbe1cbe2a49549dca9ad817bde3b4",
            "value": 349
          }
        },
        "3291b2a844c54641aa745983d316e157": {
          "model_module": "@jupyter-widgets/controls",
          "model_name": "HTMLModel",
          "model_module_version": "1.5.0",
          "state": {
            "_dom_classes": [],
            "_model_module": "@jupyter-widgets/controls",
            "_model_module_version": "1.5.0",
            "_model_name": "HTMLModel",
            "_view_count": null,
            "_view_module": "@jupyter-widgets/controls",
            "_view_module_version": "1.5.0",
            "_view_name": "HTMLView",
            "description": "",
            "description_tooltip": null,
            "layout": "IPY_MODEL_a33350e55bdd40adbb3a326814ef5509",
            "placeholder": "​",
            "style": "IPY_MODEL_ea0b44d8800946c4a5d740b14bbf92f0",
            "value": " 349/349 [00:00&lt;00:00, 2.51kB/s]"
          }
        },
        "e082b33e76d84ace854b6dcd80654f79": {
          "model_module": "@jupyter-widgets/base",
          "model_name": "LayoutModel",
          "model_module_version": "1.2.0",
          "state": {
            "_model_module": "@jupyter-widgets/base",
            "_model_module_version": "1.2.0",
            "_model_name": "LayoutModel",
            "_view_count": null,
            "_view_module": "@jupyter-widgets/base",
            "_view_module_version": "1.2.0",
            "_view_name": "LayoutView",
            "align_content": null,
            "align_items": null,
            "align_self": null,
            "border": null,
            "bottom": null,
            "display": null,
            "flex": null,
            "flex_flow": null,
            "grid_area": null,
            "grid_auto_columns": null,
            "grid_auto_flow": null,
            "grid_auto_rows": null,
            "grid_column": null,
            "grid_gap": null,
            "grid_row": null,
            "grid_template_areas": null,
            "grid_template_columns": null,
            "grid_template_rows": null,
            "height": null,
            "justify_content": null,
            "justify_items": null,
            "left": null,
            "margin": null,
            "max_height": null,
            "max_width": null,
            "min_height": null,
            "min_width": null,
            "object_fit": null,
            "object_position": null,
            "order": null,
            "overflow": null,
            "overflow_x": null,
            "overflow_y": null,
            "padding": null,
            "right": null,
            "top": null,
            "visibility": null,
            "width": null
          }
        },
        "8536dfb16c7e4cc2a97f395396ba125c": {
          "model_module": "@jupyter-widgets/base",
          "model_name": "LayoutModel",
          "model_module_version": "1.2.0",
          "state": {
            "_model_module": "@jupyter-widgets/base",
            "_model_module_version": "1.2.0",
            "_model_name": "LayoutModel",
            "_view_count": null,
            "_view_module": "@jupyter-widgets/base",
            "_view_module_version": "1.2.0",
            "_view_name": "LayoutView",
            "align_content": null,
            "align_items": null,
            "align_self": null,
            "border": null,
            "bottom": null,
            "display": null,
            "flex": null,
            "flex_flow": null,
            "grid_area": null,
            "grid_auto_columns": null,
            "grid_auto_flow": null,
            "grid_auto_rows": null,
            "grid_column": null,
            "grid_gap": null,
            "grid_row": null,
            "grid_template_areas": null,
            "grid_template_columns": null,
            "grid_template_rows": null,
            "height": null,
            "justify_content": null,
            "justify_items": null,
            "left": null,
            "margin": null,
            "max_height": null,
            "max_width": null,
            "min_height": null,
            "min_width": null,
            "object_fit": null,
            "object_position": null,
            "order": null,
            "overflow": null,
            "overflow_x": null,
            "overflow_y": null,
            "padding": null,
            "right": null,
            "top": null,
            "visibility": null,
            "width": null
          }
        },
        "12cf961d57604a3b96862b5965081eec": {
          "model_module": "@jupyter-widgets/controls",
          "model_name": "DescriptionStyleModel",
          "model_module_version": "1.5.0",
          "state": {
            "_model_module": "@jupyter-widgets/controls",
            "_model_module_version": "1.5.0",
            "_model_name": "DescriptionStyleModel",
            "_view_count": null,
            "_view_module": "@jupyter-widgets/base",
            "_view_module_version": "1.2.0",
            "_view_name": "StyleView",
            "description_width": ""
          }
        },
        "dbcb98bf83644e93b1a0aa3574a1ce96": {
          "model_module": "@jupyter-widgets/base",
          "model_name": "LayoutModel",
          "model_module_version": "1.2.0",
          "state": {
            "_model_module": "@jupyter-widgets/base",
            "_model_module_version": "1.2.0",
            "_model_name": "LayoutModel",
            "_view_count": null,
            "_view_module": "@jupyter-widgets/base",
            "_view_module_version": "1.2.0",
            "_view_name": "LayoutView",
            "align_content": null,
            "align_items": null,
            "align_self": null,
            "border": null,
            "bottom": null,
            "display": null,
            "flex": null,
            "flex_flow": null,
            "grid_area": null,
            "grid_auto_columns": null,
            "grid_auto_flow": null,
            "grid_auto_rows": null,
            "grid_column": null,
            "grid_gap": null,
            "grid_row": null,
            "grid_template_areas": null,
            "grid_template_columns": null,
            "grid_template_rows": null,
            "height": null,
            "justify_content": null,
            "justify_items": null,
            "left": null,
            "margin": null,
            "max_height": null,
            "max_width": null,
            "min_height": null,
            "min_width": null,
            "object_fit": null,
            "object_position": null,
            "order": null,
            "overflow": null,
            "overflow_x": null,
            "overflow_y": null,
            "padding": null,
            "right": null,
            "top": null,
            "visibility": null,
            "width": null
          }
        },
        "c64dbe1cbe2a49549dca9ad817bde3b4": {
          "model_module": "@jupyter-widgets/controls",
          "model_name": "ProgressStyleModel",
          "model_module_version": "1.5.0",
          "state": {
            "_model_module": "@jupyter-widgets/controls",
            "_model_module_version": "1.5.0",
            "_model_name": "ProgressStyleModel",
            "_view_count": null,
            "_view_module": "@jupyter-widgets/base",
            "_view_module_version": "1.2.0",
            "_view_name": "StyleView",
            "bar_color": null,
            "description_width": ""
          }
        },
        "a33350e55bdd40adbb3a326814ef5509": {
          "model_module": "@jupyter-widgets/base",
          "model_name": "LayoutModel",
          "model_module_version": "1.2.0",
          "state": {
            "_model_module": "@jupyter-widgets/base",
            "_model_module_version": "1.2.0",
            "_model_name": "LayoutModel",
            "_view_count": null,
            "_view_module": "@jupyter-widgets/base",
            "_view_module_version": "1.2.0",
            "_view_name": "LayoutView",
            "align_content": null,
            "align_items": null,
            "align_self": null,
            "border": null,
            "bottom": null,
            "display": null,
            "flex": null,
            "flex_flow": null,
            "grid_area": null,
            "grid_auto_columns": null,
            "grid_auto_flow": null,
            "grid_auto_rows": null,
            "grid_column": null,
            "grid_gap": null,
            "grid_row": null,
            "grid_template_areas": null,
            "grid_template_columns": null,
            "grid_template_rows": null,
            "height": null,
            "justify_content": null,
            "justify_items": null,
            "left": null,
            "margin": null,
            "max_height": null,
            "max_width": null,
            "min_height": null,
            "min_width": null,
            "object_fit": null,
            "object_position": null,
            "order": null,
            "overflow": null,
            "overflow_x": null,
            "overflow_y": null,
            "padding": null,
            "right": null,
            "top": null,
            "visibility": null,
            "width": null
          }
        },
        "ea0b44d8800946c4a5d740b14bbf92f0": {
          "model_module": "@jupyter-widgets/controls",
          "model_name": "DescriptionStyleModel",
          "model_module_version": "1.5.0",
          "state": {
            "_model_module": "@jupyter-widgets/controls",
            "_model_module_version": "1.5.0",
            "_model_name": "DescriptionStyleModel",
            "_view_count": null,
            "_view_module": "@jupyter-widgets/base",
            "_view_module_version": "1.2.0",
            "_view_name": "StyleView",
            "description_width": ""
          }
        },
        "d98fb960322c42dea25f979f1fef7ad2": {
          "model_module": "@jupyter-widgets/controls",
          "model_name": "HBoxModel",
          "model_module_version": "1.5.0",
          "state": {
            "_dom_classes": [],
            "_model_module": "@jupyter-widgets/controls",
            "_model_module_version": "1.5.0",
            "_model_name": "HBoxModel",
            "_view_count": null,
            "_view_module": "@jupyter-widgets/controls",
            "_view_module_version": "1.5.0",
            "_view_name": "HBoxView",
            "box_style": "",
            "children": [
              "IPY_MODEL_12496d201e89494eae4d6ebd3d3e97bc",
              "IPY_MODEL_2a8b2e7c921743fbaf98e52bd37e46a4",
              "IPY_MODEL_310dff1b73be473c9a8acea8cc34438e"
            ],
            "layout": "IPY_MODEL_3c5e06f780824c5cabd3ff1c3ef1aff6"
          }
        },
        "12496d201e89494eae4d6ebd3d3e97bc": {
          "model_module": "@jupyter-widgets/controls",
          "model_name": "HTMLModel",
          "model_module_version": "1.5.0",
          "state": {
            "_dom_classes": [],
            "_model_module": "@jupyter-widgets/controls",
            "_model_module_version": "1.5.0",
            "_model_name": "HTMLModel",
            "_view_count": null,
            "_view_module": "@jupyter-widgets/controls",
            "_view_module_version": "1.5.0",
            "_view_name": "HTMLView",
            "description": "",
            "description_tooltip": null,
            "layout": "IPY_MODEL_2215281f750e42e7bc4e7f261acbd143",
            "placeholder": "​",
            "style": "IPY_MODEL_e8d22531420440f9806331b63bd594f7",
            "value": "Downloading: 100%"
          }
        },
        "2a8b2e7c921743fbaf98e52bd37e46a4": {
          "model_module": "@jupyter-widgets/controls",
          "model_name": "FloatProgressModel",
          "model_module_version": "1.5.0",
          "state": {
            "_dom_classes": [],
            "_model_module": "@jupyter-widgets/controls",
            "_model_module_version": "1.5.0",
            "_model_name": "FloatProgressModel",
            "_view_count": null,
            "_view_module": "@jupyter-widgets/controls",
            "_view_module_version": "1.5.0",
            "_view_name": "ProgressView",
            "bar_style": "success",
            "description": "",
            "description_tooltip": null,
            "layout": "IPY_MODEL_8f5ffdb9133e42819684b2632d2b2cce",
            "max": 90888945,
            "min": 0,
            "orientation": "horizontal",
            "style": "IPY_MODEL_76aab4c24e1345c49cd8356ebfa380a3",
            "value": 90888945
          }
        },
        "310dff1b73be473c9a8acea8cc34438e": {
          "model_module": "@jupyter-widgets/controls",
          "model_name": "HTMLModel",
          "model_module_version": "1.5.0",
          "state": {
            "_dom_classes": [],
            "_model_module": "@jupyter-widgets/controls",
            "_model_module_version": "1.5.0",
            "_model_name": "HTMLModel",
            "_view_count": null,
            "_view_module": "@jupyter-widgets/controls",
            "_view_module_version": "1.5.0",
            "_view_name": "HTMLView",
            "description": "",
            "description_tooltip": null,
            "layout": "IPY_MODEL_9321aa1776cc450ea5df9669a629d05e",
            "placeholder": "​",
            "style": "IPY_MODEL_57d32445e6244bd382b799c2550482af",
            "value": " 90.9M/90.9M [00:06&lt;00:00, 16.7MB/s]"
          }
        },
        "3c5e06f780824c5cabd3ff1c3ef1aff6": {
          "model_module": "@jupyter-widgets/base",
          "model_name": "LayoutModel",
          "model_module_version": "1.2.0",
          "state": {
            "_model_module": "@jupyter-widgets/base",
            "_model_module_version": "1.2.0",
            "_model_name": "LayoutModel",
            "_view_count": null,
            "_view_module": "@jupyter-widgets/base",
            "_view_module_version": "1.2.0",
            "_view_name": "LayoutView",
            "align_content": null,
            "align_items": null,
            "align_self": null,
            "border": null,
            "bottom": null,
            "display": null,
            "flex": null,
            "flex_flow": null,
            "grid_area": null,
            "grid_auto_columns": null,
            "grid_auto_flow": null,
            "grid_auto_rows": null,
            "grid_column": null,
            "grid_gap": null,
            "grid_row": null,
            "grid_template_areas": null,
            "grid_template_columns": null,
            "grid_template_rows": null,
            "height": null,
            "justify_content": null,
            "justify_items": null,
            "left": null,
            "margin": null,
            "max_height": null,
            "max_width": null,
            "min_height": null,
            "min_width": null,
            "object_fit": null,
            "object_position": null,
            "order": null,
            "overflow": null,
            "overflow_x": null,
            "overflow_y": null,
            "padding": null,
            "right": null,
            "top": null,
            "visibility": null,
            "width": null
          }
        },
        "2215281f750e42e7bc4e7f261acbd143": {
          "model_module": "@jupyter-widgets/base",
          "model_name": "LayoutModel",
          "model_module_version": "1.2.0",
          "state": {
            "_model_module": "@jupyter-widgets/base",
            "_model_module_version": "1.2.0",
            "_model_name": "LayoutModel",
            "_view_count": null,
            "_view_module": "@jupyter-widgets/base",
            "_view_module_version": "1.2.0",
            "_view_name": "LayoutView",
            "align_content": null,
            "align_items": null,
            "align_self": null,
            "border": null,
            "bottom": null,
            "display": null,
            "flex": null,
            "flex_flow": null,
            "grid_area": null,
            "grid_auto_columns": null,
            "grid_auto_flow": null,
            "grid_auto_rows": null,
            "grid_column": null,
            "grid_gap": null,
            "grid_row": null,
            "grid_template_areas": null,
            "grid_template_columns": null,
            "grid_template_rows": null,
            "height": null,
            "justify_content": null,
            "justify_items": null,
            "left": null,
            "margin": null,
            "max_height": null,
            "max_width": null,
            "min_height": null,
            "min_width": null,
            "object_fit": null,
            "object_position": null,
            "order": null,
            "overflow": null,
            "overflow_x": null,
            "overflow_y": null,
            "padding": null,
            "right": null,
            "top": null,
            "visibility": null,
            "width": null
          }
        },
        "e8d22531420440f9806331b63bd594f7": {
          "model_module": "@jupyter-widgets/controls",
          "model_name": "DescriptionStyleModel",
          "model_module_version": "1.5.0",
          "state": {
            "_model_module": "@jupyter-widgets/controls",
            "_model_module_version": "1.5.0",
            "_model_name": "DescriptionStyleModel",
            "_view_count": null,
            "_view_module": "@jupyter-widgets/base",
            "_view_module_version": "1.2.0",
            "_view_name": "StyleView",
            "description_width": ""
          }
        },
        "8f5ffdb9133e42819684b2632d2b2cce": {
          "model_module": "@jupyter-widgets/base",
          "model_name": "LayoutModel",
          "model_module_version": "1.2.0",
          "state": {
            "_model_module": "@jupyter-widgets/base",
            "_model_module_version": "1.2.0",
            "_model_name": "LayoutModel",
            "_view_count": null,
            "_view_module": "@jupyter-widgets/base",
            "_view_module_version": "1.2.0",
            "_view_name": "LayoutView",
            "align_content": null,
            "align_items": null,
            "align_self": null,
            "border": null,
            "bottom": null,
            "display": null,
            "flex": null,
            "flex_flow": null,
            "grid_area": null,
            "grid_auto_columns": null,
            "grid_auto_flow": null,
            "grid_auto_rows": null,
            "grid_column": null,
            "grid_gap": null,
            "grid_row": null,
            "grid_template_areas": null,
            "grid_template_columns": null,
            "grid_template_rows": null,
            "height": null,
            "justify_content": null,
            "justify_items": null,
            "left": null,
            "margin": null,
            "max_height": null,
            "max_width": null,
            "min_height": null,
            "min_width": null,
            "object_fit": null,
            "object_position": null,
            "order": null,
            "overflow": null,
            "overflow_x": null,
            "overflow_y": null,
            "padding": null,
            "right": null,
            "top": null,
            "visibility": null,
            "width": null
          }
        },
        "76aab4c24e1345c49cd8356ebfa380a3": {
          "model_module": "@jupyter-widgets/controls",
          "model_name": "ProgressStyleModel",
          "model_module_version": "1.5.0",
          "state": {
            "_model_module": "@jupyter-widgets/controls",
            "_model_module_version": "1.5.0",
            "_model_name": "ProgressStyleModel",
            "_view_count": null,
            "_view_module": "@jupyter-widgets/base",
            "_view_module_version": "1.2.0",
            "_view_name": "StyleView",
            "bar_color": null,
            "description_width": ""
          }
        },
        "9321aa1776cc450ea5df9669a629d05e": {
          "model_module": "@jupyter-widgets/base",
          "model_name": "LayoutModel",
          "model_module_version": "1.2.0",
          "state": {
            "_model_module": "@jupyter-widgets/base",
            "_model_module_version": "1.2.0",
            "_model_name": "LayoutModel",
            "_view_count": null,
            "_view_module": "@jupyter-widgets/base",
            "_view_module_version": "1.2.0",
            "_view_name": "LayoutView",
            "align_content": null,
            "align_items": null,
            "align_self": null,
            "border": null,
            "bottom": null,
            "display": null,
            "flex": null,
            "flex_flow": null,
            "grid_area": null,
            "grid_auto_columns": null,
            "grid_auto_flow": null,
            "grid_auto_rows": null,
            "grid_column": null,
            "grid_gap": null,
            "grid_row": null,
            "grid_template_areas": null,
            "grid_template_columns": null,
            "grid_template_rows": null,
            "height": null,
            "justify_content": null,
            "justify_items": null,
            "left": null,
            "margin": null,
            "max_height": null,
            "max_width": null,
            "min_height": null,
            "min_width": null,
            "object_fit": null,
            "object_position": null,
            "order": null,
            "overflow": null,
            "overflow_x": null,
            "overflow_y": null,
            "padding": null,
            "right": null,
            "top": null,
            "visibility": null,
            "width": null
          }
        },
        "57d32445e6244bd382b799c2550482af": {
          "model_module": "@jupyter-widgets/controls",
          "model_name": "DescriptionStyleModel",
          "model_module_version": "1.5.0",
          "state": {
            "_model_module": "@jupyter-widgets/controls",
            "_model_module_version": "1.5.0",
            "_model_name": "DescriptionStyleModel",
            "_view_count": null,
            "_view_module": "@jupyter-widgets/base",
            "_view_module_version": "1.2.0",
            "_view_name": "StyleView",
            "description_width": ""
          }
        },
        "d8a24d2d3e954237a0fdf3bd11caaeb2": {
          "model_module": "@jupyter-widgets/controls",
          "model_name": "HBoxModel",
          "model_module_version": "1.5.0",
          "state": {
            "_dom_classes": [],
            "_model_module": "@jupyter-widgets/controls",
            "_model_module_version": "1.5.0",
            "_model_name": "HBoxModel",
            "_view_count": null,
            "_view_module": "@jupyter-widgets/controls",
            "_view_module_version": "1.5.0",
            "_view_name": "HBoxView",
            "box_style": "",
            "children": [
              "IPY_MODEL_3315501cb5c145068871e959dc87df20",
              "IPY_MODEL_46ab523e5b8948b6b0ad67d9625c52b3",
              "IPY_MODEL_5d02bbec134e428388b7e8f82a9ef410"
            ],
            "layout": "IPY_MODEL_c5cdd5177e12465d974a8b9e31ab14ff"
          }
        },
        "3315501cb5c145068871e959dc87df20": {
          "model_module": "@jupyter-widgets/controls",
          "model_name": "HTMLModel",
          "model_module_version": "1.5.0",
          "state": {
            "_dom_classes": [],
            "_model_module": "@jupyter-widgets/controls",
            "_model_module_version": "1.5.0",
            "_model_name": "HTMLModel",
            "_view_count": null,
            "_view_module": "@jupyter-widgets/controls",
            "_view_module_version": "1.5.0",
            "_view_name": "HTMLView",
            "description": "",
            "description_tooltip": null,
            "layout": "IPY_MODEL_e50df21f540d4115b08c1f8db5195aca",
            "placeholder": "​",
            "style": "IPY_MODEL_15496f07d6dc457cb40b5b64a70f4618",
            "value": "Downloading: 100%"
          }
        },
        "46ab523e5b8948b6b0ad67d9625c52b3": {
          "model_module": "@jupyter-widgets/controls",
          "model_name": "FloatProgressModel",
          "model_module_version": "1.5.0",
          "state": {
            "_dom_classes": [],
            "_model_module": "@jupyter-widgets/controls",
            "_model_module_version": "1.5.0",
            "_model_name": "FloatProgressModel",
            "_view_count": null,
            "_view_module": "@jupyter-widgets/controls",
            "_view_module_version": "1.5.0",
            "_view_name": "ProgressView",
            "bar_style": "success",
            "description": "",
            "description_tooltip": null,
            "layout": "IPY_MODEL_121071fe9b494e95b0d8f965f8a0e51d",
            "max": 53,
            "min": 0,
            "orientation": "horizontal",
            "style": "IPY_MODEL_b19be758cb604a9da3280756a24fba62",
            "value": 53
          }
        },
        "5d02bbec134e428388b7e8f82a9ef410": {
          "model_module": "@jupyter-widgets/controls",
          "model_name": "HTMLModel",
          "model_module_version": "1.5.0",
          "state": {
            "_dom_classes": [],
            "_model_module": "@jupyter-widgets/controls",
            "_model_module_version": "1.5.0",
            "_model_name": "HTMLModel",
            "_view_count": null,
            "_view_module": "@jupyter-widgets/controls",
            "_view_module_version": "1.5.0",
            "_view_name": "HTMLView",
            "description": "",
            "description_tooltip": null,
            "layout": "IPY_MODEL_53006416bd6749889cb440496fdc0edb",
            "placeholder": "​",
            "style": "IPY_MODEL_a6eb7b26d224416ab68c0e800cd19ffa",
            "value": " 53.0/53.0 [00:00&lt;00:00, 316B/s]"
          }
        },
        "c5cdd5177e12465d974a8b9e31ab14ff": {
          "model_module": "@jupyter-widgets/base",
          "model_name": "LayoutModel",
          "model_module_version": "1.2.0",
          "state": {
            "_model_module": "@jupyter-widgets/base",
            "_model_module_version": "1.2.0",
            "_model_name": "LayoutModel",
            "_view_count": null,
            "_view_module": "@jupyter-widgets/base",
            "_view_module_version": "1.2.0",
            "_view_name": "LayoutView",
            "align_content": null,
            "align_items": null,
            "align_self": null,
            "border": null,
            "bottom": null,
            "display": null,
            "flex": null,
            "flex_flow": null,
            "grid_area": null,
            "grid_auto_columns": null,
            "grid_auto_flow": null,
            "grid_auto_rows": null,
            "grid_column": null,
            "grid_gap": null,
            "grid_row": null,
            "grid_template_areas": null,
            "grid_template_columns": null,
            "grid_template_rows": null,
            "height": null,
            "justify_content": null,
            "justify_items": null,
            "left": null,
            "margin": null,
            "max_height": null,
            "max_width": null,
            "min_height": null,
            "min_width": null,
            "object_fit": null,
            "object_position": null,
            "order": null,
            "overflow": null,
            "overflow_x": null,
            "overflow_y": null,
            "padding": null,
            "right": null,
            "top": null,
            "visibility": null,
            "width": null
          }
        },
        "e50df21f540d4115b08c1f8db5195aca": {
          "model_module": "@jupyter-widgets/base",
          "model_name": "LayoutModel",
          "model_module_version": "1.2.0",
          "state": {
            "_model_module": "@jupyter-widgets/base",
            "_model_module_version": "1.2.0",
            "_model_name": "LayoutModel",
            "_view_count": null,
            "_view_module": "@jupyter-widgets/base",
            "_view_module_version": "1.2.0",
            "_view_name": "LayoutView",
            "align_content": null,
            "align_items": null,
            "align_self": null,
            "border": null,
            "bottom": null,
            "display": null,
            "flex": null,
            "flex_flow": null,
            "grid_area": null,
            "grid_auto_columns": null,
            "grid_auto_flow": null,
            "grid_auto_rows": null,
            "grid_column": null,
            "grid_gap": null,
            "grid_row": null,
            "grid_template_areas": null,
            "grid_template_columns": null,
            "grid_template_rows": null,
            "height": null,
            "justify_content": null,
            "justify_items": null,
            "left": null,
            "margin": null,
            "max_height": null,
            "max_width": null,
            "min_height": null,
            "min_width": null,
            "object_fit": null,
            "object_position": null,
            "order": null,
            "overflow": null,
            "overflow_x": null,
            "overflow_y": null,
            "padding": null,
            "right": null,
            "top": null,
            "visibility": null,
            "width": null
          }
        },
        "15496f07d6dc457cb40b5b64a70f4618": {
          "model_module": "@jupyter-widgets/controls",
          "model_name": "DescriptionStyleModel",
          "model_module_version": "1.5.0",
          "state": {
            "_model_module": "@jupyter-widgets/controls",
            "_model_module_version": "1.5.0",
            "_model_name": "DescriptionStyleModel",
            "_view_count": null,
            "_view_module": "@jupyter-widgets/base",
            "_view_module_version": "1.2.0",
            "_view_name": "StyleView",
            "description_width": ""
          }
        },
        "121071fe9b494e95b0d8f965f8a0e51d": {
          "model_module": "@jupyter-widgets/base",
          "model_name": "LayoutModel",
          "model_module_version": "1.2.0",
          "state": {
            "_model_module": "@jupyter-widgets/base",
            "_model_module_version": "1.2.0",
            "_model_name": "LayoutModel",
            "_view_count": null,
            "_view_module": "@jupyter-widgets/base",
            "_view_module_version": "1.2.0",
            "_view_name": "LayoutView",
            "align_content": null,
            "align_items": null,
            "align_self": null,
            "border": null,
            "bottom": null,
            "display": null,
            "flex": null,
            "flex_flow": null,
            "grid_area": null,
            "grid_auto_columns": null,
            "grid_auto_flow": null,
            "grid_auto_rows": null,
            "grid_column": null,
            "grid_gap": null,
            "grid_row": null,
            "grid_template_areas": null,
            "grid_template_columns": null,
            "grid_template_rows": null,
            "height": null,
            "justify_content": null,
            "justify_items": null,
            "left": null,
            "margin": null,
            "max_height": null,
            "max_width": null,
            "min_height": null,
            "min_width": null,
            "object_fit": null,
            "object_position": null,
            "order": null,
            "overflow": null,
            "overflow_x": null,
            "overflow_y": null,
            "padding": null,
            "right": null,
            "top": null,
            "visibility": null,
            "width": null
          }
        },
        "b19be758cb604a9da3280756a24fba62": {
          "model_module": "@jupyter-widgets/controls",
          "model_name": "ProgressStyleModel",
          "model_module_version": "1.5.0",
          "state": {
            "_model_module": "@jupyter-widgets/controls",
            "_model_module_version": "1.5.0",
            "_model_name": "ProgressStyleModel",
            "_view_count": null,
            "_view_module": "@jupyter-widgets/base",
            "_view_module_version": "1.2.0",
            "_view_name": "StyleView",
            "bar_color": null,
            "description_width": ""
          }
        },
        "53006416bd6749889cb440496fdc0edb": {
          "model_module": "@jupyter-widgets/base",
          "model_name": "LayoutModel",
          "model_module_version": "1.2.0",
          "state": {
            "_model_module": "@jupyter-widgets/base",
            "_model_module_version": "1.2.0",
            "_model_name": "LayoutModel",
            "_view_count": null,
            "_view_module": "@jupyter-widgets/base",
            "_view_module_version": "1.2.0",
            "_view_name": "LayoutView",
            "align_content": null,
            "align_items": null,
            "align_self": null,
            "border": null,
            "bottom": null,
            "display": null,
            "flex": null,
            "flex_flow": null,
            "grid_area": null,
            "grid_auto_columns": null,
            "grid_auto_flow": null,
            "grid_auto_rows": null,
            "grid_column": null,
            "grid_gap": null,
            "grid_row": null,
            "grid_template_areas": null,
            "grid_template_columns": null,
            "grid_template_rows": null,
            "height": null,
            "justify_content": null,
            "justify_items": null,
            "left": null,
            "margin": null,
            "max_height": null,
            "max_width": null,
            "min_height": null,
            "min_width": null,
            "object_fit": null,
            "object_position": null,
            "order": null,
            "overflow": null,
            "overflow_x": null,
            "overflow_y": null,
            "padding": null,
            "right": null,
            "top": null,
            "visibility": null,
            "width": null
          }
        },
        "a6eb7b26d224416ab68c0e800cd19ffa": {
          "model_module": "@jupyter-widgets/controls",
          "model_name": "DescriptionStyleModel",
          "model_module_version": "1.5.0",
          "state": {
            "_model_module": "@jupyter-widgets/controls",
            "_model_module_version": "1.5.0",
            "_model_name": "DescriptionStyleModel",
            "_view_count": null,
            "_view_module": "@jupyter-widgets/base",
            "_view_module_version": "1.2.0",
            "_view_name": "StyleView",
            "description_width": ""
          }
        },
        "7de58910c9424e1cacfbe755d7a2fb00": {
          "model_module": "@jupyter-widgets/controls",
          "model_name": "HBoxModel",
          "model_module_version": "1.5.0",
          "state": {
            "_dom_classes": [],
            "_model_module": "@jupyter-widgets/controls",
            "_model_module_version": "1.5.0",
            "_model_name": "HBoxModel",
            "_view_count": null,
            "_view_module": "@jupyter-widgets/controls",
            "_view_module_version": "1.5.0",
            "_view_name": "HBoxView",
            "box_style": "",
            "children": [
              "IPY_MODEL_aab486394a7f45f39191d54ab39a97ef",
              "IPY_MODEL_b791dfdbcf434e9681ef3ee8400590e5",
              "IPY_MODEL_267d173444ef44a993fec3b8a64c3474"
            ],
            "layout": "IPY_MODEL_6e6ce39b59054c62ad37f2d96db7d49e"
          }
        },
        "aab486394a7f45f39191d54ab39a97ef": {
          "model_module": "@jupyter-widgets/controls",
          "model_name": "HTMLModel",
          "model_module_version": "1.5.0",
          "state": {
            "_dom_classes": [],
            "_model_module": "@jupyter-widgets/controls",
            "_model_module_version": "1.5.0",
            "_model_name": "HTMLModel",
            "_view_count": null,
            "_view_module": "@jupyter-widgets/controls",
            "_view_module_version": "1.5.0",
            "_view_name": "HTMLView",
            "description": "",
            "description_tooltip": null,
            "layout": "IPY_MODEL_ba20cc9999fa4cb2b2e341d8dbfd5752",
            "placeholder": "​",
            "style": "IPY_MODEL_57dc5f6b05ce49619ab264d4d3446dd7",
            "value": "Downloading: 100%"
          }
        },
        "b791dfdbcf434e9681ef3ee8400590e5": {
          "model_module": "@jupyter-widgets/controls",
          "model_name": "FloatProgressModel",
          "model_module_version": "1.5.0",
          "state": {
            "_dom_classes": [],
            "_model_module": "@jupyter-widgets/controls",
            "_model_module_version": "1.5.0",
            "_model_name": "FloatProgressModel",
            "_view_count": null,
            "_view_module": "@jupyter-widgets/controls",
            "_view_module_version": "1.5.0",
            "_view_name": "ProgressView",
            "bar_style": "success",
            "description": "",
            "description_tooltip": null,
            "layout": "IPY_MODEL_cb661c88df02428a9814cef93f186074",
            "max": 112,
            "min": 0,
            "orientation": "horizontal",
            "style": "IPY_MODEL_6092b315a3d84269b163d510f80f27ad",
            "value": 112
          }
        },
        "267d173444ef44a993fec3b8a64c3474": {
          "model_module": "@jupyter-widgets/controls",
          "model_name": "HTMLModel",
          "model_module_version": "1.5.0",
          "state": {
            "_dom_classes": [],
            "_model_module": "@jupyter-widgets/controls",
            "_model_module_version": "1.5.0",
            "_model_name": "HTMLModel",
            "_view_count": null,
            "_view_module": "@jupyter-widgets/controls",
            "_view_module_version": "1.5.0",
            "_view_name": "HTMLView",
            "description": "",
            "description_tooltip": null,
            "layout": "IPY_MODEL_03d6612388fe427cac824f303d2d3b74",
            "placeholder": "​",
            "style": "IPY_MODEL_f9e89b98e571472ea74bf3bbdda929b4",
            "value": " 112/112 [00:00&lt;00:00, 1.27kB/s]"
          }
        },
        "6e6ce39b59054c62ad37f2d96db7d49e": {
          "model_module": "@jupyter-widgets/base",
          "model_name": "LayoutModel",
          "model_module_version": "1.2.0",
          "state": {
            "_model_module": "@jupyter-widgets/base",
            "_model_module_version": "1.2.0",
            "_model_name": "LayoutModel",
            "_view_count": null,
            "_view_module": "@jupyter-widgets/base",
            "_view_module_version": "1.2.0",
            "_view_name": "LayoutView",
            "align_content": null,
            "align_items": null,
            "align_self": null,
            "border": null,
            "bottom": null,
            "display": null,
            "flex": null,
            "flex_flow": null,
            "grid_area": null,
            "grid_auto_columns": null,
            "grid_auto_flow": null,
            "grid_auto_rows": null,
            "grid_column": null,
            "grid_gap": null,
            "grid_row": null,
            "grid_template_areas": null,
            "grid_template_columns": null,
            "grid_template_rows": null,
            "height": null,
            "justify_content": null,
            "justify_items": null,
            "left": null,
            "margin": null,
            "max_height": null,
            "max_width": null,
            "min_height": null,
            "min_width": null,
            "object_fit": null,
            "object_position": null,
            "order": null,
            "overflow": null,
            "overflow_x": null,
            "overflow_y": null,
            "padding": null,
            "right": null,
            "top": null,
            "visibility": null,
            "width": null
          }
        },
        "ba20cc9999fa4cb2b2e341d8dbfd5752": {
          "model_module": "@jupyter-widgets/base",
          "model_name": "LayoutModel",
          "model_module_version": "1.2.0",
          "state": {
            "_model_module": "@jupyter-widgets/base",
            "_model_module_version": "1.2.0",
            "_model_name": "LayoutModel",
            "_view_count": null,
            "_view_module": "@jupyter-widgets/base",
            "_view_module_version": "1.2.0",
            "_view_name": "LayoutView",
            "align_content": null,
            "align_items": null,
            "align_self": null,
            "border": null,
            "bottom": null,
            "display": null,
            "flex": null,
            "flex_flow": null,
            "grid_area": null,
            "grid_auto_columns": null,
            "grid_auto_flow": null,
            "grid_auto_rows": null,
            "grid_column": null,
            "grid_gap": null,
            "grid_row": null,
            "grid_template_areas": null,
            "grid_template_columns": null,
            "grid_template_rows": null,
            "height": null,
            "justify_content": null,
            "justify_items": null,
            "left": null,
            "margin": null,
            "max_height": null,
            "max_width": null,
            "min_height": null,
            "min_width": null,
            "object_fit": null,
            "object_position": null,
            "order": null,
            "overflow": null,
            "overflow_x": null,
            "overflow_y": null,
            "padding": null,
            "right": null,
            "top": null,
            "visibility": null,
            "width": null
          }
        },
        "57dc5f6b05ce49619ab264d4d3446dd7": {
          "model_module": "@jupyter-widgets/controls",
          "model_name": "DescriptionStyleModel",
          "model_module_version": "1.5.0",
          "state": {
            "_model_module": "@jupyter-widgets/controls",
            "_model_module_version": "1.5.0",
            "_model_name": "DescriptionStyleModel",
            "_view_count": null,
            "_view_module": "@jupyter-widgets/base",
            "_view_module_version": "1.2.0",
            "_view_name": "StyleView",
            "description_width": ""
          }
        },
        "cb661c88df02428a9814cef93f186074": {
          "model_module": "@jupyter-widgets/base",
          "model_name": "LayoutModel",
          "model_module_version": "1.2.0",
          "state": {
            "_model_module": "@jupyter-widgets/base",
            "_model_module_version": "1.2.0",
            "_model_name": "LayoutModel",
            "_view_count": null,
            "_view_module": "@jupyter-widgets/base",
            "_view_module_version": "1.2.0",
            "_view_name": "LayoutView",
            "align_content": null,
            "align_items": null,
            "align_self": null,
            "border": null,
            "bottom": null,
            "display": null,
            "flex": null,
            "flex_flow": null,
            "grid_area": null,
            "grid_auto_columns": null,
            "grid_auto_flow": null,
            "grid_auto_rows": null,
            "grid_column": null,
            "grid_gap": null,
            "grid_row": null,
            "grid_template_areas": null,
            "grid_template_columns": null,
            "grid_template_rows": null,
            "height": null,
            "justify_content": null,
            "justify_items": null,
            "left": null,
            "margin": null,
            "max_height": null,
            "max_width": null,
            "min_height": null,
            "min_width": null,
            "object_fit": null,
            "object_position": null,
            "order": null,
            "overflow": null,
            "overflow_x": null,
            "overflow_y": null,
            "padding": null,
            "right": null,
            "top": null,
            "visibility": null,
            "width": null
          }
        },
        "6092b315a3d84269b163d510f80f27ad": {
          "model_module": "@jupyter-widgets/controls",
          "model_name": "ProgressStyleModel",
          "model_module_version": "1.5.0",
          "state": {
            "_model_module": "@jupyter-widgets/controls",
            "_model_module_version": "1.5.0",
            "_model_name": "ProgressStyleModel",
            "_view_count": null,
            "_view_module": "@jupyter-widgets/base",
            "_view_module_version": "1.2.0",
            "_view_name": "StyleView",
            "bar_color": null,
            "description_width": ""
          }
        },
        "03d6612388fe427cac824f303d2d3b74": {
          "model_module": "@jupyter-widgets/base",
          "model_name": "LayoutModel",
          "model_module_version": "1.2.0",
          "state": {
            "_model_module": "@jupyter-widgets/base",
            "_model_module_version": "1.2.0",
            "_model_name": "LayoutModel",
            "_view_count": null,
            "_view_module": "@jupyter-widgets/base",
            "_view_module_version": "1.2.0",
            "_view_name": "LayoutView",
            "align_content": null,
            "align_items": null,
            "align_self": null,
            "border": null,
            "bottom": null,
            "display": null,
            "flex": null,
            "flex_flow": null,
            "grid_area": null,
            "grid_auto_columns": null,
            "grid_auto_flow": null,
            "grid_auto_rows": null,
            "grid_column": null,
            "grid_gap": null,
            "grid_row": null,
            "grid_template_areas": null,
            "grid_template_columns": null,
            "grid_template_rows": null,
            "height": null,
            "justify_content": null,
            "justify_items": null,
            "left": null,
            "margin": null,
            "max_height": null,
            "max_width": null,
            "min_height": null,
            "min_width": null,
            "object_fit": null,
            "object_position": null,
            "order": null,
            "overflow": null,
            "overflow_x": null,
            "overflow_y": null,
            "padding": null,
            "right": null,
            "top": null,
            "visibility": null,
            "width": null
          }
        },
        "f9e89b98e571472ea74bf3bbdda929b4": {
          "model_module": "@jupyter-widgets/controls",
          "model_name": "DescriptionStyleModel",
          "model_module_version": "1.5.0",
          "state": {
            "_model_module": "@jupyter-widgets/controls",
            "_model_module_version": "1.5.0",
            "_model_name": "DescriptionStyleModel",
            "_view_count": null,
            "_view_module": "@jupyter-widgets/base",
            "_view_module_version": "1.2.0",
            "_view_name": "StyleView",
            "description_width": ""
          }
        },
        "e01b9e884514419ea1651e362b2d42ea": {
          "model_module": "@jupyter-widgets/controls",
          "model_name": "HBoxModel",
          "model_module_version": "1.5.0",
          "state": {
            "_dom_classes": [],
            "_model_module": "@jupyter-widgets/controls",
            "_model_module_version": "1.5.0",
            "_model_name": "HBoxModel",
            "_view_count": null,
            "_view_module": "@jupyter-widgets/controls",
            "_view_module_version": "1.5.0",
            "_view_name": "HBoxView",
            "box_style": "",
            "children": [
              "IPY_MODEL_a5949ed436c14f728a15f20bf6c75c81",
              "IPY_MODEL_47216b32a063477bad7a63fc3647ad9a",
              "IPY_MODEL_ce8fa5755c974dfe892b21a28bc92ba6"
            ],
            "layout": "IPY_MODEL_2ca4351d97e749ce82d6763522b11624"
          }
        },
        "a5949ed436c14f728a15f20bf6c75c81": {
          "model_module": "@jupyter-widgets/controls",
          "model_name": "HTMLModel",
          "model_module_version": "1.5.0",
          "state": {
            "_dom_classes": [],
            "_model_module": "@jupyter-widgets/controls",
            "_model_module_version": "1.5.0",
            "_model_name": "HTMLModel",
            "_view_count": null,
            "_view_module": "@jupyter-widgets/controls",
            "_view_module_version": "1.5.0",
            "_view_name": "HTMLView",
            "description": "",
            "description_tooltip": null,
            "layout": "IPY_MODEL_f889c8aab9e144be948ccc249b5244f9",
            "placeholder": "​",
            "style": "IPY_MODEL_dfdc5c69a652483dbb9cf70c12412918",
            "value": "Downloading: 100%"
          }
        },
        "47216b32a063477bad7a63fc3647ad9a": {
          "model_module": "@jupyter-widgets/controls",
          "model_name": "FloatProgressModel",
          "model_module_version": "1.5.0",
          "state": {
            "_dom_classes": [],
            "_model_module": "@jupyter-widgets/controls",
            "_model_module_version": "1.5.0",
            "_model_name": "FloatProgressModel",
            "_view_count": null,
            "_view_module": "@jupyter-widgets/controls",
            "_view_module_version": "1.5.0",
            "_view_name": "ProgressView",
            "bar_style": "success",
            "description": "",
            "description_tooltip": null,
            "layout": "IPY_MODEL_be5b0f9b69e14164b471efca50b0003f",
            "max": 466247,
            "min": 0,
            "orientation": "horizontal",
            "style": "IPY_MODEL_973108b031c64182a9f3d5e115eeb0a3",
            "value": 466247
          }
        },
        "ce8fa5755c974dfe892b21a28bc92ba6": {
          "model_module": "@jupyter-widgets/controls",
          "model_name": "HTMLModel",
          "model_module_version": "1.5.0",
          "state": {
            "_dom_classes": [],
            "_model_module": "@jupyter-widgets/controls",
            "_model_module_version": "1.5.0",
            "_model_name": "HTMLModel",
            "_view_count": null,
            "_view_module": "@jupyter-widgets/controls",
            "_view_module_version": "1.5.0",
            "_view_name": "HTMLView",
            "description": "",
            "description_tooltip": null,
            "layout": "IPY_MODEL_7a62e4403f3d49dbb353276900429d0c",
            "placeholder": "​",
            "style": "IPY_MODEL_4860b82c872c4a599b1d890c614cc479",
            "value": " 466k/466k [00:00&lt;00:00, 237kB/s]"
          }
        },
        "2ca4351d97e749ce82d6763522b11624": {
          "model_module": "@jupyter-widgets/base",
          "model_name": "LayoutModel",
          "model_module_version": "1.2.0",
          "state": {
            "_model_module": "@jupyter-widgets/base",
            "_model_module_version": "1.2.0",
            "_model_name": "LayoutModel",
            "_view_count": null,
            "_view_module": "@jupyter-widgets/base",
            "_view_module_version": "1.2.0",
            "_view_name": "LayoutView",
            "align_content": null,
            "align_items": null,
            "align_self": null,
            "border": null,
            "bottom": null,
            "display": null,
            "flex": null,
            "flex_flow": null,
            "grid_area": null,
            "grid_auto_columns": null,
            "grid_auto_flow": null,
            "grid_auto_rows": null,
            "grid_column": null,
            "grid_gap": null,
            "grid_row": null,
            "grid_template_areas": null,
            "grid_template_columns": null,
            "grid_template_rows": null,
            "height": null,
            "justify_content": null,
            "justify_items": null,
            "left": null,
            "margin": null,
            "max_height": null,
            "max_width": null,
            "min_height": null,
            "min_width": null,
            "object_fit": null,
            "object_position": null,
            "order": null,
            "overflow": null,
            "overflow_x": null,
            "overflow_y": null,
            "padding": null,
            "right": null,
            "top": null,
            "visibility": null,
            "width": null
          }
        },
        "f889c8aab9e144be948ccc249b5244f9": {
          "model_module": "@jupyter-widgets/base",
          "model_name": "LayoutModel",
          "model_module_version": "1.2.0",
          "state": {
            "_model_module": "@jupyter-widgets/base",
            "_model_module_version": "1.2.0",
            "_model_name": "LayoutModel",
            "_view_count": null,
            "_view_module": "@jupyter-widgets/base",
            "_view_module_version": "1.2.0",
            "_view_name": "LayoutView",
            "align_content": null,
            "align_items": null,
            "align_self": null,
            "border": null,
            "bottom": null,
            "display": null,
            "flex": null,
            "flex_flow": null,
            "grid_area": null,
            "grid_auto_columns": null,
            "grid_auto_flow": null,
            "grid_auto_rows": null,
            "grid_column": null,
            "grid_gap": null,
            "grid_row": null,
            "grid_template_areas": null,
            "grid_template_columns": null,
            "grid_template_rows": null,
            "height": null,
            "justify_content": null,
            "justify_items": null,
            "left": null,
            "margin": null,
            "max_height": null,
            "max_width": null,
            "min_height": null,
            "min_width": null,
            "object_fit": null,
            "object_position": null,
            "order": null,
            "overflow": null,
            "overflow_x": null,
            "overflow_y": null,
            "padding": null,
            "right": null,
            "top": null,
            "visibility": null,
            "width": null
          }
        },
        "dfdc5c69a652483dbb9cf70c12412918": {
          "model_module": "@jupyter-widgets/controls",
          "model_name": "DescriptionStyleModel",
          "model_module_version": "1.5.0",
          "state": {
            "_model_module": "@jupyter-widgets/controls",
            "_model_module_version": "1.5.0",
            "_model_name": "DescriptionStyleModel",
            "_view_count": null,
            "_view_module": "@jupyter-widgets/base",
            "_view_module_version": "1.2.0",
            "_view_name": "StyleView",
            "description_width": ""
          }
        },
        "be5b0f9b69e14164b471efca50b0003f": {
          "model_module": "@jupyter-widgets/base",
          "model_name": "LayoutModel",
          "model_module_version": "1.2.0",
          "state": {
            "_model_module": "@jupyter-widgets/base",
            "_model_module_version": "1.2.0",
            "_model_name": "LayoutModel",
            "_view_count": null,
            "_view_module": "@jupyter-widgets/base",
            "_view_module_version": "1.2.0",
            "_view_name": "LayoutView",
            "align_content": null,
            "align_items": null,
            "align_self": null,
            "border": null,
            "bottom": null,
            "display": null,
            "flex": null,
            "flex_flow": null,
            "grid_area": null,
            "grid_auto_columns": null,
            "grid_auto_flow": null,
            "grid_auto_rows": null,
            "grid_column": null,
            "grid_gap": null,
            "grid_row": null,
            "grid_template_areas": null,
            "grid_template_columns": null,
            "grid_template_rows": null,
            "height": null,
            "justify_content": null,
            "justify_items": null,
            "left": null,
            "margin": null,
            "max_height": null,
            "max_width": null,
            "min_height": null,
            "min_width": null,
            "object_fit": null,
            "object_position": null,
            "order": null,
            "overflow": null,
            "overflow_x": null,
            "overflow_y": null,
            "padding": null,
            "right": null,
            "top": null,
            "visibility": null,
            "width": null
          }
        },
        "973108b031c64182a9f3d5e115eeb0a3": {
          "model_module": "@jupyter-widgets/controls",
          "model_name": "ProgressStyleModel",
          "model_module_version": "1.5.0",
          "state": {
            "_model_module": "@jupyter-widgets/controls",
            "_model_module_version": "1.5.0",
            "_model_name": "ProgressStyleModel",
            "_view_count": null,
            "_view_module": "@jupyter-widgets/base",
            "_view_module_version": "1.2.0",
            "_view_name": "StyleView",
            "bar_color": null,
            "description_width": ""
          }
        },
        "7a62e4403f3d49dbb353276900429d0c": {
          "model_module": "@jupyter-widgets/base",
          "model_name": "LayoutModel",
          "model_module_version": "1.2.0",
          "state": {
            "_model_module": "@jupyter-widgets/base",
            "_model_module_version": "1.2.0",
            "_model_name": "LayoutModel",
            "_view_count": null,
            "_view_module": "@jupyter-widgets/base",
            "_view_module_version": "1.2.0",
            "_view_name": "LayoutView",
            "align_content": null,
            "align_items": null,
            "align_self": null,
            "border": null,
            "bottom": null,
            "display": null,
            "flex": null,
            "flex_flow": null,
            "grid_area": null,
            "grid_auto_columns": null,
            "grid_auto_flow": null,
            "grid_auto_rows": null,
            "grid_column": null,
            "grid_gap": null,
            "grid_row": null,
            "grid_template_areas": null,
            "grid_template_columns": null,
            "grid_template_rows": null,
            "height": null,
            "justify_content": null,
            "justify_items": null,
            "left": null,
            "margin": null,
            "max_height": null,
            "max_width": null,
            "min_height": null,
            "min_width": null,
            "object_fit": null,
            "object_position": null,
            "order": null,
            "overflow": null,
            "overflow_x": null,
            "overflow_y": null,
            "padding": null,
            "right": null,
            "top": null,
            "visibility": null,
            "width": null
          }
        },
        "4860b82c872c4a599b1d890c614cc479": {
          "model_module": "@jupyter-widgets/controls",
          "model_name": "DescriptionStyleModel",
          "model_module_version": "1.5.0",
          "state": {
            "_model_module": "@jupyter-widgets/controls",
            "_model_module_version": "1.5.0",
            "_model_name": "DescriptionStyleModel",
            "_view_count": null,
            "_view_module": "@jupyter-widgets/base",
            "_view_module_version": "1.2.0",
            "_view_name": "StyleView",
            "description_width": ""
          }
        },
        "e8d130de9cf14ab5aa3b5f55de01de81": {
          "model_module": "@jupyter-widgets/controls",
          "model_name": "HBoxModel",
          "model_module_version": "1.5.0",
          "state": {
            "_dom_classes": [],
            "_model_module": "@jupyter-widgets/controls",
            "_model_module_version": "1.5.0",
            "_model_name": "HBoxModel",
            "_view_count": null,
            "_view_module": "@jupyter-widgets/controls",
            "_view_module_version": "1.5.0",
            "_view_name": "HBoxView",
            "box_style": "",
            "children": [
              "IPY_MODEL_4b7d29179b83493a97cedd7baf980a0f",
              "IPY_MODEL_f26dc5c681d247179329a6207efe6cbe",
              "IPY_MODEL_558530e9e484467682e665b78908d2a8"
            ],
            "layout": "IPY_MODEL_a54f8347853944b8abea0b451066eaa5"
          }
        },
        "4b7d29179b83493a97cedd7baf980a0f": {
          "model_module": "@jupyter-widgets/controls",
          "model_name": "HTMLModel",
          "model_module_version": "1.5.0",
          "state": {
            "_dom_classes": [],
            "_model_module": "@jupyter-widgets/controls",
            "_model_module_version": "1.5.0",
            "_model_name": "HTMLModel",
            "_view_count": null,
            "_view_module": "@jupyter-widgets/controls",
            "_view_module_version": "1.5.0",
            "_view_name": "HTMLView",
            "description": "",
            "description_tooltip": null,
            "layout": "IPY_MODEL_6e5706dfb5c04f29a01929c8e23ae2b3",
            "placeholder": "​",
            "style": "IPY_MODEL_f381e4021d51463ab684b9aa794d8a8a",
            "value": "Downloading: 100%"
          }
        },
        "f26dc5c681d247179329a6207efe6cbe": {
          "model_module": "@jupyter-widgets/controls",
          "model_name": "FloatProgressModel",
          "model_module_version": "1.5.0",
          "state": {
            "_dom_classes": [],
            "_model_module": "@jupyter-widgets/controls",
            "_model_module_version": "1.5.0",
            "_model_name": "FloatProgressModel",
            "_view_count": null,
            "_view_module": "@jupyter-widgets/controls",
            "_view_module_version": "1.5.0",
            "_view_name": "ProgressView",
            "bar_style": "success",
            "description": "",
            "description_tooltip": null,
            "layout": "IPY_MODEL_6842b81673254a20a77ed75de92461cc",
            "max": 350,
            "min": 0,
            "orientation": "horizontal",
            "style": "IPY_MODEL_ada91a1cb3e049eb95c996d869302e60",
            "value": 350
          }
        },
        "558530e9e484467682e665b78908d2a8": {
          "model_module": "@jupyter-widgets/controls",
          "model_name": "HTMLModel",
          "model_module_version": "1.5.0",
          "state": {
            "_dom_classes": [],
            "_model_module": "@jupyter-widgets/controls",
            "_model_module_version": "1.5.0",
            "_model_name": "HTMLModel",
            "_view_count": null,
            "_view_module": "@jupyter-widgets/controls",
            "_view_module_version": "1.5.0",
            "_view_name": "HTMLView",
            "description": "",
            "description_tooltip": null,
            "layout": "IPY_MODEL_2385e0f7d1a6483094873d9d31695361",
            "placeholder": "​",
            "style": "IPY_MODEL_db25658a68724986a93a29c85b6e98a8",
            "value": " 350/350 [00:00&lt;00:00, 2.68kB/s]"
          }
        },
        "a54f8347853944b8abea0b451066eaa5": {
          "model_module": "@jupyter-widgets/base",
          "model_name": "LayoutModel",
          "model_module_version": "1.2.0",
          "state": {
            "_model_module": "@jupyter-widgets/base",
            "_model_module_version": "1.2.0",
            "_model_name": "LayoutModel",
            "_view_count": null,
            "_view_module": "@jupyter-widgets/base",
            "_view_module_version": "1.2.0",
            "_view_name": "LayoutView",
            "align_content": null,
            "align_items": null,
            "align_self": null,
            "border": null,
            "bottom": null,
            "display": null,
            "flex": null,
            "flex_flow": null,
            "grid_area": null,
            "grid_auto_columns": null,
            "grid_auto_flow": null,
            "grid_auto_rows": null,
            "grid_column": null,
            "grid_gap": null,
            "grid_row": null,
            "grid_template_areas": null,
            "grid_template_columns": null,
            "grid_template_rows": null,
            "height": null,
            "justify_content": null,
            "justify_items": null,
            "left": null,
            "margin": null,
            "max_height": null,
            "max_width": null,
            "min_height": null,
            "min_width": null,
            "object_fit": null,
            "object_position": null,
            "order": null,
            "overflow": null,
            "overflow_x": null,
            "overflow_y": null,
            "padding": null,
            "right": null,
            "top": null,
            "visibility": null,
            "width": null
          }
        },
        "6e5706dfb5c04f29a01929c8e23ae2b3": {
          "model_module": "@jupyter-widgets/base",
          "model_name": "LayoutModel",
          "model_module_version": "1.2.0",
          "state": {
            "_model_module": "@jupyter-widgets/base",
            "_model_module_version": "1.2.0",
            "_model_name": "LayoutModel",
            "_view_count": null,
            "_view_module": "@jupyter-widgets/base",
            "_view_module_version": "1.2.0",
            "_view_name": "LayoutView",
            "align_content": null,
            "align_items": null,
            "align_self": null,
            "border": null,
            "bottom": null,
            "display": null,
            "flex": null,
            "flex_flow": null,
            "grid_area": null,
            "grid_auto_columns": null,
            "grid_auto_flow": null,
            "grid_auto_rows": null,
            "grid_column": null,
            "grid_gap": null,
            "grid_row": null,
            "grid_template_areas": null,
            "grid_template_columns": null,
            "grid_template_rows": null,
            "height": null,
            "justify_content": null,
            "justify_items": null,
            "left": null,
            "margin": null,
            "max_height": null,
            "max_width": null,
            "min_height": null,
            "min_width": null,
            "object_fit": null,
            "object_position": null,
            "order": null,
            "overflow": null,
            "overflow_x": null,
            "overflow_y": null,
            "padding": null,
            "right": null,
            "top": null,
            "visibility": null,
            "width": null
          }
        },
        "f381e4021d51463ab684b9aa794d8a8a": {
          "model_module": "@jupyter-widgets/controls",
          "model_name": "DescriptionStyleModel",
          "model_module_version": "1.5.0",
          "state": {
            "_model_module": "@jupyter-widgets/controls",
            "_model_module_version": "1.5.0",
            "_model_name": "DescriptionStyleModel",
            "_view_count": null,
            "_view_module": "@jupyter-widgets/base",
            "_view_module_version": "1.2.0",
            "_view_name": "StyleView",
            "description_width": ""
          }
        },
        "6842b81673254a20a77ed75de92461cc": {
          "model_module": "@jupyter-widgets/base",
          "model_name": "LayoutModel",
          "model_module_version": "1.2.0",
          "state": {
            "_model_module": "@jupyter-widgets/base",
            "_model_module_version": "1.2.0",
            "_model_name": "LayoutModel",
            "_view_count": null,
            "_view_module": "@jupyter-widgets/base",
            "_view_module_version": "1.2.0",
            "_view_name": "LayoutView",
            "align_content": null,
            "align_items": null,
            "align_self": null,
            "border": null,
            "bottom": null,
            "display": null,
            "flex": null,
            "flex_flow": null,
            "grid_area": null,
            "grid_auto_columns": null,
            "grid_auto_flow": null,
            "grid_auto_rows": null,
            "grid_column": null,
            "grid_gap": null,
            "grid_row": null,
            "grid_template_areas": null,
            "grid_template_columns": null,
            "grid_template_rows": null,
            "height": null,
            "justify_content": null,
            "justify_items": null,
            "left": null,
            "margin": null,
            "max_height": null,
            "max_width": null,
            "min_height": null,
            "min_width": null,
            "object_fit": null,
            "object_position": null,
            "order": null,
            "overflow": null,
            "overflow_x": null,
            "overflow_y": null,
            "padding": null,
            "right": null,
            "top": null,
            "visibility": null,
            "width": null
          }
        },
        "ada91a1cb3e049eb95c996d869302e60": {
          "model_module": "@jupyter-widgets/controls",
          "model_name": "ProgressStyleModel",
          "model_module_version": "1.5.0",
          "state": {
            "_model_module": "@jupyter-widgets/controls",
            "_model_module_version": "1.5.0",
            "_model_name": "ProgressStyleModel",
            "_view_count": null,
            "_view_module": "@jupyter-widgets/base",
            "_view_module_version": "1.2.0",
            "_view_name": "StyleView",
            "bar_color": null,
            "description_width": ""
          }
        },
        "2385e0f7d1a6483094873d9d31695361": {
          "model_module": "@jupyter-widgets/base",
          "model_name": "LayoutModel",
          "model_module_version": "1.2.0",
          "state": {
            "_model_module": "@jupyter-widgets/base",
            "_model_module_version": "1.2.0",
            "_model_name": "LayoutModel",
            "_view_count": null,
            "_view_module": "@jupyter-widgets/base",
            "_view_module_version": "1.2.0",
            "_view_name": "LayoutView",
            "align_content": null,
            "align_items": null,
            "align_self": null,
            "border": null,
            "bottom": null,
            "display": null,
            "flex": null,
            "flex_flow": null,
            "grid_area": null,
            "grid_auto_columns": null,
            "grid_auto_flow": null,
            "grid_auto_rows": null,
            "grid_column": null,
            "grid_gap": null,
            "grid_row": null,
            "grid_template_areas": null,
            "grid_template_columns": null,
            "grid_template_rows": null,
            "height": null,
            "justify_content": null,
            "justify_items": null,
            "left": null,
            "margin": null,
            "max_height": null,
            "max_width": null,
            "min_height": null,
            "min_width": null,
            "object_fit": null,
            "object_position": null,
            "order": null,
            "overflow": null,
            "overflow_x": null,
            "overflow_y": null,
            "padding": null,
            "right": null,
            "top": null,
            "visibility": null,
            "width": null
          }
        },
        "db25658a68724986a93a29c85b6e98a8": {
          "model_module": "@jupyter-widgets/controls",
          "model_name": "DescriptionStyleModel",
          "model_module_version": "1.5.0",
          "state": {
            "_model_module": "@jupyter-widgets/controls",
            "_model_module_version": "1.5.0",
            "_model_name": "DescriptionStyleModel",
            "_view_count": null,
            "_view_module": "@jupyter-widgets/base",
            "_view_module_version": "1.2.0",
            "_view_name": "StyleView",
            "description_width": ""
          }
        },
        "2440fe19ed344fcba24563f7f1732e3f": {
          "model_module": "@jupyter-widgets/controls",
          "model_name": "HBoxModel",
          "model_module_version": "1.5.0",
          "state": {
            "_dom_classes": [],
            "_model_module": "@jupyter-widgets/controls",
            "_model_module_version": "1.5.0",
            "_model_name": "HBoxModel",
            "_view_count": null,
            "_view_module": "@jupyter-widgets/controls",
            "_view_module_version": "1.5.0",
            "_view_name": "HBoxView",
            "box_style": "",
            "children": [
              "IPY_MODEL_71c7ba600b744e04b79878f0dc160f4e",
              "IPY_MODEL_5569dda4edda4f2fab7c2f50067a6a61",
              "IPY_MODEL_585d9c8453f548afa53e65f64b6e3d6c"
            ],
            "layout": "IPY_MODEL_56a873a4e834410abcdb3f1bf5bb6c89"
          }
        },
        "71c7ba600b744e04b79878f0dc160f4e": {
          "model_module": "@jupyter-widgets/controls",
          "model_name": "HTMLModel",
          "model_module_version": "1.5.0",
          "state": {
            "_dom_classes": [],
            "_model_module": "@jupyter-widgets/controls",
            "_model_module_version": "1.5.0",
            "_model_name": "HTMLModel",
            "_view_count": null,
            "_view_module": "@jupyter-widgets/controls",
            "_view_module_version": "1.5.0",
            "_view_name": "HTMLView",
            "description": "",
            "description_tooltip": null,
            "layout": "IPY_MODEL_aba0f6f8a0ab4c45bde4cdea7924a75b",
            "placeholder": "​",
            "style": "IPY_MODEL_7f57d97e42c04287a8a1989268f4c371",
            "value": "Downloading: 100%"
          }
        },
        "5569dda4edda4f2fab7c2f50067a6a61": {
          "model_module": "@jupyter-widgets/controls",
          "model_name": "FloatProgressModel",
          "model_module_version": "1.5.0",
          "state": {
            "_dom_classes": [],
            "_model_module": "@jupyter-widgets/controls",
            "_model_module_version": "1.5.0",
            "_model_name": "FloatProgressModel",
            "_view_count": null,
            "_view_module": "@jupyter-widgets/controls",
            "_view_module_version": "1.5.0",
            "_view_name": "ProgressView",
            "bar_style": "success",
            "description": "",
            "description_tooltip": null,
            "layout": "IPY_MODEL_f316e01e2d5c49d59ace91c219f620ff",
            "max": 13156,
            "min": 0,
            "orientation": "horizontal",
            "style": "IPY_MODEL_52b82497d778402fbefec31df997f080",
            "value": 13156
          }
        },
        "585d9c8453f548afa53e65f64b6e3d6c": {
          "model_module": "@jupyter-widgets/controls",
          "model_name": "HTMLModel",
          "model_module_version": "1.5.0",
          "state": {
            "_dom_classes": [],
            "_model_module": "@jupyter-widgets/controls",
            "_model_module_version": "1.5.0",
            "_model_name": "HTMLModel",
            "_view_count": null,
            "_view_module": "@jupyter-widgets/controls",
            "_view_module_version": "1.5.0",
            "_view_name": "HTMLView",
            "description": "",
            "description_tooltip": null,
            "layout": "IPY_MODEL_966a51c1fc9246d5ae2d674c3b66e9ea",
            "placeholder": "​",
            "style": "IPY_MODEL_b3880afaeffb45fe930bf238d983c26d",
            "value": " 13.2k/13.2k [00:00&lt;00:00, 8.87kB/s]"
          }
        },
        "56a873a4e834410abcdb3f1bf5bb6c89": {
          "model_module": "@jupyter-widgets/base",
          "model_name": "LayoutModel",
          "model_module_version": "1.2.0",
          "state": {
            "_model_module": "@jupyter-widgets/base",
            "_model_module_version": "1.2.0",
            "_model_name": "LayoutModel",
            "_view_count": null,
            "_view_module": "@jupyter-widgets/base",
            "_view_module_version": "1.2.0",
            "_view_name": "LayoutView",
            "align_content": null,
            "align_items": null,
            "align_self": null,
            "border": null,
            "bottom": null,
            "display": null,
            "flex": null,
            "flex_flow": null,
            "grid_area": null,
            "grid_auto_columns": null,
            "grid_auto_flow": null,
            "grid_auto_rows": null,
            "grid_column": null,
            "grid_gap": null,
            "grid_row": null,
            "grid_template_areas": null,
            "grid_template_columns": null,
            "grid_template_rows": null,
            "height": null,
            "justify_content": null,
            "justify_items": null,
            "left": null,
            "margin": null,
            "max_height": null,
            "max_width": null,
            "min_height": null,
            "min_width": null,
            "object_fit": null,
            "object_position": null,
            "order": null,
            "overflow": null,
            "overflow_x": null,
            "overflow_y": null,
            "padding": null,
            "right": null,
            "top": null,
            "visibility": null,
            "width": null
          }
        },
        "aba0f6f8a0ab4c45bde4cdea7924a75b": {
          "model_module": "@jupyter-widgets/base",
          "model_name": "LayoutModel",
          "model_module_version": "1.2.0",
          "state": {
            "_model_module": "@jupyter-widgets/base",
            "_model_module_version": "1.2.0",
            "_model_name": "LayoutModel",
            "_view_count": null,
            "_view_module": "@jupyter-widgets/base",
            "_view_module_version": "1.2.0",
            "_view_name": "LayoutView",
            "align_content": null,
            "align_items": null,
            "align_self": null,
            "border": null,
            "bottom": null,
            "display": null,
            "flex": null,
            "flex_flow": null,
            "grid_area": null,
            "grid_auto_columns": null,
            "grid_auto_flow": null,
            "grid_auto_rows": null,
            "grid_column": null,
            "grid_gap": null,
            "grid_row": null,
            "grid_template_areas": null,
            "grid_template_columns": null,
            "grid_template_rows": null,
            "height": null,
            "justify_content": null,
            "justify_items": null,
            "left": null,
            "margin": null,
            "max_height": null,
            "max_width": null,
            "min_height": null,
            "min_width": null,
            "object_fit": null,
            "object_position": null,
            "order": null,
            "overflow": null,
            "overflow_x": null,
            "overflow_y": null,
            "padding": null,
            "right": null,
            "top": null,
            "visibility": null,
            "width": null
          }
        },
        "7f57d97e42c04287a8a1989268f4c371": {
          "model_module": "@jupyter-widgets/controls",
          "model_name": "DescriptionStyleModel",
          "model_module_version": "1.5.0",
          "state": {
            "_model_module": "@jupyter-widgets/controls",
            "_model_module_version": "1.5.0",
            "_model_name": "DescriptionStyleModel",
            "_view_count": null,
            "_view_module": "@jupyter-widgets/base",
            "_view_module_version": "1.2.0",
            "_view_name": "StyleView",
            "description_width": ""
          }
        },
        "f316e01e2d5c49d59ace91c219f620ff": {
          "model_module": "@jupyter-widgets/base",
          "model_name": "LayoutModel",
          "model_module_version": "1.2.0",
          "state": {
            "_model_module": "@jupyter-widgets/base",
            "_model_module_version": "1.2.0",
            "_model_name": "LayoutModel",
            "_view_count": null,
            "_view_module": "@jupyter-widgets/base",
            "_view_module_version": "1.2.0",
            "_view_name": "LayoutView",
            "align_content": null,
            "align_items": null,
            "align_self": null,
            "border": null,
            "bottom": null,
            "display": null,
            "flex": null,
            "flex_flow": null,
            "grid_area": null,
            "grid_auto_columns": null,
            "grid_auto_flow": null,
            "grid_auto_rows": null,
            "grid_column": null,
            "grid_gap": null,
            "grid_row": null,
            "grid_template_areas": null,
            "grid_template_columns": null,
            "grid_template_rows": null,
            "height": null,
            "justify_content": null,
            "justify_items": null,
            "left": null,
            "margin": null,
            "max_height": null,
            "max_width": null,
            "min_height": null,
            "min_width": null,
            "object_fit": null,
            "object_position": null,
            "order": null,
            "overflow": null,
            "overflow_x": null,
            "overflow_y": null,
            "padding": null,
            "right": null,
            "top": null,
            "visibility": null,
            "width": null
          }
        },
        "52b82497d778402fbefec31df997f080": {
          "model_module": "@jupyter-widgets/controls",
          "model_name": "ProgressStyleModel",
          "model_module_version": "1.5.0",
          "state": {
            "_model_module": "@jupyter-widgets/controls",
            "_model_module_version": "1.5.0",
            "_model_name": "ProgressStyleModel",
            "_view_count": null,
            "_view_module": "@jupyter-widgets/base",
            "_view_module_version": "1.2.0",
            "_view_name": "StyleView",
            "bar_color": null,
            "description_width": ""
          }
        },
        "966a51c1fc9246d5ae2d674c3b66e9ea": {
          "model_module": "@jupyter-widgets/base",
          "model_name": "LayoutModel",
          "model_module_version": "1.2.0",
          "state": {
            "_model_module": "@jupyter-widgets/base",
            "_model_module_version": "1.2.0",
            "_model_name": "LayoutModel",
            "_view_count": null,
            "_view_module": "@jupyter-widgets/base",
            "_view_module_version": "1.2.0",
            "_view_name": "LayoutView",
            "align_content": null,
            "align_items": null,
            "align_self": null,
            "border": null,
            "bottom": null,
            "display": null,
            "flex": null,
            "flex_flow": null,
            "grid_area": null,
            "grid_auto_columns": null,
            "grid_auto_flow": null,
            "grid_auto_rows": null,
            "grid_column": null,
            "grid_gap": null,
            "grid_row": null,
            "grid_template_areas": null,
            "grid_template_columns": null,
            "grid_template_rows": null,
            "height": null,
            "justify_content": null,
            "justify_items": null,
            "left": null,
            "margin": null,
            "max_height": null,
            "max_width": null,
            "min_height": null,
            "min_width": null,
            "object_fit": null,
            "object_position": null,
            "order": null,
            "overflow": null,
            "overflow_x": null,
            "overflow_y": null,
            "padding": null,
            "right": null,
            "top": null,
            "visibility": null,
            "width": null
          }
        },
        "b3880afaeffb45fe930bf238d983c26d": {
          "model_module": "@jupyter-widgets/controls",
          "model_name": "DescriptionStyleModel",
          "model_module_version": "1.5.0",
          "state": {
            "_model_module": "@jupyter-widgets/controls",
            "_model_module_version": "1.5.0",
            "_model_name": "DescriptionStyleModel",
            "_view_count": null,
            "_view_module": "@jupyter-widgets/base",
            "_view_module_version": "1.2.0",
            "_view_name": "StyleView",
            "description_width": ""
          }
        },
        "9548e3ac0b1c44d98fdd20c3a772fde5": {
          "model_module": "@jupyter-widgets/controls",
          "model_name": "HBoxModel",
          "model_module_version": "1.5.0",
          "state": {
            "_dom_classes": [],
            "_model_module": "@jupyter-widgets/controls",
            "_model_module_version": "1.5.0",
            "_model_name": "HBoxModel",
            "_view_count": null,
            "_view_module": "@jupyter-widgets/controls",
            "_view_module_version": "1.5.0",
            "_view_name": "HBoxView",
            "box_style": "",
            "children": [
              "IPY_MODEL_f3b599e584db478798a43693719999e4",
              "IPY_MODEL_2c0b9fef713945a793731a9142718940",
              "IPY_MODEL_e9376c37a2e84c72aea37deffd225855"
            ],
            "layout": "IPY_MODEL_9329dce00fcb44828647f1a4bb2af6dd"
          }
        },
        "f3b599e584db478798a43693719999e4": {
          "model_module": "@jupyter-widgets/controls",
          "model_name": "HTMLModel",
          "model_module_version": "1.5.0",
          "state": {
            "_dom_classes": [],
            "_model_module": "@jupyter-widgets/controls",
            "_model_module_version": "1.5.0",
            "_model_name": "HTMLModel",
            "_view_count": null,
            "_view_module": "@jupyter-widgets/controls",
            "_view_module_version": "1.5.0",
            "_view_name": "HTMLView",
            "description": "",
            "description_tooltip": null,
            "layout": "IPY_MODEL_469da8f6ebc148e58321d4fcd6a1288a",
            "placeholder": "​",
            "style": "IPY_MODEL_3691aa7476b8402b81177e0fac58c9b3",
            "value": "Downloading: 100%"
          }
        },
        "2c0b9fef713945a793731a9142718940": {
          "model_module": "@jupyter-widgets/controls",
          "model_name": "FloatProgressModel",
          "model_module_version": "1.5.0",
          "state": {
            "_dom_classes": [],
            "_model_module": "@jupyter-widgets/controls",
            "_model_module_version": "1.5.0",
            "_model_name": "FloatProgressModel",
            "_view_count": null,
            "_view_module": "@jupyter-widgets/controls",
            "_view_module_version": "1.5.0",
            "_view_name": "ProgressView",
            "bar_style": "success",
            "description": "",
            "description_tooltip": null,
            "layout": "IPY_MODEL_399a1c568dbc4723a03c446eed420fbb",
            "max": 231508,
            "min": 0,
            "orientation": "horizontal",
            "style": "IPY_MODEL_9597f436788f4c67a6626922ba7cb901",
            "value": 231508
          }
        },
        "e9376c37a2e84c72aea37deffd225855": {
          "model_module": "@jupyter-widgets/controls",
          "model_name": "HTMLModel",
          "model_module_version": "1.5.0",
          "state": {
            "_dom_classes": [],
            "_model_module": "@jupyter-widgets/controls",
            "_model_module_version": "1.5.0",
            "_model_name": "HTMLModel",
            "_view_count": null,
            "_view_module": "@jupyter-widgets/controls",
            "_view_module_version": "1.5.0",
            "_view_name": "HTMLView",
            "description": "",
            "description_tooltip": null,
            "layout": "IPY_MODEL_8a6b079a3f114992a2a0752e7cccd965",
            "placeholder": "​",
            "style": "IPY_MODEL_c4982e0343a24f2b9c5ab5866eb5c21f",
            "value": " 232k/232k [00:00&lt;00:00, 8.57kB/s]"
          }
        },
        "9329dce00fcb44828647f1a4bb2af6dd": {
          "model_module": "@jupyter-widgets/base",
          "model_name": "LayoutModel",
          "model_module_version": "1.2.0",
          "state": {
            "_model_module": "@jupyter-widgets/base",
            "_model_module_version": "1.2.0",
            "_model_name": "LayoutModel",
            "_view_count": null,
            "_view_module": "@jupyter-widgets/base",
            "_view_module_version": "1.2.0",
            "_view_name": "LayoutView",
            "align_content": null,
            "align_items": null,
            "align_self": null,
            "border": null,
            "bottom": null,
            "display": null,
            "flex": null,
            "flex_flow": null,
            "grid_area": null,
            "grid_auto_columns": null,
            "grid_auto_flow": null,
            "grid_auto_rows": null,
            "grid_column": null,
            "grid_gap": null,
            "grid_row": null,
            "grid_template_areas": null,
            "grid_template_columns": null,
            "grid_template_rows": null,
            "height": null,
            "justify_content": null,
            "justify_items": null,
            "left": null,
            "margin": null,
            "max_height": null,
            "max_width": null,
            "min_height": null,
            "min_width": null,
            "object_fit": null,
            "object_position": null,
            "order": null,
            "overflow": null,
            "overflow_x": null,
            "overflow_y": null,
            "padding": null,
            "right": null,
            "top": null,
            "visibility": null,
            "width": null
          }
        },
        "469da8f6ebc148e58321d4fcd6a1288a": {
          "model_module": "@jupyter-widgets/base",
          "model_name": "LayoutModel",
          "model_module_version": "1.2.0",
          "state": {
            "_model_module": "@jupyter-widgets/base",
            "_model_module_version": "1.2.0",
            "_model_name": "LayoutModel",
            "_view_count": null,
            "_view_module": "@jupyter-widgets/base",
            "_view_module_version": "1.2.0",
            "_view_name": "LayoutView",
            "align_content": null,
            "align_items": null,
            "align_self": null,
            "border": null,
            "bottom": null,
            "display": null,
            "flex": null,
            "flex_flow": null,
            "grid_area": null,
            "grid_auto_columns": null,
            "grid_auto_flow": null,
            "grid_auto_rows": null,
            "grid_column": null,
            "grid_gap": null,
            "grid_row": null,
            "grid_template_areas": null,
            "grid_template_columns": null,
            "grid_template_rows": null,
            "height": null,
            "justify_content": null,
            "justify_items": null,
            "left": null,
            "margin": null,
            "max_height": null,
            "max_width": null,
            "min_height": null,
            "min_width": null,
            "object_fit": null,
            "object_position": null,
            "order": null,
            "overflow": null,
            "overflow_x": null,
            "overflow_y": null,
            "padding": null,
            "right": null,
            "top": null,
            "visibility": null,
            "width": null
          }
        },
        "3691aa7476b8402b81177e0fac58c9b3": {
          "model_module": "@jupyter-widgets/controls",
          "model_name": "DescriptionStyleModel",
          "model_module_version": "1.5.0",
          "state": {
            "_model_module": "@jupyter-widgets/controls",
            "_model_module_version": "1.5.0",
            "_model_name": "DescriptionStyleModel",
            "_view_count": null,
            "_view_module": "@jupyter-widgets/base",
            "_view_module_version": "1.2.0",
            "_view_name": "StyleView",
            "description_width": ""
          }
        },
        "399a1c568dbc4723a03c446eed420fbb": {
          "model_module": "@jupyter-widgets/base",
          "model_name": "LayoutModel",
          "model_module_version": "1.2.0",
          "state": {
            "_model_module": "@jupyter-widgets/base",
            "_model_module_version": "1.2.0",
            "_model_name": "LayoutModel",
            "_view_count": null,
            "_view_module": "@jupyter-widgets/base",
            "_view_module_version": "1.2.0",
            "_view_name": "LayoutView",
            "align_content": null,
            "align_items": null,
            "align_self": null,
            "border": null,
            "bottom": null,
            "display": null,
            "flex": null,
            "flex_flow": null,
            "grid_area": null,
            "grid_auto_columns": null,
            "grid_auto_flow": null,
            "grid_auto_rows": null,
            "grid_column": null,
            "grid_gap": null,
            "grid_row": null,
            "grid_template_areas": null,
            "grid_template_columns": null,
            "grid_template_rows": null,
            "height": null,
            "justify_content": null,
            "justify_items": null,
            "left": null,
            "margin": null,
            "max_height": null,
            "max_width": null,
            "min_height": null,
            "min_width": null,
            "object_fit": null,
            "object_position": null,
            "order": null,
            "overflow": null,
            "overflow_x": null,
            "overflow_y": null,
            "padding": null,
            "right": null,
            "top": null,
            "visibility": null,
            "width": null
          }
        },
        "9597f436788f4c67a6626922ba7cb901": {
          "model_module": "@jupyter-widgets/controls",
          "model_name": "ProgressStyleModel",
          "model_module_version": "1.5.0",
          "state": {
            "_model_module": "@jupyter-widgets/controls",
            "_model_module_version": "1.5.0",
            "_model_name": "ProgressStyleModel",
            "_view_count": null,
            "_view_module": "@jupyter-widgets/base",
            "_view_module_version": "1.2.0",
            "_view_name": "StyleView",
            "bar_color": null,
            "description_width": ""
          }
        },
        "8a6b079a3f114992a2a0752e7cccd965": {
          "model_module": "@jupyter-widgets/base",
          "model_name": "LayoutModel",
          "model_module_version": "1.2.0",
          "state": {
            "_model_module": "@jupyter-widgets/base",
            "_model_module_version": "1.2.0",
            "_model_name": "LayoutModel",
            "_view_count": null,
            "_view_module": "@jupyter-widgets/base",
            "_view_module_version": "1.2.0",
            "_view_name": "LayoutView",
            "align_content": null,
            "align_items": null,
            "align_self": null,
            "border": null,
            "bottom": null,
            "display": null,
            "flex": null,
            "flex_flow": null,
            "grid_area": null,
            "grid_auto_columns": null,
            "grid_auto_flow": null,
            "grid_auto_rows": null,
            "grid_column": null,
            "grid_gap": null,
            "grid_row": null,
            "grid_template_areas": null,
            "grid_template_columns": null,
            "grid_template_rows": null,
            "height": null,
            "justify_content": null,
            "justify_items": null,
            "left": null,
            "margin": null,
            "max_height": null,
            "max_width": null,
            "min_height": null,
            "min_width": null,
            "object_fit": null,
            "object_position": null,
            "order": null,
            "overflow": null,
            "overflow_x": null,
            "overflow_y": null,
            "padding": null,
            "right": null,
            "top": null,
            "visibility": null,
            "width": null
          }
        },
        "c4982e0343a24f2b9c5ab5866eb5c21f": {
          "model_module": "@jupyter-widgets/controls",
          "model_name": "DescriptionStyleModel",
          "model_module_version": "1.5.0",
          "state": {
            "_model_module": "@jupyter-widgets/controls",
            "_model_module_version": "1.5.0",
            "_model_name": "DescriptionStyleModel",
            "_view_count": null,
            "_view_module": "@jupyter-widgets/base",
            "_view_module_version": "1.2.0",
            "_view_name": "StyleView",
            "description_width": ""
          }
        }
      }
    }
  },
  "cells": [
    {
      "cell_type": "markdown",
      "source": [
        "#IST664/CIS668 - Homework 4 Template\n",
        "\n",
        "##My name: Shubham Sharma\n",
        "\n",
        "By adding your name to the space above, you attest that this work is all your own, except in those code and text blocks where you have given attribution to another author. You do not need to provide attribution for code copied from the labs or exercises for this class.\n",
        "\n",
        "Sometimes it is helpful to discuss the homework with other members of the class. This is fine as long as you do not share code. If you collaborated with one or more individuals, list their names here:\n",
        "\n",
        "###My collaborators: __________\n",
        "\n",
        "For this homework, you will be processing a dataset that contains a series of short texts, each of which is separated by a semicolon. The goal for the homework is to develop a representation of the relationships among these sentences that can be processed by a CNN to make predictions.\n",
        "\n",
        "This template helps to pre-process the data with the following steps:\n",
        "\n",
        "1. Parse the data into sentences.\n",
        "2. Develop a vector summary for each sentence.\n",
        "3. Create a matrix of similarities among the sentences.\n",
        "4. Pad the matrix to a common (square) size. This will be the input to the CNN.\n",
        "5. Convert input matrices and output vectors into tensors.\n"
      ],
      "metadata": {
        "id": "qaLVwC1M-uOD"
      }
    },
    {
      "cell_type": "markdown",
      "source": [
        "# 1. Preparing the data"
      ],
      "metadata": {
        "id": "Io52tkNM0-9h"
      }
    },
    {
      "cell_type": "code",
      "execution_count": 1,
      "metadata": {
        "id": "bCpdXBqw-tMJ",
        "colab": {
          "base_uri": "https://localhost:8080/"
        },
        "outputId": "44ab53c6-2838-4f60-a666-d9fd037f08af"
      },
      "outputs": [
        {
          "output_type": "execute_result",
          "data": {
            "text/plain": [
              "(288, 13)"
            ]
          },
          "metadata": {},
          "execution_count": 1
        }
      ],
      "source": [
        "import pandas as pd\n",
        "import gensim\n",
        "import numpy as np\n",
        "import keras\n",
        "import keras.layers as L\n",
        "import re\n",
        "from collections import Counter\n",
        "from sklearn.model_selection import train_test_split\n",
        "\n",
        "# Read in the data from Github\n",
        "url = \"https://raw.githubusercontent.com/jmstanto/ist664/main/SentenceDBfeb2022.csv\"\n",
        "\n",
        "sentDB = pd.read_csv(url)\n",
        "\n",
        "sentDB.shape"
      ]
    },
    {
      "cell_type": "code",
      "source": [
        "sentDB # Preview the data"
      ],
      "metadata": {
        "id": "RHBy9gkm_PPQ",
        "colab": {
          "base_uri": "https://localhost:8080/",
          "height": 467
        },
        "outputId": "410e00fd-5b77-4e43-cd02-c973afbe6d8d"
      },
      "execution_count": 2,
      "outputs": [
        {
          "output_type": "execute_result",
          "data": {
            "text/plain": [
              "     EntryNum       LogCPY  Alpha    LogJIF  NumSent  \\\n",
              "0           1  1.634385657   0.89  0.382017        8   \n",
              "1           2  1.763427994   0.85  0.880242        5   \n",
              "2           3  1.763427994   0.72  0.880242        4   \n",
              "3           4  1.763427994   0.77  0.880242        4   \n",
              "4           5  1.932746869   0.93  0.771587        6   \n",
              "..        ...          ...    ...       ...      ...   \n",
              "283       301  0.301029996   0.97  0.017033       55   \n",
              "284       302  0.301029996   0.97  0.017033       30   \n",
              "285       303  0.301029996   0.97  0.017033        7   \n",
              "286       304  0.301029996   0.93  0.017033       12   \n",
              "287       305  0.301029996   0.85  0.017033        6   \n",
              "\n",
              "                                                 Texts  Unnamed: 6  \\\n",
              "0    Sleep induction (time it takes you to fall asl...         NaN   \n",
              "1    It is exciting to figure out new ways to solve...         NaN   \n",
              "2    Establishing a new company excites me.; Owning...         NaN   \n",
              "3    I really like finding the right people to mark...         NaN   \n",
              "4    If I should find myself in a jam, I could thin...         NaN   \n",
              "..                                                 ...         ...   \n",
              "283  I can make online educational media (animation...         NaN   \n",
              "284  I can make online educational media (animation...         NaN   \n",
              "285  I can enrich my lesson content by using electr...         NaN   \n",
              "286  I can mathematically express the solution ways...         NaN   \n",
              "287  I like the people who are sure of most of thei...         NaN   \n",
              "\n",
              "     Unnamed: 7  Unnamed: 8  Unnamed: 9  Unnamed: 10  Unnamed: 11  Unnamed: 12  \n",
              "0           NaN         NaN         NaN          NaN          NaN          NaN  \n",
              "1           NaN         NaN         NaN          NaN          NaN          NaN  \n",
              "2           NaN         NaN         NaN          NaN          NaN          NaN  \n",
              "3           NaN         NaN         NaN          NaN          NaN          NaN  \n",
              "4           NaN         NaN         NaN          NaN          NaN          NaN  \n",
              "..          ...         ...         ...          ...          ...          ...  \n",
              "283         NaN         NaN         NaN          NaN          NaN          NaN  \n",
              "284         NaN         NaN         NaN          NaN          NaN          NaN  \n",
              "285         NaN         NaN         NaN          NaN          NaN          NaN  \n",
              "286         NaN         NaN         NaN          NaN          NaN          NaN  \n",
              "287         NaN         NaN         NaN          NaN          NaN          NaN  \n",
              "\n",
              "[288 rows x 13 columns]"
            ],
            "text/html": [
              "\n",
              "  <div id=\"df-fc997ccd-6f2c-41f5-a8ae-cb9f14f0ef43\">\n",
              "    <div class=\"colab-df-container\">\n",
              "      <div>\n",
              "<style scoped>\n",
              "    .dataframe tbody tr th:only-of-type {\n",
              "        vertical-align: middle;\n",
              "    }\n",
              "\n",
              "    .dataframe tbody tr th {\n",
              "        vertical-align: top;\n",
              "    }\n",
              "\n",
              "    .dataframe thead th {\n",
              "        text-align: right;\n",
              "    }\n",
              "</style>\n",
              "<table border=\"1\" class=\"dataframe\">\n",
              "  <thead>\n",
              "    <tr style=\"text-align: right;\">\n",
              "      <th></th>\n",
              "      <th>EntryNum</th>\n",
              "      <th>LogCPY</th>\n",
              "      <th>Alpha</th>\n",
              "      <th>LogJIF</th>\n",
              "      <th>NumSent</th>\n",
              "      <th>Texts</th>\n",
              "      <th>Unnamed: 6</th>\n",
              "      <th>Unnamed: 7</th>\n",
              "      <th>Unnamed: 8</th>\n",
              "      <th>Unnamed: 9</th>\n",
              "      <th>Unnamed: 10</th>\n",
              "      <th>Unnamed: 11</th>\n",
              "      <th>Unnamed: 12</th>\n",
              "    </tr>\n",
              "  </thead>\n",
              "  <tbody>\n",
              "    <tr>\n",
              "      <th>0</th>\n",
              "      <td>1</td>\n",
              "      <td>1.634385657</td>\n",
              "      <td>0.89</td>\n",
              "      <td>0.382017</td>\n",
              "      <td>8</td>\n",
              "      <td>Sleep induction (time it takes you to fall asl...</td>\n",
              "      <td>NaN</td>\n",
              "      <td>NaN</td>\n",
              "      <td>NaN</td>\n",
              "      <td>NaN</td>\n",
              "      <td>NaN</td>\n",
              "      <td>NaN</td>\n",
              "      <td>NaN</td>\n",
              "    </tr>\n",
              "    <tr>\n",
              "      <th>1</th>\n",
              "      <td>2</td>\n",
              "      <td>1.763427994</td>\n",
              "      <td>0.85</td>\n",
              "      <td>0.880242</td>\n",
              "      <td>5</td>\n",
              "      <td>It is exciting to figure out new ways to solve...</td>\n",
              "      <td>NaN</td>\n",
              "      <td>NaN</td>\n",
              "      <td>NaN</td>\n",
              "      <td>NaN</td>\n",
              "      <td>NaN</td>\n",
              "      <td>NaN</td>\n",
              "      <td>NaN</td>\n",
              "    </tr>\n",
              "    <tr>\n",
              "      <th>2</th>\n",
              "      <td>3</td>\n",
              "      <td>1.763427994</td>\n",
              "      <td>0.72</td>\n",
              "      <td>0.880242</td>\n",
              "      <td>4</td>\n",
              "      <td>Establishing a new company excites me.; Owning...</td>\n",
              "      <td>NaN</td>\n",
              "      <td>NaN</td>\n",
              "      <td>NaN</td>\n",
              "      <td>NaN</td>\n",
              "      <td>NaN</td>\n",
              "      <td>NaN</td>\n",
              "      <td>NaN</td>\n",
              "    </tr>\n",
              "    <tr>\n",
              "      <th>3</th>\n",
              "      <td>4</td>\n",
              "      <td>1.763427994</td>\n",
              "      <td>0.77</td>\n",
              "      <td>0.880242</td>\n",
              "      <td>4</td>\n",
              "      <td>I really like finding the right people to mark...</td>\n",
              "      <td>NaN</td>\n",
              "      <td>NaN</td>\n",
              "      <td>NaN</td>\n",
              "      <td>NaN</td>\n",
              "      <td>NaN</td>\n",
              "      <td>NaN</td>\n",
              "      <td>NaN</td>\n",
              "    </tr>\n",
              "    <tr>\n",
              "      <th>4</th>\n",
              "      <td>5</td>\n",
              "      <td>1.932746869</td>\n",
              "      <td>0.93</td>\n",
              "      <td>0.771587</td>\n",
              "      <td>6</td>\n",
              "      <td>If I should find myself in a jam, I could thin...</td>\n",
              "      <td>NaN</td>\n",
              "      <td>NaN</td>\n",
              "      <td>NaN</td>\n",
              "      <td>NaN</td>\n",
              "      <td>NaN</td>\n",
              "      <td>NaN</td>\n",
              "      <td>NaN</td>\n",
              "    </tr>\n",
              "    <tr>\n",
              "      <th>...</th>\n",
              "      <td>...</td>\n",
              "      <td>...</td>\n",
              "      <td>...</td>\n",
              "      <td>...</td>\n",
              "      <td>...</td>\n",
              "      <td>...</td>\n",
              "      <td>...</td>\n",
              "      <td>...</td>\n",
              "      <td>...</td>\n",
              "      <td>...</td>\n",
              "      <td>...</td>\n",
              "      <td>...</td>\n",
              "      <td>...</td>\n",
              "    </tr>\n",
              "    <tr>\n",
              "      <th>283</th>\n",
              "      <td>301</td>\n",
              "      <td>0.301029996</td>\n",
              "      <td>0.97</td>\n",
              "      <td>0.017033</td>\n",
              "      <td>55</td>\n",
              "      <td>I can make online educational media (animation...</td>\n",
              "      <td>NaN</td>\n",
              "      <td>NaN</td>\n",
              "      <td>NaN</td>\n",
              "      <td>NaN</td>\n",
              "      <td>NaN</td>\n",
              "      <td>NaN</td>\n",
              "      <td>NaN</td>\n",
              "    </tr>\n",
              "    <tr>\n",
              "      <th>284</th>\n",
              "      <td>302</td>\n",
              "      <td>0.301029996</td>\n",
              "      <td>0.97</td>\n",
              "      <td>0.017033</td>\n",
              "      <td>30</td>\n",
              "      <td>I can make online educational media (animation...</td>\n",
              "      <td>NaN</td>\n",
              "      <td>NaN</td>\n",
              "      <td>NaN</td>\n",
              "      <td>NaN</td>\n",
              "      <td>NaN</td>\n",
              "      <td>NaN</td>\n",
              "      <td>NaN</td>\n",
              "    </tr>\n",
              "    <tr>\n",
              "      <th>285</th>\n",
              "      <td>303</td>\n",
              "      <td>0.301029996</td>\n",
              "      <td>0.97</td>\n",
              "      <td>0.017033</td>\n",
              "      <td>7</td>\n",
              "      <td>I can enrich my lesson content by using electr...</td>\n",
              "      <td>NaN</td>\n",
              "      <td>NaN</td>\n",
              "      <td>NaN</td>\n",
              "      <td>NaN</td>\n",
              "      <td>NaN</td>\n",
              "      <td>NaN</td>\n",
              "      <td>NaN</td>\n",
              "    </tr>\n",
              "    <tr>\n",
              "      <th>286</th>\n",
              "      <td>304</td>\n",
              "      <td>0.301029996</td>\n",
              "      <td>0.93</td>\n",
              "      <td>0.017033</td>\n",
              "      <td>12</td>\n",
              "      <td>I can mathematically express the solution ways...</td>\n",
              "      <td>NaN</td>\n",
              "      <td>NaN</td>\n",
              "      <td>NaN</td>\n",
              "      <td>NaN</td>\n",
              "      <td>NaN</td>\n",
              "      <td>NaN</td>\n",
              "      <td>NaN</td>\n",
              "    </tr>\n",
              "    <tr>\n",
              "      <th>287</th>\n",
              "      <td>305</td>\n",
              "      <td>0.301029996</td>\n",
              "      <td>0.85</td>\n",
              "      <td>0.017033</td>\n",
              "      <td>6</td>\n",
              "      <td>I like the people who are sure of most of thei...</td>\n",
              "      <td>NaN</td>\n",
              "      <td>NaN</td>\n",
              "      <td>NaN</td>\n",
              "      <td>NaN</td>\n",
              "      <td>NaN</td>\n",
              "      <td>NaN</td>\n",
              "      <td>NaN</td>\n",
              "    </tr>\n",
              "  </tbody>\n",
              "</table>\n",
              "<p>288 rows × 13 columns</p>\n",
              "</div>\n",
              "      <button class=\"colab-df-convert\" onclick=\"convertToInteractive('df-fc997ccd-6f2c-41f5-a8ae-cb9f14f0ef43')\"\n",
              "              title=\"Convert this dataframe to an interactive table.\"\n",
              "              style=\"display:none;\">\n",
              "        \n",
              "  <svg xmlns=\"http://www.w3.org/2000/svg\" height=\"24px\"viewBox=\"0 0 24 24\"\n",
              "       width=\"24px\">\n",
              "    <path d=\"M0 0h24v24H0V0z\" fill=\"none\"/>\n",
              "    <path d=\"M18.56 5.44l.94 2.06.94-2.06 2.06-.94-2.06-.94-.94-2.06-.94 2.06-2.06.94zm-11 1L8.5 8.5l.94-2.06 2.06-.94-2.06-.94L8.5 2.5l-.94 2.06-2.06.94zm10 10l.94 2.06.94-2.06 2.06-.94-2.06-.94-.94-2.06-.94 2.06-2.06.94z\"/><path d=\"M17.41 7.96l-1.37-1.37c-.4-.4-.92-.59-1.43-.59-.52 0-1.04.2-1.43.59L10.3 9.45l-7.72 7.72c-.78.78-.78 2.05 0 2.83L4 21.41c.39.39.9.59 1.41.59.51 0 1.02-.2 1.41-.59l7.78-7.78 2.81-2.81c.8-.78.8-2.07 0-2.86zM5.41 20L4 18.59l7.72-7.72 1.47 1.35L5.41 20z\"/>\n",
              "  </svg>\n",
              "      </button>\n",
              "      \n",
              "  <style>\n",
              "    .colab-df-container {\n",
              "      display:flex;\n",
              "      flex-wrap:wrap;\n",
              "      gap: 12px;\n",
              "    }\n",
              "\n",
              "    .colab-df-convert {\n",
              "      background-color: #E8F0FE;\n",
              "      border: none;\n",
              "      border-radius: 50%;\n",
              "      cursor: pointer;\n",
              "      display: none;\n",
              "      fill: #1967D2;\n",
              "      height: 32px;\n",
              "      padding: 0 0 0 0;\n",
              "      width: 32px;\n",
              "    }\n",
              "\n",
              "    .colab-df-convert:hover {\n",
              "      background-color: #E2EBFA;\n",
              "      box-shadow: 0px 1px 2px rgba(60, 64, 67, 0.3), 0px 1px 3px 1px rgba(60, 64, 67, 0.15);\n",
              "      fill: #174EA6;\n",
              "    }\n",
              "\n",
              "    [theme=dark] .colab-df-convert {\n",
              "      background-color: #3B4455;\n",
              "      fill: #D2E3FC;\n",
              "    }\n",
              "\n",
              "    [theme=dark] .colab-df-convert:hover {\n",
              "      background-color: #434B5C;\n",
              "      box-shadow: 0px 1px 3px 1px rgba(0, 0, 0, 0.15);\n",
              "      filter: drop-shadow(0px 1px 2px rgba(0, 0, 0, 0.3));\n",
              "      fill: #FFFFFF;\n",
              "    }\n",
              "  </style>\n",
              "\n",
              "      <script>\n",
              "        const buttonEl =\n",
              "          document.querySelector('#df-fc997ccd-6f2c-41f5-a8ae-cb9f14f0ef43 button.colab-df-convert');\n",
              "        buttonEl.style.display =\n",
              "          google.colab.kernel.accessAllowed ? 'block' : 'none';\n",
              "\n",
              "        async function convertToInteractive(key) {\n",
              "          const element = document.querySelector('#df-fc997ccd-6f2c-41f5-a8ae-cb9f14f0ef43');\n",
              "          const dataTable =\n",
              "            await google.colab.kernel.invokeFunction('convertToInteractive',\n",
              "                                                     [key], {});\n",
              "          if (!dataTable) return;\n",
              "\n",
              "          const docLinkHtml = 'Like what you see? Visit the ' +\n",
              "            '<a target=\"_blank\" href=https://colab.research.google.com/notebooks/data_table.ipynb>data table notebook</a>'\n",
              "            + ' to learn more about interactive tables.';\n",
              "          element.innerHTML = '';\n",
              "          dataTable['output_type'] = 'display_data';\n",
              "          await google.colab.output.renderOutput(dataTable, element);\n",
              "          const docLink = document.createElement('div');\n",
              "          docLink.innerHTML = docLinkHtml;\n",
              "          element.appendChild(docLink);\n",
              "        }\n",
              "      </script>\n",
              "    </div>\n",
              "  </div>\n",
              "  "
            ]
          },
          "metadata": {},
          "execution_count": 2
        }
      ]
    },
    {
      "cell_type": "code",
      "source": [
        "# These are the three metrics you will predict\n",
        "print(type(sentDB[\"LogCPY\"])) # The log of cites per year\n",
        "print(type(sentDB[\"Alpha\"])) # The alpha value\n",
        "print(type(sentDB[\"LogJIF\"])) # The log of the journal impact factor"
      ],
      "metadata": {
        "id": "q3FXF3N6bwYl",
        "colab": {
          "base_uri": "https://localhost:8080/"
        },
        "outputId": "ebbda707-f2a3-4d9b-c0f3-c087a020631b"
      },
      "execution_count": 3,
      "outputs": [
        {
          "output_type": "stream",
          "name": "stdout",
          "text": [
            "<class 'pandas.core.series.Series'>\n",
            "<class 'pandas.core.series.Series'>\n",
            "<class 'pandas.core.series.Series'>\n"
          ]
        }
      ]
    },
    {
      "cell_type": "code",
      "source": [
        "cols = ['LogCPY', 'Alpha', 'LogJIF', 'Texts', 'NumSent']\n",
        "sentDB = sentDB[cols]\n",
        "sentDB.dtypes\n",
        "\n",
        "# LogCPY is an object. That suggests it might have some bad values or missing values. "
      ],
      "metadata": {
        "colab": {
          "base_uri": "https://localhost:8080/"
        },
        "id": "wTIbPo5wzQoB",
        "outputId": "818277de-d3ef-40c8-90ec-7e8234de78af"
      },
      "execution_count": 4,
      "outputs": [
        {
          "output_type": "execute_result",
          "data": {
            "text/plain": [
              "LogCPY      object\n",
              "Alpha      float64\n",
              "LogJIF     float64\n",
              "Texts       object\n",
              "NumSent      int64\n",
              "dtype: object"
            ]
          },
          "metadata": {},
          "execution_count": 4
        }
      ]
    },
    {
      "cell_type": "code",
      "source": [
        "# Checking for missing values\n",
        "sentDB.isna().sum()\n",
        "\n",
        "# There are no missing values in our response variables."
      ],
      "metadata": {
        "colab": {
          "base_uri": "https://localhost:8080/"
        },
        "id": "_6_lFJLm0EZ_",
        "outputId": "720b8b2b-51b7-4e54-847b-b19123a2775e"
      },
      "execution_count": 5,
      "outputs": [
        {
          "output_type": "execute_result",
          "data": {
            "text/plain": [
              "LogCPY     0\n",
              "Alpha      0\n",
              "LogJIF     0\n",
              "Texts      0\n",
              "NumSent    0\n",
              "dtype: int64"
            ]
          },
          "metadata": {},
          "execution_count": 5
        }
      ]
    },
    {
      "cell_type": "code",
      "source": [
        "sentDB['LogCPY'].unique()\n",
        "# We can see a bad value '#NUM!'. Removing those rows."
      ],
      "metadata": {
        "colab": {
          "base_uri": "https://localhost:8080/"
        },
        "id": "1P7ivhZ90QoX",
        "outputId": "0156aa86-1001-4933-ac49-29c448733ed1"
      },
      "execution_count": 6,
      "outputs": [
        {
          "output_type": "execute_result",
          "data": {
            "text/plain": [
              "array(['1.634385657', '1.763427994', '1.932746869', '2.136958255',\n",
              "       '2.329360208', '1.916878271', '1.739730529', '1.213707447', '0',\n",
              "       '1.052529051', '0.728041452', '1.073107098', '2.598172973',\n",
              "       '1.56769109', '0.072550667', '0.301029996', '-0.041392685',\n",
              "       '-0.602059991', '0.124938737', '0.646263654', '0.814501272',\n",
              "       '1.909049038', '2.452512748', '2.414005217', '1.112030158',\n",
              "       '0.331843943', '0.189056236', '0.864261199', '1.845718018',\n",
              "       '0.445522269', '1.354321904', '0.023481096', '0.118099312',\n",
              "       '1.095109204', '0.911362513', '1.106164736', '0.568891628',\n",
              "       '0.77815125', '0.643452676', '0.196294645', '1.120260474',\n",
              "       '1.164919081', '0.257564302', '0.672867202', '0.194574665',\n",
              "       '-0.28254659', '0.851937465', '0.91498921', '0.583576586',\n",
              "       '0.515579507', '0.761760834', '0.698970004', '0.841202996',\n",
              "       '1.62324929', '0.716003344', '1.634908903', '1.118689787',\n",
              "       '0.447158031', '0.686380877', '1.766625268', '1.202306642',\n",
              "       '1.151568121', '1.099384632', '0.032184683', '1.237836855',\n",
              "       '1.308957364', '1.153121657', '0.934498451', '0.477121255',\n",
              "       '1.259773006', '1.731154688', '1.721192109', '1.288174675',\n",
              "       '1.058331107', '1.485879094', '1.416640507', '1.121470308',\n",
              "       '2.295820752', '1.153814864', '1.170951619', '1.317325784',\n",
              "       '1.301029996', '1.5132176', '1.076913385', '1.140926842',\n",
              "       '1.641654353', '2.779596491', '2.122215878', '1.185636577',\n",
              "       '1.614705517', '2.953244094', '0.69019608', '0.903089987',\n",
              "       '1.286306739', '1.029383778', '1.088136089', '1.413928114',\n",
              "       '1.026328939', '1.867271019', '1.189252705', '1.176091259',\n",
              "       '#NUM!'], dtype=object)"
            ]
          },
          "metadata": {},
          "execution_count": 6
        }
      ]
    },
    {
      "cell_type": "code",
      "source": [
        "sentDB = sentDB.loc[sentDB.LogCPY != '#NUM!'] \n",
        "sentDB.shape\n",
        "\n",
        "# We have removed 4 rows from our dataframe"
      ],
      "metadata": {
        "colab": {
          "base_uri": "https://localhost:8080/"
        },
        "id": "Ol1q2QLO0cmJ",
        "outputId": "17a92b8a-3844-4c55-b52d-7fbb2b7ad84b"
      },
      "execution_count": 7,
      "outputs": [
        {
          "output_type": "execute_result",
          "data": {
            "text/plain": [
              "(284, 5)"
            ]
          },
          "metadata": {},
          "execution_count": 7
        }
      ]
    },
    {
      "cell_type": "code",
      "source": [
        "# Changing the datatype of LogCPY to float.\n",
        "sentDB['LogCPY'] = sentDB.LogCPY.astype(float)"
      ],
      "metadata": {
        "id": "OAcBYUGm2Yzc"
      },
      "execution_count": 8,
      "outputs": []
    },
    {
      "cell_type": "code",
      "source": [
        "# Task: Produce histograms for each the three metric outcome variables\n",
        "\n",
        "import seaborn as sns\n",
        "import matplotlib.pyplot as plt\n",
        "\n",
        "plt.figure(figsize = (8,5))\n",
        "sns.histplot(data = sentDB, x = sentDB[\"Alpha\"])\n",
        "plt.xticks(rotation = 45)\n",
        "plt.show()"
      ],
      "metadata": {
        "id": "EOAVC0vxccNl",
        "colab": {
          "base_uri": "https://localhost:8080/",
          "height": 342
        },
        "outputId": "0d37608e-20f8-4702-d664-5e47777444b5"
      },
      "execution_count": 9,
      "outputs": [
        {
          "output_type": "display_data",
          "data": {
            "text/plain": [
              "<Figure size 576x360 with 1 Axes>"
            ],
            "image/png": "[encoded data removed]"
          },
          "metadata": {
            "needs_background": "light"
          }
        }
      ]
    },
    {
      "cell_type": "markdown",
      "source": [
        "We can see the Alpha value is left skewed. "
      ],
      "metadata": {
        "id": "vv9wQW1M2_4q"
      }
    },
    {
      "cell_type": "code",
      "source": [
        "plt.figure(figsize = (8,5))\n",
        "sns.histplot(data = sentDB, x = sentDB[\"LogCPY\"])\n",
        "plt.xticks(rotation = 45)\n",
        "plt.xlabel('Log of cites per year')\n",
        "plt.show()"
      ],
      "metadata": {
        "colab": {
          "base_uri": "https://localhost:8080/",
          "height": 348
        },
        "id": "qzcvSW3m2oAG",
        "outputId": "e93898a9-d8c6-4a96-820d-4ec9e7531511"
      },
      "execution_count": 10,
      "outputs": [
        {
          "output_type": "display_data",
          "data": {
            "text/plain": [
              "<Figure size 576x360 with 1 Axes>"
            ],
            "image/png": "[encoded data removed]"
          },
          "metadata": {
            "needs_background": "light"
          }
        }
      ]
    },
    {
      "cell_type": "markdown",
      "source": [
        "Log of Cites per year is approximately a bell shaped curve."
      ],
      "metadata": {
        "id": "YhEqFWte3R9d"
      }
    },
    {
      "cell_type": "code",
      "source": [
        "plt.figure(figsize = (8,5))\n",
        "sns.histplot(data = sentDB, x = sentDB[\"LogJIF\"])\n",
        "plt.xticks(rotation = 45)\n",
        "plt.xlabel('Log of Journal Impact Factor')\n",
        "plt.show()"
      ],
      "metadata": {
        "colab": {
          "base_uri": "https://localhost:8080/",
          "height": 348
        },
        "id": "NTqSnxJt2qzD",
        "outputId": "d6d5e0f2-97d6-4ed1-a5c8-c72a623dbf0f"
      },
      "execution_count": 11,
      "outputs": [
        {
          "output_type": "display_data",
          "data": {
            "text/plain": [
              "<Figure size 576x360 with 1 Axes>"
            ],
            "image/png": "[encoded data removed]"
          },
          "metadata": {
            "needs_background": "light"
          }
        }
      ]
    },
    {
      "cell_type": "markdown",
      "source": [
        "Log of Journal impact factor has some outliers with value below -1.0 "
      ],
      "metadata": {
        "id": "vzJBFrDx3nKV"
      }
    },
    {
      "cell_type": "code",
      "source": [
        "# How big does our padded matrix need to be?\n",
        "max_mat_size = max(sentDB[\"NumSent\"]) + 1\n",
        "max_mat_size"
      ],
      "metadata": {
        "id": "IyqsJaI-AZFF",
        "colab": {
          "base_uri": "https://localhost:8080/"
        },
        "outputId": "cd61fd7e-db7e-4c82-d7c6-6d92928a4e03"
      },
      "execution_count": 12,
      "outputs": [
        {
          "output_type": "execute_result",
          "data": {
            "text/plain": [
              "56"
            ]
          },
          "metadata": {},
          "execution_count": 12
        }
      ]
    },
    {
      "cell_type": "code",
      "source": [
        "# Finding out the row containing max number of sentences. I realized later I could have used 'NumSent' instead of list comprehension.\n",
        "max_arg = [np.argmax([len(x.split(';')) for x in sentDB['Texts']])][0]\n",
        "sentDB.iloc[max_arg]['Texts']"
      ],
      "metadata": {
        "colab": {
          "base_uri": "https://localhost:8080/",
          "height": 122
        },
        "id": "cJ43ynxCu71n",
        "outputId": "dce94a13-da80-49b3-e8f6-9b946d35b1f8"
      },
      "execution_count": 13,
      "outputs": [
        {
          "output_type": "execute_result",
          "data": {
            "text/plain": [
              "'I can make online educational media (animation, video, educational game).; I can fictionalize an educational media (animation, video, educational game) step by step.; I can make my custom pages on the online platforms I use.; I can customize the software I use by my needs.; I can make a blog or blogs which my students discuss and submit ideas.; I can prepare creative lesson content with mobile devices (smartphone, tablet).; I can write unique scenario for educational media (animation, video, educational game).; I can prepare online interactive lesson presentation.; I can prepare different concept map and drawing on online.; I can build game with online game providers for both educational and fun.; I can design a unique character for educational media (animation, video, educational media).; I can build an online platform to evaluate my students.; I can decide online platforms or simulation development app by lesson content.; I can design a page/platform which students get lesson content with social networks.; I can plan process of mobile app development step by step.; I can decide the computer hardware I use by my needs.; I can study with different simulation, virtual reality or augmented reality apps.; If needed, I can design simple simulations to use my lessons.; I can develop websites about different departments.; I can prepare online survey, quiz etc. about whichever for my students to fill.; When I am online, I can understand which websites use technologies.; I can survive the hardship in process of mobile app development.; I can develop virtual reality app or augmented reality to enrich my lessons.; I can re-enrich a printed lesson material with virtual reality or \\n augmented reality.; I can re-enrich a printed lesson material with virtual reality or augmented reality.; I can prepare lesson content about mobile app development.; I can edit my images with photo editor app.; I can design creative interface design for my mobile app.; I can lonely install different operating systems (Windows, Linux, MacOS).; I can know the formats (apx, php, html etc.) on address bar means.; I can enrich my lesson content by using electronic circuit (Arduino, Raspberry Pi, Tinker Board, UDOO etc.).; I can enrich my lesson content by using electronic circuit (Arduino, Raspberry Pi, Tinker Board, UDOO etc.).; I can decide components to be used in electronic circuit (Arduino, Raspberry Pi, Tinker Board, UDOO etc.).; I can develop an app with electronic circuit (Arduino, Raspberry Pi, Tinker Board, UDOO etc.).; I can develop the products which support lesson content by using electronic circuit (Arduino, Raspberry Pi, Tinker Board, UDOO etc.).; I can enrich my lesson content by using block-based app (Scratch, Codu etc.); I can develop lesson content by using educational robot kits.; I can mathematically express the solution ways of the problems I face in the daily life.; I think that I learn better the instructions made with the help of mathematical symbols and concepts.; I think that I have a special interest in the mathematical processes.; I have problems in the issue of where and how I should use the variables such as X and Y in the solution of a problem.; It is fun to try to solve the complex problems.; I am good at preparing regular plans regarding the solution of the complex problems.; I make use of a systematic method while comparing the options at my hand and while reaching a decision.; I can apply the solution ways I plan respectively and gradually.; I have not problems in the demonstration of the solution of a problem in my mind.; I have not problems in the demonstration of the solution of a problem in my mind.; I have not problems in the demonstration of the solution of a problem in my mind.; In the cooperative learning, I think that I attain/will attain more successful results because I am working in a group.; I like the people who are sure of most of their decisions.; I like unbiased and realist people.; Dreaming is caused to show up my important projects.; I trust myself to conduct the plan while I plan to solve my problem.; I have faith in solving the problems when I come across a new situation.; I am easily adapted new technologies.'"
            ],
            "application/vnd.google.colaboratory.intrinsic+json": {
              "type": "string"
            }
          },
          "metadata": {},
          "execution_count": 13
        }
      ]
    },
    {
      "cell_type": "code",
      "source": [
        "# Task: Examine a few of the texts.\n",
        "print(sentDB[\"Texts\"].iloc[0])\n",
        "print(sentDB[\"Texts\"].iloc[5])\n",
        "\n",
        "# First sentence is about sleep.\n",
        "# Fifth sentence is about setting goals and being motivated."
      ],
      "metadata": {
        "id": "SwSHxs3l77yY",
        "colab": {
          "base_uri": "https://localhost:8080/"
        },
        "outputId": "9312de0d-5ac5-4905-aca6-8ef777d441ce"
      },
      "execution_count": 14,
      "outputs": [
        {
          "output_type": "stream",
          "name": "stdout",
          "text": [
            "Sleep induction (time it takes you to fall asleep after turning-off the lights); Awakenings during the night; Final awakening earlier than desired; Total sleep duration; Overall quality of sleep (no matter how long you slept); Sense of well-being during the day; Functioning (physical and mental) during the day; Sleepiness during the day\n",
            "When I make plans, I am certain I can make them work.; One of my problems is that I cannot get down to work when I should. ; If I cant do a job the first time. I keep trying until I can.; When I set important goals for myself, I rarely achieve them.; I give up on things before completing them. ; I avoid facing difficulties. ; If something looks too complicated, I will not even bother to try it. ; When I have something unpleasant to do, I stick to it until I finish it. ; When I decide to do something, I go right to work on it. ; When trying to learn something new, I soon give up if I am not initially successful. ; When unexpected problems occur, I don't handle them well. ; I avoid trying to learn new things when they look too difficult for me. ; Failure just makes me try harder. ; I feel insecure about my ability to do things. ; I am a self-reliant person.; I give up easily. ; I do not seem capable of dealing with most problems that come up in life.\n"
          ]
        }
      ]
    },
    {
      "cell_type": "code",
      "source": [
        "# We will need the library for loading sentence transformers\n",
        "# This generates a lot of output, but should run pretty fast.\n",
        "!pip install sentence-transformers"
      ],
      "metadata": {
        "id": "WccijZZ4_vSh",
        "colab": {
          "base_uri": "https://localhost:8080/"
        },
        "collapsed": true,
        "outputId": "be7e2be0-679b-4bf8-dd48-7a63fbf693e1"
      },
      "execution_count": 15,
      "outputs": [
        {
          "output_type": "stream",
          "name": "stdout",
          "text": [
            "Collecting sentence-transformers\n",
            "  Downloading sentence-transformers-2.2.0.tar.gz (79 kB)\n",
            "\u001b[K     |████████████████████████████████| 79 kB 5.5 MB/s \n",
            "\u001b[?25hCollecting transformers<5.0.0,>=4.6.0\n",
            "  Downloading transformers-4.18.0-py3-none-any.whl (4.0 MB)\n",
            "\u001b[K     |████████████████████████████████| 4.0 MB 34.0 MB/s \n",
            "\u001b[?25hRequirement already satisfied: tqdm in /usr/local/lib/python3.7/dist-packages (from sentence-transformers) (4.64.0)\n",
            "Requirement already satisfied: torch>=1.6.0 in /usr/local/lib/python3.7/dist-packages (from sentence-transformers) (1.10.0+cu111)\n",
            "Requirement already satisfied: torchvision in /usr/local/lib/python3.7/dist-packages (from sentence-transformers) (0.11.1+cu111)\n",
            "Requirement already satisfied: numpy in /usr/local/lib/python3.7/dist-packages (from sentence-transformers) (1.21.5)\n",
            "Requirement already satisfied: scikit-learn in /usr/local/lib/python3.7/dist-packages (from sentence-transformers) (1.0.2)\n",
            "Requirement already satisfied: scipy in /usr/local/lib/python3.7/dist-packages (from sentence-transformers) (1.4.1)\n",
            "Requirement already satisfied: nltk in /usr/local/lib/python3.7/dist-packages (from sentence-transformers) (3.2.5)\n",
            "Collecting sentencepiece\n",
            "  Downloading sentencepiece-0.1.96-cp37-cp37m-manylinux_2_17_x86_64.manylinux2014_x86_64.whl (1.2 MB)\n",
            "\u001b[K     |████████████████████████████████| 1.2 MB 10.2 MB/s \n",
            "\u001b[?25hCollecting huggingface-hub\n",
            "  Downloading huggingface_hub-0.5.1-py3-none-any.whl (77 kB)\n",
            "\u001b[K     |████████████████████████████████| 77 kB 3.5 MB/s \n",
            "\u001b[?25hRequirement already satisfied: typing-extensions in /usr/local/lib/python3.7/dist-packages (from torch>=1.6.0->sentence-transformers) (4.1.1)\n",
            "Requirement already satisfied: packaging>=20.0 in /usr/local/lib/python3.7/dist-packages (from transformers<5.0.0,>=4.6.0->sentence-transformers) (21.3)\n",
            "Collecting sacremoses\n",
            "  Downloading sacremoses-0.0.49-py3-none-any.whl (895 kB)\n",
            "\u001b[K     |████████████████████████████████| 895 kB 40.1 MB/s \n",
            "\u001b[?25hCollecting tokenizers!=0.11.3,<0.13,>=0.11.1\n",
            "  Downloading tokenizers-0.12.1-cp37-cp37m-manylinux_2_12_x86_64.manylinux2010_x86_64.whl (6.6 MB)\n",
            "\u001b[K     |████████████████████████████████| 6.6 MB 45.8 MB/s \n",
            "\u001b[?25hRequirement already satisfied: filelock in /usr/local/lib/python3.7/dist-packages (from transformers<5.0.0,>=4.6.0->sentence-transformers) (3.6.0)\n",
            "Requirement already satisfied: regex!=2019.12.17 in /usr/local/lib/python3.7/dist-packages (from transformers<5.0.0,>=4.6.0->sentence-transformers) (2019.12.20)\n",
            "Requirement already satisfied: importlib-metadata in /usr/local/lib/python3.7/dist-packages (from transformers<5.0.0,>=4.6.0->sentence-transformers) (4.11.3)\n",
            "Requirement already satisfied: requests in /usr/local/lib/python3.7/dist-packages (from transformers<5.0.0,>=4.6.0->sentence-transformers) (2.23.0)\n",
            "Collecting pyyaml>=5.1\n",
            "  Downloading PyYAML-6.0-cp37-cp37m-manylinux_2_5_x86_64.manylinux1_x86_64.manylinux_2_12_x86_64.manylinux2010_x86_64.whl (596 kB)\n",
            "\u001b[K     |████████████████████████████████| 596 kB 10.2 MB/s \n",
            "\u001b[?25hRequirement already satisfied: pyparsing!=3.0.5,>=2.0.2 in /usr/local/lib/python3.7/dist-packages (from packaging>=20.0->transformers<5.0.0,>=4.6.0->sentence-transformers) (3.0.8)\n",
            "Requirement already satisfied: zipp>=0.5 in /usr/local/lib/python3.7/dist-packages (from importlib-metadata->transformers<5.0.0,>=4.6.0->sentence-transformers) (3.8.0)\n",
            "Requirement already satisfied: six in /usr/local/lib/python3.7/dist-packages (from nltk->sentence-transformers) (1.15.0)\n",
            "Requirement already satisfied: certifi>=2017.4.17 in /usr/local/lib/python3.7/dist-packages (from requests->transformers<5.0.0,>=4.6.0->sentence-transformers) (2021.10.8)\n",
            "Requirement already satisfied: urllib3!=1.25.0,!=1.25.1,<1.26,>=1.21.1 in /usr/local/lib/python3.7/dist-packages (from requests->transformers<5.0.0,>=4.6.0->sentence-transformers) (1.24.3)\n",
            "Requirement already satisfied: idna<3,>=2.5 in /usr/local/lib/python3.7/dist-packages (from requests->transformers<5.0.0,>=4.6.0->sentence-transformers) (2.10)\n",
            "Requirement already satisfied: chardet<4,>=3.0.2 in /usr/local/lib/python3.7/dist-packages (from requests->transformers<5.0.0,>=4.6.0->sentence-transformers) (3.0.4)\n",
            "Requirement already satisfied: joblib in /usr/local/lib/python3.7/dist-packages (from sacremoses->transformers<5.0.0,>=4.6.0->sentence-transformers) (1.1.0)\n",
            "Requirement already satisfied: click in /usr/local/lib/python3.7/dist-packages (from sacremoses->transformers<5.0.0,>=4.6.0->sentence-transformers) (7.1.2)\n",
            "Requirement already satisfied: threadpoolctl>=2.0.0 in /usr/local/lib/python3.7/dist-packages (from scikit-learn->sentence-transformers) (3.1.0)\n",
            "Requirement already satisfied: pillow!=8.3.0,>=5.3.0 in /usr/local/lib/python3.7/dist-packages (from torchvision->sentence-transformers) (7.1.2)\n",
            "Building wheels for collected packages: sentence-transformers\n",
            "  Building wheel for sentence-transformers (setup.py) ... \u001b[?25l\u001b[?25hdone\n",
            "  Created wheel for sentence-transformers: filename=sentence_transformers-2.2.0-py3-none-any.whl size=120747 sha256=c47ac049757f47100a9ffb33d6d765a6773ec9fc54686b25c3450f31f961f838\n",
            "  Stored in directory: /root/.cache/pip/wheels/83/c0/df/b6873ab7aac3f2465aa9144b6b4c41c4391cfecc027c8b07e7\n",
            "Successfully built sentence-transformers\n",
            "Installing collected packages: pyyaml, tokenizers, sacremoses, huggingface-hub, transformers, sentencepiece, sentence-transformers\n",
            "  Attempting uninstall: pyyaml\n",
            "    Found existing installation: PyYAML 3.13\n",
            "    Uninstalling PyYAML-3.13:\n",
            "      Successfully uninstalled PyYAML-3.13\n",
            "Successfully installed huggingface-hub-0.5.1 pyyaml-6.0 sacremoses-0.0.49 sentence-transformers-2.2.0 sentencepiece-0.1.96 tokenizers-0.12.1 transformers-4.18.0\n"
          ]
        }
      ]
    },
    {
      "cell_type": "code",
      "source": [
        "# Now load a pre-trained sentence transformer. There are hundreds to choose from.\n",
        "# This downloads a lot of data to your virtual machine and takes half a minute or so.\n",
        "from sentence_transformers import SentenceTransformer\n",
        "\n",
        "# Here's a sentence transformer model that encodes a d=384 vector. See:\n",
        "# https://huggingface.co/sentence-transformers/all-MiniLM-L6-v2\n",
        "sentence_model = SentenceTransformer('sentence-transformers/all-MiniLM-L6-v2')"
      ],
      "metadata": {
        "id": "DK5iGreGACVU",
        "colab": {
          "base_uri": "https://localhost:8080/",
          "height": 465,
          "referenced_widgets": [
            "50843f301bbf41a6848d6db7251c592d",
            "790979fbbe99442da78c620877524c32",
            "b78c8e15d2584ceaa21744bb9d40ab66",
            "6723fa86eb4240fdbb4211d59fcf2f79",
            "edb1b1f0014b4955b479c7e2a316975d",
            "99fac8113f6b41b9a8d3f24df2ab515d",
            "64cf2f60905d42a2852689edfe5168b6",
            "78171164f1ad43de99266c4e8900a437",
            "f4555f0a7e404c709e907ad100313d54",
            "67a07a827478489ba05762f4f163c87f",
            "8c1b1d4c964948acb7c1ba7795abdeb8",
            "9e83c57bb50f4e6db413a46d4faedae3",
            "68f5d1e088dd4389bc2ee52e04876092",
            "d53477af902c4dca92cf43e2ef246489",
            "d0923b5caebc44fa994451a0f01c1456",
            "2d920c596ef0415c82f4896455cb33a3",
            "3c1327913c53448e85d50c7324222fbd",
            "18b9b638f7af4136be00273116412196",
            "054292d10c9a43b69a9de9ec572dfee3",
            "72d2b44ed028455589557c0c4dd4b81b",
            "73fb8a2318a44cb88503690509483389",
            "8ba682f237bf4b6daf2c96e136038e4d",
            "33e5252e25624e7aab23b7d9ea747ca3",
            "095e4b36651a4b0dbf75506c74244a18",
            "8c25490d398b41448f32294c86c12814",
            "f438ca20cbb3481cbc5dfcc4561db2ac",
            "110037db539e4d749944d26a8e10b352",
            "ad1248342d3548ac9daca19a22839c81",
            "60df76c228a147f88af9455d6f259ee2",
            "26f6375a8b8745b78134beef6bfe17f9",
            "c3d2a4ec9b4944d6ab52f6430f34be8c",
            "cc0c78293b3741a3b1aee8e5c4e43a80",
            "89079e07702641be98413a2f9b73f53b",
            "c339f1d28e7946f1ab20a237f6eba56e",
            "dbeae876ddd541cca2a1375b8abe14c8",
            "fc293a84ce1c4024b9d804c43a8a405f",
            "34265483cec9427c92cade7796c832a6",
            "6cb461531b6647ea832b5f7dba552354",
            "cba3af018ece4fb18086fdd3a8ca43de",
            "232c9226270a4a5a914d206ba107eccb",
            "525256ea39cc4759b164d0fd20555c2e",
            "a011e181253f448681c98a3cab91cd53",
            "44cce37575704f23b3fc952b2d4d441c",
            "dc4eb8e7708c48ed9a7a3804e9d770e1",
            "a042e4c688994ebcb4868dff1374cd0b",
            "2b299fd823344486b97682aafbfcd33e",
            "2475f394210141d4a959155214f35d4c",
            "89f762d278cf4081a982c81bddf7a280",
            "409a6b98ddef451787afa47b2dd4d2f4",
            "58547f4571d548c2b846d41d62b420b3",
            "9603c8ef2cba48a48441b2852b5e50b0",
            "67676a64ad884fec9c54cdd5662fd1e2",
            "51e2807883ab4a808e674c69385ed243",
            "0b3f077f71f04e5590227a3098da5449",
            "eb1f6ea4ac7f475390408e4da137161b",
            "0dea1d8f90bd43a4bc26949185020997",
            "cf2d5032c0cc46e396db2ff5e52c06b4",
            "ffecc13a0b36478cb80a75bdf3b650a9",
            "72fd9a093b3e48c9a68e8f57ce033042",
            "42b4dc383656414ca1cbe15eb31a79fa",
            "db1eb843b812438fadb8752351a58eb4",
            "da02feb2bff74c4e96ce4cca2abac4ef",
            "12c7dbe240904883a186d5bebfd9a974",
            "a3ea861ce0894a899da26b17e13af33c",
            "52a8923459324418aeae67cf66c9ed11",
            "61968817bb7a4790aac178d2bdc076f1",
            "9e29ab2dd10b4f3488ba507d96d44747",
            "e587be5367e245d7b5fe67c1330b6e65",
            "5817a4eb693743f99c37f46a30662d16",
            "3291b2a844c54641aa745983d316e157",
            "e082b33e76d84ace854b6dcd80654f79",
            "8536dfb16c7e4cc2a97f395396ba125c",
            "12cf961d57604a3b96862b5965081eec",
            "dbcb98bf83644e93b1a0aa3574a1ce96",
            "c64dbe1cbe2a49549dca9ad817bde3b4",
            "a33350e55bdd40adbb3a326814ef5509",
            "ea0b44d8800946c4a5d740b14bbf92f0",
            "d98fb960322c42dea25f979f1fef7ad2",
            "12496d201e89494eae4d6ebd3d3e97bc",
            "2a8b2e7c921743fbaf98e52bd37e46a4",
            "310dff1b73be473c9a8acea8cc34438e",
            "3c5e06f780824c5cabd3ff1c3ef1aff6",
            "2215281f750e42e7bc4e7f261acbd143",
            "e8d22531420440f9806331b63bd594f7",
            "8f5ffdb9133e42819684b2632d2b2cce",
            "76aab4c24e1345c49cd8356ebfa380a3",
            "9321aa1776cc450ea5df9669a629d05e",
            "57d32445e6244bd382b799c2550482af",
            "d8a24d2d3e954237a0fdf3bd11caaeb2",
            "3315501cb5c145068871e959dc87df20",
            "46ab523e5b8948b6b0ad67d9625c52b3",
            "5d02bbec134e428388b7e8f82a9ef410",
            "c5cdd5177e12465d974a8b9e31ab14ff",
            "e50df21f540d4115b08c1f8db5195aca",
            "15496f07d6dc457cb40b5b64a70f4618",
            "121071fe9b494e95b0d8f965f8a0e51d",
            "b19be758cb604a9da3280756a24fba62",
            "53006416bd6749889cb440496fdc0edb",
            "a6eb7b26d224416ab68c0e800cd19ffa",
            "7de58910c9424e1cacfbe755d7a2fb00",
            "aab486394a7f45f39191d54ab39a97ef",
            "b791dfdbcf434e9681ef3ee8400590e5",
            "267d173444ef44a993fec3b8a64c3474",
            "6e6ce39b59054c62ad37f2d96db7d49e",
            "ba20cc9999fa4cb2b2e341d8dbfd5752",
            "57dc5f6b05ce49619ab264d4d3446dd7",
            "cb661c88df02428a9814cef93f186074",
            "6092b315a3d84269b163d510f80f27ad",
            "03d6612388fe427cac824f303d2d3b74",
            "f9e89b98e571472ea74bf3bbdda929b4",
            "e01b9e884514419ea1651e362b2d42ea",
            "a5949ed436c14f728a15f20bf6c75c81",
            "47216b32a063477bad7a63fc3647ad9a",
            "ce8fa5755c974dfe892b21a28bc92ba6",
            "2ca4351d97e749ce82d6763522b11624",
            "f889c8aab9e144be948ccc249b5244f9",
            "dfdc5c69a652483dbb9cf70c12412918",
            "be5b0f9b69e14164b471efca50b0003f",
            "973108b031c64182a9f3d5e115eeb0a3",
            "7a62e4403f3d49dbb353276900429d0c",
            "4860b82c872c4a599b1d890c614cc479",
            "e8d130de9cf14ab5aa3b5f55de01de81",
            "4b7d29179b83493a97cedd7baf980a0f",
            "f26dc5c681d247179329a6207efe6cbe",
            "558530e9e484467682e665b78908d2a8",
            "a54f8347853944b8abea0b451066eaa5",
            "6e5706dfb5c04f29a01929c8e23ae2b3",
            "f381e4021d51463ab684b9aa794d8a8a",
            "6842b81673254a20a77ed75de92461cc",
            "ada91a1cb3e049eb95c996d869302e60",
            "2385e0f7d1a6483094873d9d31695361",
            "db25658a68724986a93a29c85b6e98a8",
            "2440fe19ed344fcba24563f7f1732e3f",
            "71c7ba600b744e04b79878f0dc160f4e",
            "5569dda4edda4f2fab7c2f50067a6a61",
            "585d9c8453f548afa53e65f64b6e3d6c",
            "56a873a4e834410abcdb3f1bf5bb6c89",
            "aba0f6f8a0ab4c45bde4cdea7924a75b",
            "7f57d97e42c04287a8a1989268f4c371",
            "f316e01e2d5c49d59ace91c219f620ff",
            "52b82497d778402fbefec31df997f080",
            "966a51c1fc9246d5ae2d674c3b66e9ea",
            "b3880afaeffb45fe930bf238d983c26d",
            "9548e3ac0b1c44d98fdd20c3a772fde5",
            "f3b599e584db478798a43693719999e4",
            "2c0b9fef713945a793731a9142718940",
            "e9376c37a2e84c72aea37deffd225855",
            "9329dce00fcb44828647f1a4bb2af6dd",
            "469da8f6ebc148e58321d4fcd6a1288a",
            "3691aa7476b8402b81177e0fac58c9b3",
            "399a1c568dbc4723a03c446eed420fbb",
            "9597f436788f4c67a6626922ba7cb901",
            "8a6b079a3f114992a2a0752e7cccd965",
            "c4982e0343a24f2b9c5ab5866eb5c21f"
          ]
        },
        "outputId": "0e0f714e-dfb8-47c7-c4c8-b3c3e2aec152"
      },
      "execution_count": 16,
      "outputs": [
        {
          "output_type": "display_data",
          "data": {
            "text/plain": [
              "Downloading:   0%|          | 0.00/1.18k [00:00<?, ?B/s]"
            ],
            "application/vnd.jupyter.widget-view+json": {
              "version_major": 2,
              "version_minor": 0,
              "model_id": "50843f301bbf41a6848d6db7251c592d"
            }
          },
          "metadata": {}
        },
        {
          "output_type": "display_data",
          "data": {
            "text/plain": [
              "Downloading:   0%|          | 0.00/190 [00:00<?, ?B/s]"
            ],
            "application/vnd.jupyter.widget-view+json": {
              "version_major": 2,
              "version_minor": 0,
              "model_id": "9e83c57bb50f4e6db413a46d4faedae3"
            }
          },
          "metadata": {}
        },
        {
          "output_type": "display_data",
          "data": {
            "text/plain": [
              "Downloading:   0%|          | 0.00/10.2k [00:00<?, ?B/s]"
            ],
            "application/vnd.jupyter.widget-view+json": {
              "version_major": 2,
              "version_minor": 0,
              "model_id": "33e5252e25624e7aab23b7d9ea747ca3"
            }
          },
          "metadata": {}
        },
        {
          "output_type": "display_data",
          "data": {
            "text/plain": [
              "Downloading:   0%|          | 0.00/612 [00:00<?, ?B/s]"
            ],
            "application/vnd.jupyter.widget-view+json": {
              "version_major": 2,
              "version_minor": 0,
              "model_id": "c339f1d28e7946f1ab20a237f6eba56e"
            }
          },
          "metadata": {}
        },
        {
          "output_type": "display_data",
          "data": {
            "text/plain": [
              "Downloading:   0%|          | 0.00/116 [00:00<?, ?B/s]"
            ],
            "application/vnd.jupyter.widget-view+json": {
              "version_major": 2,
              "version_minor": 0,
              "model_id": "a042e4c688994ebcb4868dff1374cd0b"
            }
          },
          "metadata": {}
        },
        {
          "output_type": "display_data",
          "data": {
            "text/plain": [
              "Downloading:   0%|          | 0.00/39.3k [00:00<?, ?B/s]"
            ],
            "application/vnd.jupyter.widget-view+json": {
              "version_major": 2,
              "version_minor": 0,
              "model_id": "0dea1d8f90bd43a4bc26949185020997"
            }
          },
          "metadata": {}
        },
        {
          "output_type": "display_data",
          "data": {
            "text/plain": [
              "Downloading:   0%|          | 0.00/349 [00:00<?, ?B/s]"
            ],
            "application/vnd.jupyter.widget-view+json": {
              "version_major": 2,
              "version_minor": 0,
              "model_id": "9e29ab2dd10b4f3488ba507d96d44747"
            }
          },
          "metadata": {}
        },
        {
          "output_type": "display_data",
          "data": {
            "text/plain": [
              "Downloading:   0%|          | 0.00/90.9M [00:00<?, ?B/s]"
            ],
            "application/vnd.jupyter.widget-view+json": {
              "version_major": 2,
              "version_minor": 0,
              "model_id": "d98fb960322c42dea25f979f1fef7ad2"
            }
          },
          "metadata": {}
        },
        {
          "output_type": "display_data",
          "data": {
            "text/plain": [
              "Downloading:   0%|          | 0.00/53.0 [00:00<?, ?B/s]"
            ],
            "application/vnd.jupyter.widget-view+json": {
              "version_major": 2,
              "version_minor": 0,
              "model_id": "d8a24d2d3e954237a0fdf3bd11caaeb2"
            }
          },
          "metadata": {}
        },
        {
          "output_type": "display_data",
          "data": {
            "text/plain": [
              "Downloading:   0%|          | 0.00/112 [00:00<?, ?B/s]"
            ],
            "application/vnd.jupyter.widget-view+json": {
              "version_major": 2,
              "version_minor": 0,
              "model_id": "7de58910c9424e1cacfbe755d7a2fb00"
            }
          },
          "metadata": {}
        },
        {
          "output_type": "display_data",
          "data": {
            "text/plain": [
              "Downloading:   0%|          | 0.00/466k [00:00<?, ?B/s]"
            ],
            "application/vnd.jupyter.widget-view+json": {
              "version_major": 2,
              "version_minor": 0,
              "model_id": "e01b9e884514419ea1651e362b2d42ea"
            }
          },
          "metadata": {}
        },
        {
          "output_type": "display_data",
          "data": {
            "text/plain": [
              "Downloading:   0%|          | 0.00/350 [00:00<?, ?B/s]"
            ],
            "application/vnd.jupyter.widget-view+json": {
              "version_major": 2,
              "version_minor": 0,
              "model_id": "e8d130de9cf14ab5aa3b5f55de01de81"
            }
          },
          "metadata": {}
        },
        {
          "output_type": "display_data",
          "data": {
            "text/plain": [
              "Downloading:   0%|          | 0.00/13.2k [00:00<?, ?B/s]"
            ],
            "application/vnd.jupyter.widget-view+json": {
              "version_major": 2,
              "version_minor": 0,
              "model_id": "2440fe19ed344fcba24563f7f1732e3f"
            }
          },
          "metadata": {}
        },
        {
          "output_type": "display_data",
          "data": {
            "text/plain": [
              "Downloading:   0%|          | 0.00/232k [00:00<?, ?B/s]"
            ],
            "application/vnd.jupyter.widget-view+json": {
              "version_major": 2,
              "version_minor": 0,
              "model_id": "9548e3ac0b1c44d98fdd20c3a772fde5"
            }
          },
          "metadata": {}
        }
      ]
    },
    {
      "cell_type": "code",
      "source": [
        "# This defines a function that takes an input matrix and puts it in the\n",
        "# upper left corner of a standard-sized matrix\n",
        "\n",
        "import numpy as np\n",
        "\n",
        "def pad_matrix(in_mat, mat_size):\n",
        "  ret_mat = np.zeros(shape=(mat_size, mat_size))\n",
        "\n",
        "  # By using Python negative indices, we can target the upper left subset\n",
        "  # of the return matrix in the same shape as the input matrix.\n",
        "  ret_mat[:-(mat_size - in_mat.shape[0]), :-(mat_size - in_mat.shape[1])] = in_mat\n",
        "  return(ret_mat)"
      ],
      "metadata": {
        "id": "VoL41bDjBzEb"
      },
      "execution_count": 17,
      "outputs": []
    },
    {
      "cell_type": "code",
      "source": [
        "# Test the padder\n",
        "M = np.arange(3*3).reshape((3,3))\n",
        "print(M)\n",
        "\n",
        "pad_matrix(M, 5)"
      ],
      "metadata": {
        "id": "EjyPxfO3E6eZ",
        "colab": {
          "base_uri": "https://localhost:8080/"
        },
        "outputId": "10428563-4803-41aa-e5a2-d33727876f05"
      },
      "execution_count": 18,
      "outputs": [
        {
          "output_type": "stream",
          "name": "stdout",
          "text": [
            "[[0 1 2]\n",
            " [3 4 5]\n",
            " [6 7 8]]\n"
          ]
        },
        {
          "output_type": "execute_result",
          "data": {
            "text/plain": [
              "array([[0., 1., 2., 0., 0.],\n",
              "       [3., 4., 5., 0., 0.],\n",
              "       [6., 7., 8., 0., 0.],\n",
              "       [0., 0., 0., 0., 0.],\n",
              "       [0., 0., 0., 0., 0.]])"
            ]
          },
          "metadata": {},
          "execution_count": 18
        }
      ]
    },
    {
      "cell_type": "markdown",
      "source": [
        "## Analyzing padded matrix"
      ],
      "metadata": {
        "id": "RW1dX8fu0xJE"
      }
    },
    {
      "cell_type": "code",
      "source": [
        "# Process the individual texts: Takes about half a minute\n",
        "from sentence_transformers.util import cos_sim\n",
        "\n",
        "mat_list = []\n",
        "\n",
        "for text in sentDB[\"Texts\"]:\n",
        "  items = text.split(\";\")\n",
        "  vect_list = sentence_model.encode(items)  # transforming text in each sentence into a 384 dimensional vector space\n",
        "  sim_matrix = cos_sim(vect_list, vect_list)\n",
        "  mat_list.append(pad_matrix(sim_matrix, max_mat_size))"
      ],
      "metadata": {
        "id": "savDeA4L_Bhz"
      },
      "execution_count": 19,
      "outputs": []
    },
    {
      "cell_type": "code",
      "source": [
        "# Should have the same number of matrices as rows in the pandas df\n",
        "len(mat_list)"
      ],
      "metadata": {
        "id": "BD7LLu0CBukh",
        "colab": {
          "base_uri": "https://localhost:8080/"
        },
        "outputId": "526709b2-d8cf-4096-e141-4b72eb84e4a7"
      },
      "execution_count": 20,
      "outputs": [
        {
          "output_type": "execute_result",
          "data": {
            "text/plain": [
              "284"
            ]
          },
          "metadata": {},
          "execution_count": 20
        }
      ]
    },
    {
      "cell_type": "markdown",
      "source": [
        "mat_list is a list for the 284 sentences that we have in our data."
      ],
      "metadata": {
        "id": "kw7rWkGHzbJt"
      }
    },
    {
      "cell_type": "code",
      "source": [
        "# Task: Review one of the padded matrices. Comment on what you see."
      ],
      "metadata": {
        "id": "bZebSsJnBxli"
      },
      "execution_count": 21,
      "outputs": []
    },
    {
      "cell_type": "code",
      "source": [
        "mat_list[0].shape, mat_list[0]  # This is the matrix for the first sentence. "
      ],
      "metadata": {
        "colab": {
          "base_uri": "https://localhost:8080/"
        },
        "id": "J9L7eC08zm3a",
        "outputId": "b682f8b4-e212-48a5-a0d9-7371e20c75bd"
      },
      "execution_count": 22,
      "outputs": [
        {
          "output_type": "execute_result",
          "data": {
            "text/plain": [
              "((56, 56),\n",
              " array([[1.00000012, 0.51713705, 0.25663489, ..., 0.        , 0.        ,\n",
              "         0.        ],\n",
              "        [0.51713705, 1.00000024, 0.49270099, ..., 0.        , 0.        ,\n",
              "         0.        ],\n",
              "        [0.25663489, 0.49270099, 1.00000012, ..., 0.        , 0.        ,\n",
              "         0.        ],\n",
              "        ...,\n",
              "        [0.        , 0.        , 0.        , ..., 0.        , 0.        ,\n",
              "         0.        ],\n",
              "        [0.        , 0.        , 0.        , ..., 0.        , 0.        ,\n",
              "         0.        ],\n",
              "        [0.        , 0.        , 0.        , ..., 0.        , 0.        ,\n",
              "         0.        ]]))"
            ]
          },
          "metadata": {},
          "execution_count": 22
        }
      ]
    },
    {
      "cell_type": "code",
      "source": [
        "# View the first text and number of sentences in it.\n",
        "sentDB.iloc[0]['NumSent'], sentDB.iloc[0]['Texts'] # There are 8 sentences in this text. "
      ],
      "metadata": {
        "colab": {
          "base_uri": "https://localhost:8080/"
        },
        "id": "MjkWU84i0Xs-",
        "outputId": "e472b1fe-cb6b-480e-9958-4b8e0a1e4076"
      },
      "execution_count": 23,
      "outputs": [
        {
          "output_type": "execute_result",
          "data": {
            "text/plain": [
              "(8,\n",
              " 'Sleep induction (time it takes you to fall asleep after turning-off the lights); Awakenings during the night; Final awakening earlier than desired; Total sleep duration; Overall quality of sleep (no matter how long you slept); Sense of well-being during the day; Functioning (physical and mental) during the day; Sleepiness during the day')"
            ]
          },
          "metadata": {},
          "execution_count": 23
        }
      ]
    },
    {
      "cell_type": "code",
      "source": [
        "mat_list[0][0]\n",
        "# This contains the cosine similarity scores of the first sentence with the other 7 sentences for the text contained in first row of data."
      ],
      "metadata": {
        "colab": {
          "base_uri": "https://localhost:8080/"
        },
        "id": "CZPEx0ud0t-q",
        "outputId": "64ea7b6c-8b8d-4c46-e96a-b40ea2313cca"
      },
      "execution_count": 24,
      "outputs": [
        {
          "output_type": "execute_result",
          "data": {
            "text/plain": [
              "array([1.00000012, 0.51713705, 0.25663489, 0.42713016, 0.38633689,\n",
              "       0.15928498, 0.25946495, 0.36126399, 0.        , 0.        ,\n",
              "       0.        , 0.        , 0.        , 0.        , 0.        ,\n",
              "       0.        , 0.        , 0.        , 0.        , 0.        ,\n",
              "       0.        , 0.        , 0.        , 0.        , 0.        ,\n",
              "       0.        , 0.        , 0.        , 0.        , 0.        ,\n",
              "       0.        , 0.        , 0.        , 0.        , 0.        ,\n",
              "       0.        , 0.        , 0.        , 0.        , 0.        ,\n",
              "       0.        , 0.        , 0.        , 0.        , 0.        ,\n",
              "       0.        , 0.        , 0.        , 0.        , 0.        ,\n",
              "       0.        , 0.        , 0.        , 0.        , 0.        ,\n",
              "       0.        ])"
            ]
          },
          "metadata": {},
          "execution_count": 24
        }
      ]
    },
    {
      "cell_type": "code",
      "source": [
        "mat_list[0][1]\n",
        "# This contains the cosine similarity scores of the second sentence with the other 7 sentences for the text contained in first row of data."
      ],
      "metadata": {
        "colab": {
          "base_uri": "https://localhost:8080/"
        },
        "id": "50bn5s5D1tn-",
        "outputId": "70574069-4d37-41b8-c429-4b99c51c1f66"
      },
      "execution_count": 25,
      "outputs": [
        {
          "output_type": "execute_result",
          "data": {
            "text/plain": [
              "array([0.51713705, 1.00000024, 0.49270099, 0.35162467, 0.36825812,\n",
              "       0.35767582, 0.38968417, 0.41693851, 0.        , 0.        ,\n",
              "       0.        , 0.        , 0.        , 0.        , 0.        ,\n",
              "       0.        , 0.        , 0.        , 0.        , 0.        ,\n",
              "       0.        , 0.        , 0.        , 0.        , 0.        ,\n",
              "       0.        , 0.        , 0.        , 0.        , 0.        ,\n",
              "       0.        , 0.        , 0.        , 0.        , 0.        ,\n",
              "       0.        , 0.        , 0.        , 0.        , 0.        ,\n",
              "       0.        , 0.        , 0.        , 0.        , 0.        ,\n",
              "       0.        , 0.        , 0.        , 0.        , 0.        ,\n",
              "       0.        , 0.        , 0.        , 0.        , 0.        ,\n",
              "       0.        ])"
            ]
          },
          "metadata": {},
          "execution_count": 25
        }
      ]
    },
    {
      "cell_type": "code",
      "source": [
        "mat_list[0][8]\n",
        "# Since there are only 8 sentences in the first row of 'Texts' column, this is just a zero padded array. "
      ],
      "metadata": {
        "colab": {
          "base_uri": "https://localhost:8080/"
        },
        "id": "HXTBJd6O147T",
        "outputId": "21057d25-d2fa-4730-fcfd-095ca92e5df3"
      },
      "execution_count": 26,
      "outputs": [
        {
          "output_type": "execute_result",
          "data": {
            "text/plain": [
              "array([0., 0., 0., 0., 0., 0., 0., 0., 0., 0., 0., 0., 0., 0., 0., 0., 0.,\n",
              "       0., 0., 0., 0., 0., 0., 0., 0., 0., 0., 0., 0., 0., 0., 0., 0., 0.,\n",
              "       0., 0., 0., 0., 0., 0., 0., 0., 0., 0., 0., 0., 0., 0., 0., 0., 0.,\n",
              "       0., 0., 0., 0., 0.])"
            ]
          },
          "metadata": {},
          "execution_count": 26
        }
      ]
    },
    {
      "cell_type": "code",
      "source": [
        "# The text containing maximum number of sentences. Here, we have 55 sentences and the cosine similarity of the first sentence with all other sentences.\n",
        "mat_list[max_arg][0]"
      ],
      "metadata": {
        "colab": {
          "base_uri": "https://localhost:8080/"
        },
        "id": "aFE4sxJc_EUU",
        "outputId": "495c8e10-9939-4958-e3b6-7036224e5b3d"
      },
      "execution_count": 27,
      "outputs": [
        {
          "output_type": "execute_result",
          "data": {
            "text/plain": [
              "array([ 1.        ,  0.66758716,  0.5088104 ,  0.35978127,  0.5644387 ,\n",
              "        0.58140123,  0.7316677 ,  0.61782455,  0.53941631,  0.7095561 ,\n",
              "        0.65957177,  0.55903769,  0.63991058,  0.5289185 ,  0.32241708,\n",
              "        0.37086776,  0.51127696,  0.46203792,  0.42788902,  0.49734813,\n",
              "        0.40717655,  0.37441605,  0.59458756,  0.49430919,  0.49430919,\n",
              "        0.50835538,  0.30910334,  0.52853227,  0.25516069,  0.12286848,\n",
              "        0.49848208,  0.49848208,  0.26456931,  0.48119   ,  0.58044046,\n",
              "        0.46895397,  0.57617962,  0.24629831,  0.17014343,  0.23941255,\n",
              "        0.08543335,  0.19593477,  0.19911638, -0.03138067,  0.13987929,\n",
              "        0.10423396,  0.10423396,  0.10423396,  0.18151224, -0.0234004 ,\n",
              "        0.08596988,  0.2528832 ,  0.07834218,  0.01595653,  0.39769405,\n",
              "        0.        ])"
            ]
          },
          "metadata": {},
          "execution_count": 27
        }
      ]
    },
    {
      "cell_type": "markdown",
      "source": [
        "mat_list is a list containing cosine similarity scores for a sentence with other sentences in a single row of our data. Since the maximum number of sentences contained in a text is 55, we have padded other cosine similarity scores with zeros to make each feature of same size. "
      ],
      "metadata": {
        "id": "kAmktLJY2EXz"
      }
    },
    {
      "cell_type": "markdown",
      "source": [
        "## Creating Tensors for training "
      ],
      "metadata": {
        "id": "R-EbtXld1H89"
      }
    },
    {
      "cell_type": "code",
      "source": [
        "# Convert matrices into a tensor: This tensor will be the input to your CNN\n",
        "import tensorflow as tf\n",
        "\n",
        "sim_tensor = tf.convert_to_tensor(mat_list)\n",
        "\n",
        "sim_tensor.shape"
      ],
      "metadata": {
        "id": "_VJgkDvCIowC",
        "colab": {
          "base_uri": "https://localhost:8080/"
        },
        "outputId": "4f07887a-c812-4aa6-f7ee-46fa4632b01b"
      },
      "execution_count": 28,
      "outputs": [
        {
          "output_type": "execute_result",
          "data": {
            "text/plain": [
              "TensorShape([284, 56, 56])"
            ]
          },
          "metadata": {},
          "execution_count": 28
        }
      ]
    },
    {
      "cell_type": "code",
      "source": [
        ""
      ],
      "metadata": {
        "id": "hf2IdvvX1OiK"
      },
      "execution_count": 28,
      "outputs": []
    },
    {
      "cell_type": "code",
      "source": [
        "# These will be your output tensors for each of three separate models\n",
        "cpy_tensor = tf.convert_to_tensor(sentDB[\"LogCPY\"])\n",
        "alpha_tensor = tf.convert_to_tensor(sentDB[\"Alpha\"])\n",
        "jif_tensor = tf.convert_to_tensor(sentDB[\"LogJIF\"])\n",
        "\n",
        "cpy_tensor.shape, alpha_tensor.shape, jif_tensor.shape"
      ],
      "metadata": {
        "id": "1Ey1iHpxb40M",
        "colab": {
          "base_uri": "https://localhost:8080/"
        },
        "outputId": "9dd2ad52-2b4f-4137-c0c9-ced95d67a874"
      },
      "execution_count": 29,
      "outputs": [
        {
          "output_type": "execute_result",
          "data": {
            "text/plain": [
              "(TensorShape([284]), TensorShape([284]), TensorShape([284]))"
            ]
          },
          "metadata": {},
          "execution_count": 29
        }
      ]
    },
    {
      "cell_type": "markdown",
      "source": [
        "# 2. CNN model and training"
      ],
      "metadata": {
        "id": "rAD7bnG_1MTi"
      }
    },
    {
      "cell_type": "code",
      "source": [
        "# Here are a few keras imports that will probably be needed. You can include\n",
        "# other kinds of layers appropriate to CNNs if you like. \n",
        "from keras.models import Sequential\n",
        "from keras.layers import Dense, Dropout, Flatten\n",
        "from keras.layers import Conv2D, MaxPooling2D\n",
        "from keras.losses import MeanSquaredError"
      ],
      "metadata": {
        "id": "48HkHt4DWxj5"
      },
      "execution_count": 30,
      "outputs": []
    },
    {
      "cell_type": "markdown",
      "source": [
        "To complete the homework, you should now build three separate CNN models, using the similarity matrices as inputs and the three numeric (metric) vectors as outputs. Look to the Week 8 lecture and Lab 8 for information on configuring CNN models. The most basic model you might configure could consist of a 2D convolutional layer (because your input is a set of 2D matrices) followed by a max-pooling-2D layer, followed by a flattening layer, and concluding with a single unit dense layer with linear activation (because you are predicting a metric output rather than a categorical one). You can try more complex models as well.\n",
        "\n",
        "Don't worry about having a separate dev/test set with a dataset this small, just train each model until you get a stable error level. The resulting models may be somewhat overtrained, but that's OK."
      ],
      "metadata": {
        "id": "cuJBqERkMNop"
      }
    },
    {
      "cell_type": "code",
      "source": [
        "# Some setup parameters that may be helpful\n",
        "input_shape = (max_mat_size, max_mat_size, 1) # Each input is a single layer square matrix \n",
        "num_filters = 8 # You can adjust this up or down to try to improve model fit\n",
        "pool_size = (3, 3) # You can adjust this up or down as needed to improve model fit"
      ],
      "metadata": {
        "id": "sO9sddKxPfSD"
      },
      "execution_count": 31,
      "outputs": []
    },
    {
      "cell_type": "code",
      "source": [
        "# Since this is a regression problem, we can use 'Linear' activation function.\n",
        "# Linear results in a numerical value which we require. "
      ],
      "metadata": {
        "id": "djRxGi35jTFi"
      },
      "execution_count": 32,
      "outputs": []
    },
    {
      "cell_type": "code",
      "source": [
        "# Configure the layers of your model here using Sequential\n",
        "\n",
        "model = Sequential()\n",
        "\n",
        "# adding the first convolution layer\n",
        "model.add(Conv2D(filters=num_filters, kernel_size=pool_size, input_shape=input_shape, activation = 'linear'))\n",
        "\n",
        "# Often times, applying a MaxPooling2D operation with a pooling size of more than 2x2 results in a great loss of data, and so 2x2 is a better option to choose.\n",
        "model.add(MaxPooling2D((2,2)))\n",
        "\n",
        "# adding second convolution layer\n",
        "model.add(Conv2D(filters=32, kernel_size=pool_size, activation = 'linear'))\n",
        "model.add(MaxPooling2D((2,2)))\n",
        "\n",
        "# Flatten and add a fully-connected Dense layer\n",
        "model.add(Flatten())\n",
        "model.add(Dense(20, activation = 'linear'))  # a layer with 20 neurons\n",
        "model.add(Dropout(rate=0.5))\n",
        "model.add(Dense(1, activation = 'linear'))   # Final output layer\n",
        "\n",
        "# Compile and summarize your model here\n",
        "opt = tf.keras.optimizers.Adam(learning_rate=0.001)\n",
        "model.compile(loss = MeanSquaredError(), optimizer = opt)\n",
        "print(model.summary())\n",
        "\n",
        "\n",
        "# defining a functio to fit the model and plot learning curve based on epochs and learning rate. \n",
        "def fit_model(trainX, trainy, epochs, lrate):\n",
        "\n",
        "  model = Sequential()\n",
        "\n",
        "  # adding the first convolution layer\n",
        "  model.add(Conv2D(filters=num_filters, kernel_size=pool_size, input_shape=input_shape, activation = 'linear'))\n",
        "  model.add(MaxPooling2D((2,2)))\n",
        "\n",
        "  # adding second convolution layer\n",
        "  model.add(Conv2D(filters=32, kernel_size=pool_size, activation = 'linear'))\n",
        "  model.add(MaxPooling2D((2,2)))\n",
        "\n",
        "  # Flatten and add a fully-connected Dense layer\n",
        "  model.add(Flatten())\n",
        "  model.add(Dense(20, activation = 'linear'))  # a layer with 20 neurons\n",
        "  model.add(Dropout(rate=0.5))\n",
        "  model.add(Dense(1, activation = 'linear'))   # Final output layer\n",
        "\n",
        "  # Compile and summarize your model here\n",
        "  opt = tf.keras.optimizers.Adam(learning_rate=lrate)\n",
        "  model.compile(loss = MeanSquaredError(), optimizer = opt)\n",
        "\n",
        "\t# fit model\n",
        "  history = model.fit(trainX, trainy, epochs=epochs, verbose=0)\n",
        "\t# plot learning curves\n",
        "  plt.plot(history.history['loss'], label='train')\n",
        "  #plt.title('lrate='+str(lrate), pad=-50)"
      ],
      "metadata": {
        "id": "tIkuLpesQ8pO",
        "colab": {
          "base_uri": "https://localhost:8080/"
        },
        "outputId": "9c8123d8-36c3-4acb-d638-06f49b1fb51a"
      },
      "execution_count": 33,
      "outputs": [
        {
          "output_type": "stream",
          "name": "stdout",
          "text": [
            "Model: \"sequential\"\n",
            "_________________________________________________________________\n",
            " Layer (type)                Output Shape              Param #   \n",
            "=================================================================\n",
            " conv2d (Conv2D)             (None, 54, 54, 8)         80        \n",
            "                                                                 \n",
            " max_pooling2d (MaxPooling2D  (None, 27, 27, 8)        0         \n",
            " )                                                               \n",
            "                                                                 \n",
            " conv2d_1 (Conv2D)           (None, 25, 25, 32)        2336      \n",
            "                                                                 \n",
            " max_pooling2d_1 (MaxPooling  (None, 12, 12, 32)       0         \n",
            " 2D)                                                             \n",
            "                                                                 \n",
            " flatten (Flatten)           (None, 4608)              0         \n",
            "                                                                 \n",
            " dense (Dense)               (None, 20)                92180     \n",
            "                                                                 \n",
            " dropout (Dropout)           (None, 20)                0         \n",
            "                                                                 \n",
            " dense_1 (Dense)             (None, 1)                 21        \n",
            "                                                                 \n",
            "=================================================================\n",
            "Total params: 94,617\n",
            "Trainable params: 94,617\n",
            "Non-trainable params: 0\n",
            "_________________________________________________________________\n",
            "None\n"
          ]
        }
      ]
    },
    {
      "cell_type": "markdown",
      "source": [
        "Remember, because you are predicting metric outcomes (i.e., floating point numbers) rather than categories, you should use MeanSquaredError() as your loss function. Make sure to show a model summary that confirms the shapes of the various layers. Exeriment with the learning rate and the number of epochs to make your training as efficient as you can. Once you have a trained model that is satisfactory for each of your outcome variables, make predictions using the model and the original input data and compute a regular correlation coefficient (e.g., with numpy corrcoef) to confirm how well the model performs."
      ],
      "metadata": {
        "id": "krGv2QhEQDeu"
      }
    },
    {
      "cell_type": "markdown",
      "source": [
        "## Training for LogCPY"
      ],
      "metadata": {
        "id": "M2Htc8rakxFK"
      }
    },
    {
      "cell_type": "code",
      "source": [
        "# Train and evaluate your model here\n",
        "# create learning curves for different learning rates\n",
        "learning_rates = [1E-2, 1E-3, 1E-4]\n",
        "epochs = [5,15,30]\n",
        "for i in range(len(epochs)):\n",
        "  for j in range(len(learning_rates)):\n",
        "    # determine the plot number\n",
        "    plot_no = 420 + (i+1)\n",
        "    plt.figure(figsize=(6,4))\n",
        "    plt.subplot(plot_no)\n",
        "    plt.title(f\"lrate= {learning_rates[j]} ; epoch = {epochs[i]}\", pad=-50)\n",
        "\n",
        "    # fit model and plot learning curves for a learning rate\n",
        "    fit_model(sim_tensor, cpy_tensor, epochs=epochs[i], lrate=learning_rates[j])\n",
        "# show learning curves\n",
        "plt.show()"
      ],
      "metadata": {
        "id": "i3mxYSOSRPKH",
        "colab": {
          "base_uri": "https://localhost:8080/",
          "height": 836
        },
        "outputId": "aa4fcb44-f041-4ff7-dc54-057c3c781dfe"
      },
      "execution_count": 34,
      "outputs": [
        {
          "output_type": "display_data",
          "data": {
            "text/plain": [
              "<Figure size 432x288 with 1 Axes>"
            ],
            "image/png": "[encoded data removed]"
          },
          "metadata": {
            "needs_background": "light"
          }
        },
        {
          "output_type": "display_data",
          "data": {
            "text/plain": [
              "<Figure size 432x288 with 1 Axes>"
            ],
            "image/png": "[encoded data removed]"
          },
          "metadata": {
            "needs_background": "light"
          }
        },
        {
          "output_type": "display_data",
          "data": {
            "text/plain": [
              "<Figure size 432x288 with 1 Axes>"
            ],
            "image/png": "[encoded data removed]"
          },
          "metadata": {
            "needs_background": "light"
          }
        },
        {
          "output_type": "display_data",
          "data": {
            "text/plain": [
              "<Figure size 432x288 with 1 Axes>"
            ],
            "image/png": "[encoded data removed]"
          },
          "metadata": {
            "needs_background": "light"
          }
        },
        {
          "output_type": "display_data",
          "data": {
            "text/plain": [
              "<Figure size 432x288 with 1 Axes>"
            ],
            "image/png": "[encoded data removed]"
          },
          "metadata": {
            "needs_background": "light"
          }
        },
        {
          "output_type": "display_data",
          "data": {
            "text/plain": [
              "<Figure size 432x288 with 1 Axes>"
            ],
            "image/png": "[encoded data removed]"
          },
          "metadata": {
            "needs_background": "light"
          }
        },
        {
          "output_type": "display_data",
          "data": {
            "text/plain": [
              "<Figure size 432x288 with 1 Axes>"
            ],
            "image/png": "[encoded data removed]"
          },
          "metadata": {
            "needs_background": "light"
          }
        },
        {
          "output_type": "display_data",
          "data": {
            "text/plain": [
              "<Figure size 432x288 with 1 Axes>"
            ],
            "image/png": "[encoded data removed]"
          },
          "metadata": {
            "needs_background": "light"
          }
        },
        {
          "output_type": "display_data",
          "data": {
            "text/plain": [
              "<Figure size 432x288 with 1 Axes>"
            ],
            "image/png": "[encoded data removed]"
          },
          "metadata": {
            "needs_background": "light"
          }
        }
      ]
    },
    {
      "cell_type": "code",
      "source": [
        "# From above plots and analysis, I have chosen epochs=15 and learning rate as 0.001 to create the final model.\n",
        "\n",
        "best_model = Sequential()\n",
        "best_model.add(Conv2D(filters=num_filters, kernel_size=pool_size, padding='valid', activation='linear', input_shape=input_shape))\n",
        "best_model.add(MaxPooling2D((2,2)))\n",
        "\n",
        "best_model.add(Flatten())\n",
        "best_model.add(Dense(20, activation = 'linear'))  # a layer with 20 neurons\n",
        "best_model.add(Dense(1, activation = 'linear'))   # Final output layer\n",
        "\n",
        "# Compile\n",
        "best_model.compile(loss=MeanSquaredError(), optimizer=tf.keras.optimizers.Adam(learning_rate=0.001))\n",
        "\n",
        "# Fit and do predictions\n",
        "best_model.fit(x=sim_tensor, y=cpy_tensor, epochs=15, verbose=0)\n",
        "cpy_preds = best_model.predict(sim_tensor).squeeze(axis=-1)\n",
        "\n",
        "# Checking the correlation between true values and predicted values.\n",
        "cpy_corr = np.corrcoef(cpy_tensor, cpy_preds)\n",
        "print(cpy_corr)"
      ],
      "metadata": {
        "colab": {
          "base_uri": "https://localhost:8080/"
        },
        "id": "34q7Un5S5jEg",
        "outputId": "c3020562-52e7-41d1-cf8d-6770f7855693"
      },
      "execution_count": 35,
      "outputs": [
        {
          "output_type": "stream",
          "name": "stdout",
          "text": [
            "[[1.         0.38366619]\n",
            " [0.38366619 1.        ]]\n"
          ]
        }
      ]
    },
    {
      "cell_type": "markdown",
      "source": [
        "## Training for LogJIF"
      ],
      "metadata": {
        "id": "JBbzXpIupQaL"
      }
    },
    {
      "cell_type": "code",
      "source": [
        "# Train and evaluate your model here\n",
        "# create learning curves for different learning rates\n",
        "learning_rates = [1E-2, 1E-3, 1E-4]\n",
        "epochs = [5,15,30]\n",
        "for i in range(len(epochs)):\n",
        "  for j in range(len(learning_rates)):\n",
        "    # determine the plot number\n",
        "    plot_no = 420 + (i+1)\n",
        "    plt.figure(figsize=(6,4))\n",
        "    plt.subplot(plot_no)\n",
        "    plt.title(f\"lrate= {learning_rates[j]} ; epoch = {epochs[i]}\", pad=-50)\n",
        "\n",
        "    # fit model and plot learning curves for a learning rate\n",
        "    fit_model(sim_tensor, jif_tensor, epochs=epochs[i], lrate=learning_rates[j])\n",
        "# show learning curves\n",
        "plt.show()"
      ],
      "metadata": {
        "colab": {
          "base_uri": "https://localhost:8080/",
          "height": 836
        },
        "outputId": "0c856de0-6d23-4f5a-d8e6-b22928fbdada",
        "id": "w59TWmrgpQaS"
      },
      "execution_count": 36,
      "outputs": [
        {
          "output_type": "display_data",
          "data": {
            "text/plain": [
              "<Figure size 432x288 with 1 Axes>"
            ],
            "image/png": "[encoded data removed]"
          },
          "metadata": {
            "needs_background": "light"
          }
        },
        {
          "output_type": "display_data",
          "data": {
            "text/plain": [
              "<Figure size 432x288 with 1 Axes>"
            ],
            "image/png": "[encoded data removed]"
          },
          "metadata": {
            "needs_background": "light"
          }
        },
        {
          "output_type": "display_data",
          "data": {
            "text/plain": [
              "<Figure size 432x288 with 1 Axes>"
            ],
            "image/png": "[encoded data removed]"
          },
          "metadata": {
            "needs_background": "light"
          }
        },
        {
          "output_type": "display_data",
          "data": {
            "text/plain": [
              "<Figure size 432x288 with 1 Axes>"
            ],
            "image/png": "[encoded data removed]"
          },
          "metadata": {
            "needs_background": "light"
          }
        },
        {
          "output_type": "display_data",
          "data": {
            "text/plain": [
              "<Figure size 432x288 with 1 Axes>"
            ],
            "image/png": "[encoded data removed]"
          },
          "metadata": {
            "needs_background": "light"
          }
        },
        {
          "output_type": "display_data",
          "data": {
            "text/plain": [
              "<Figure size 432x288 with 1 Axes>"
            ],
            "image/png": "[encoded data removed]"
          },
          "metadata": {
            "needs_background": "light"
          }
        },
        {
          "output_type": "display_data",
          "data": {
            "text/plain": [
              "<Figure size 432x288 with 1 Axes>"
            ],
            "image/png": "[encoded data removed]"
          },
          "metadata": {
            "needs_background": "light"
          }
        },
        {
          "output_type": "display_data",
          "data": {
            "text/plain": [
              "<Figure size 432x288 with 1 Axes>"
            ],
            "image/png": "[encoded data removed]"
          },
          "metadata": {
            "needs_background": "light"
          }
        },
        {
          "output_type": "display_data",
          "data": {
            "text/plain": [
              "<Figure size 432x288 with 1 Axes>"
            ],
            "image/png": "[encoded data removed]"
          },
          "metadata": {
            "needs_background": "light"
          }
        }
      ]
    },
    {
      "cell_type": "code",
      "source": [
        "# From above plots and analysis, I have chosen epochs=15 and learning rate as 0.001 to create the final model.\n",
        "\n",
        "best_model = Sequential()\n",
        "best_model.add(Conv2D(filters=num_filters, kernel_size=pool_size, padding='valid', activation='linear', input_shape=input_shape))\n",
        "best_model.add(MaxPooling2D((2,2)))\n",
        "\n",
        "best_model.add(Flatten())\n",
        "best_model.add(Dense(20, activation = 'linear'))  # a layer with 20 neurons\n",
        "best_model.add(Dense(1, activation = 'linear'))   # Final output layer\n",
        "\n",
        "# Compile\n",
        "best_model.compile(loss=MeanSquaredError(), optimizer=tf.keras.optimizers.Adam(learning_rate=0.001))\n",
        "\n",
        "# Fit and do predictions\n",
        "best_model.fit(x=sim_tensor, y=jif_tensor, epochs=15, verbose=0)\n",
        "jif_preds = best_model.predict(sim_tensor).squeeze(axis=-1)\n",
        "\n",
        "# Checking the correlation between true values and predicted values.\n",
        "jif_corr = np.corrcoef(jif_tensor, jif_preds)\n",
        "print(jif_corr)"
      ],
      "metadata": {
        "colab": {
          "base_uri": "https://localhost:8080/"
        },
        "id": "qervkjl_8lov",
        "outputId": "d8b30198-ce99-434a-c08c-99f884489d11"
      },
      "execution_count": 37,
      "outputs": [
        {
          "output_type": "stream",
          "name": "stdout",
          "text": [
            "[[1.         0.44334881]\n",
            " [0.44334881 1.        ]]\n"
          ]
        }
      ]
    },
    {
      "cell_type": "markdown",
      "source": [
        "## Training for Alpha"
      ],
      "metadata": {
        "id": "TDb-ToeGpROM"
      }
    },
    {
      "cell_type": "code",
      "source": [
        "# Train and evaluate your model here\n",
        "# create learning curves for different learning rates\n",
        "learning_rates = [1E-2, 1E-3, 1E-4]\n",
        "epochs = [5,15,30]\n",
        "for i in range(len(epochs)):\n",
        "  for j in range(len(learning_rates)):\n",
        "    # determine the plot number\n",
        "    plot_no = 420 + (i+1)\n",
        "    plt.figure(figsize=(6,4))\n",
        "    plt.subplot(plot_no)\n",
        "    plt.title(f\"lrate= {learning_rates[j]} ; epoch = {epochs[i]}\", pad=-50)\n",
        "\n",
        "    # fit model and plot learning curves for a learning rate\n",
        "    fit_model(sim_tensor, alpha_tensor, epochs=epochs[i], lrate=learning_rates[j])\n",
        "# show learning curves\n",
        "plt.show()"
      ],
      "metadata": {
        "colab": {
          "base_uri": "https://localhost:8080/",
          "height": 836
        },
        "outputId": "2e9ef3bc-3265-435e-dac7-fc2c6b504268",
        "id": "EpRlkpytpRON"
      },
      "execution_count": 38,
      "outputs": [
        {
          "output_type": "display_data",
          "data": {
            "text/plain": [
              "<Figure size 432x288 with 1 Axes>"
            ],
            "image/png": "[encoded data removed]"
          },
          "metadata": {
            "needs_background": "light"
          }
        },
        {
          "output_type": "display_data",
          "data": {
            "text/plain": [
              "<Figure size 432x288 with 1 Axes>"
            ],
            "image/png": "[encoded data removed]"
          },
          "metadata": {
            "needs_background": "light"
          }
        },
        {
          "output_type": "display_data",
          "data": {
            "text/plain": [
              "<Figure size 432x288 with 1 Axes>"
            ],
            "image/png": "[encoded data removed]"
          },
          "metadata": {
            "needs_background": "light"
          }
        },
        {
          "output_type": "display_data",
          "data": {
            "text/plain": [
              "<Figure size 432x288 with 1 Axes>"
            ],
            "image/png": "[encoded data removed]"
          },
          "metadata": {
            "needs_background": "light"
          }
        },
        {
          "output_type": "display_data",
          "data": {
            "text/plain": [
              "<Figure size 432x288 with 1 Axes>"
            ],
            "image/png": "[encoded data removed]"
          },
          "metadata": {
            "needs_background": "light"
          }
        },
        {
          "output_type": "display_data",
          "data": {
            "text/plain": [
              "<Figure size 432x288 with 1 Axes>"
            ],
            "image/png": "[encoded data removed]"
          },
          "metadata": {
            "needs_background": "light"
          }
        },
        {
          "output_type": "display_data",
          "data": {
            "text/plain": [
              "<Figure size 432x288 with 1 Axes>"
            ],
            "image/png": "[encoded data removed]"
          },
          "metadata": {
            "needs_background": "light"
          }
        },
        {
          "output_type": "display_data",
          "data": {
            "text/plain": [
              "<Figure size 432x288 with 1 Axes>"
            ],
            "image/png": "[encoded data removed]"
          },
          "metadata": {
            "needs_background": "light"
          }
        },
        {
          "output_type": "display_data",
          "data": {
            "text/plain": [
              "<Figure size 432x288 with 1 Axes>"
            ],
            "image/png": "[encoded data removed]"
          },
          "metadata": {
            "needs_background": "light"
          }
        }
      ]
    },
    {
      "cell_type": "code",
      "source": [
        "# From above plots and analysis, I have chosen epochs=15 and learning rate as 0.001 to create the final model.\n",
        "\n",
        "best_model = Sequential()\n",
        "best_model.add(Conv2D(filters=num_filters, kernel_size=pool_size, padding='valid', activation='linear', input_shape=input_shape))\n",
        "best_model.add(MaxPooling2D((2,2)))\n",
        "\n",
        "best_model.add(Flatten())\n",
        "best_model.add(Dense(20, activation = 'linear'))  # a layer with 20 neurons\n",
        "best_model.add(Dense(1, activation = 'linear'))   # Final output layer\n",
        "\n",
        "# Compile\n",
        "best_model.compile(loss=MeanSquaredError(), optimizer=tf.keras.optimizers.Adam(learning_rate=0.001))\n",
        "\n",
        "# Fit and do predictions\n",
        "best_model.fit(x=sim_tensor, y=alpha_tensor, epochs=15, verbose=0)\n",
        "alpha_preds = best_model.predict(sim_tensor).squeeze(axis=-1)\n",
        "\n",
        "# Checking the correlation between true values and predicted values.\n",
        "alpha_corr = np.corrcoef(alpha_tensor, alpha_preds)\n",
        "print(alpha_corr)"
      ],
      "metadata": {
        "colab": {
          "base_uri": "https://localhost:8080/"
        },
        "id": "lzJvRrlw85f2",
        "outputId": "a77286bd-91d2-4f24-d767-072025052204"
      },
      "execution_count": 40,
      "outputs": [
        {
          "output_type": "stream",
          "name": "stdout",
          "text": [
            "[[1.         0.54601764]\n",
            " [0.54601764 1.        ]]\n"
          ]
        }
      ]
    },
    {
      "cell_type": "markdown",
      "source": [
        "Don't forget to write a concluding comment that explains what you did and interprets the results. Which of the three outcome variables were you able to predict most accurately?\n",
        "\n",
        "# 3. Conclusion: \n"
      ],
      "metadata": {
        "id": "P-u6XzomRUyG"
      }
    },
    {
      "cell_type": "markdown",
      "source": [
        "- Our data consists of sentences seperated by semicolon and 3 features describing those texts. Using a convolutional neural network, we are trying to predict the log of citations per year, alpha value and log of journal impact factor. Each row contains sentences which are related to each other.\n",
        "\n",
        "- First, we need to convert those texts into some embeddings. For that we have used SentenceTransformer which is Siamese BERT network. Each sentence is mapped to a 384 dimensional dense vector space. Then, we have created a matrix of cosine similarity scores for each sentence with the other sentences in a row of text. That matrix is our input feature.\n",
        "\n",
        "- Next, I have created a CNN with two convolutional layers and Max pooling to predict \n",
        " - 1. log of cites \n",
        " - 2. log of Journal Impact Factor \n",
        " - 3. Alpha value. \n",
        "\n",
        "  I have tried hyperparameter tuning epochs and learning rate. \n",
        "\n",
        "- To test how good are the predictions, I found out the correlation coefficient between the true target values and predicted values. Based on the best hyperparameters, we get the highest correlation coefficient (0.54) for Alpha. For LogCPY, the Pearson's correlation coefficients is 0.38 and for LogJIF, the Pearson's correlation coefficients is 0.44. Pearson's correlation is a parametric test and assumes data normality and when I plotted the histograms for predictions, they were approximately normal.\n",
        "\n",
        "- I have used dropout as a regularizer to reduce overfitting but I still think the models are overfitted and due to a small dataset, we did not succeed in creating a generalized model. \n",
        "\n",
        "- I gave a thought about the reasons for different performance on the three predictors but I couldn't think of a valid reason. If possible, could you please write it as a grading feedback?\n",
        "\n",
        "- I have also tried 3-fold Cross Validation for one of the predictor variables (logCPY) with 50 epochs. When Validation error starts increasing after some epochs, we can say that the model has started to overfit. But it never started going up, although there was not much change in the validation error for each fold after around 15 epochs."
      ],
      "metadata": {
        "id": "Z3ulkk6-1IzC"
      }
    },
    {
      "cell_type": "markdown",
      "source": [
        "## Doubts:\n",
        "\n",
        "\n",
        "\n",
        "- We are using the cosine similarity scores as our training input. Is there any particular reason to use them instead of the sentence embeddings. \n",
        "\n",
        "- How to decide the number of convolutional layers?\n",
        "\n",
        "- For Images, CNN is easier to understand than text. In images, we add convolution layers where each filter acts as a feature detector to detect vertical edges, horizontal edges and in the next layers, complex patterns etc. But when we are adding filters for text, what are they exactly trying to detect?\n",
        "\n",
        "- To understand, if a model is overfitted, we usually check the train and test error vs. epochs curve. When the training error and test error start diverting (test error starts increasing), we know model is being overfitted. But here, we have not defined any test data. When I tried fitting using validation_split=0.2 and plotting the curve, the curve had a wavy pattern and it was not clear to me when to define overfitting.\n",
        "\n",
        "- I have used different learning rates and epochs and plotted the loss. How can we select what learning rate and epochs to use without using validation data? I know, for epochs, we can see when the loss starts to stagnate and then decide the epochs but how is the best learning rate decided?\n",
        "\n",
        "- Lastly, what further analysis I could have done to make a more generalized model?"
      ],
      "metadata": {
        "id": "SwaVUAgHqtep"
      }
    },
    {
      "cell_type": "markdown",
      "source": [
        "# 4. Experimenting 5-fold for predicting cpy_tensor "
      ],
      "metadata": {
        "id": "Cujf9FeZqshs"
      }
    },
    {
      "cell_type": "code",
      "source": [
        "from sklearn.model_selection import KFold\n",
        "\n",
        "EPOCHS = 50\n",
        "NUM_FOLDS = 3\n",
        "LEARNING_RATE = 0.001\n",
        "loss_per_fold = []\n",
        "\n",
        "# # Merge inputs and targets\n",
        "# inputs = np.concatenate((input_train, input_test), axis=0)\n",
        "# targets = np.concatenate((target_train, target_test), axis=0)\n",
        "\n",
        "# Define the K-fold Cross Validator\n",
        "kfold = KFold(n_splits=NUM_FOLDS, shuffle=True)\n",
        "\n",
        "# K-fold Cross Validation model evaluation\n",
        "fold_no = 1\n",
        "for train, test in kfold.split(sim_tensor, cpy_tensor):\n",
        "\n",
        "  model = Sequential()\n",
        "\n",
        "  # adding the first convolution layer\n",
        "  model.add(Conv2D(filters=num_filters, kernel_size=pool_size, input_shape=input_shape, activation = 'linear'))\n",
        "\n",
        "  # Often times, applying a MaxPooling2D operation with a pooling size of more than 2x2 results in a great loss of data, and so 2x2 is a better option to choose.\n",
        "  model.add(MaxPooling2D((2,2)))\n",
        "\n",
        "  # adding second convolution layer\n",
        "  model.add(Conv2D(filters=32, kernel_size=pool_size, activation = 'linear'))\n",
        "  model.add(MaxPooling2D((2,2)))\n",
        "\n",
        "  # Flatten and add a fully-connected Dense layer\n",
        "  model.add(Flatten())\n",
        "  model.add(Dense(20, activation = 'linear'))  # a layer with 20 neurons\n",
        "  model.add(Dropout(rate=0.5))\n",
        "  model.add(Dense(1, activation = 'linear'))   # Final output layer\n",
        "\n",
        "  # Compile the model\n",
        "  model.compile(loss=MeanSquaredError(),\n",
        "                optimizer=tf.keras.optimizers.Adam(learning_rate=LEARNING_RATE),\n",
        "                metrics=[tf.keras.metrics.MeanSquaredError()])\n",
        "\n",
        "  print('------------------------------------------------------------------------')\n",
        "  print(f'Training for fold {fold_no} ...')\n",
        "\n",
        "  # Fit data to model\n",
        "  history = model.fit(sim_tensor, cpy_tensor,\n",
        "              epochs=EPOCHS, validation_data=(sim_tensor, cpy_tensor))\n",
        "\n",
        "  # Generate generalization metrics\n",
        "  scores = model.evaluate(sim_tensor, cpy_tensor, verbose=0)\n",
        "  print(f'Score for fold {fold_no}:  {model.metrics_names[1]} of {scores[1]}')\n",
        "  loss_per_fold.append(scores[0])\n",
        "\n",
        "  # Increase fold number\n",
        "  fold_no = fold_no + 1\n",
        "\n",
        "# Provide average scores\n",
        "print('------------------------------------------------------------------------')\n",
        "print('Score per fold')\n",
        "for i in range(0, len(loss_per_fold)):\n",
        "  print('------------------------------------------------------------------------')\n",
        "  print(f'> Fold {i+1} - Loss: {loss_per_fold[i]}')\n",
        "print('------------------------------------------------------------------------')\n",
        "print('Average scores for all folds:')\n",
        "print(f'> Loss: {np.mean(loss_per_fold)}')\n",
        "print('------------------------------------------------------------------------')"
      ],
      "metadata": {
        "colab": {
          "base_uri": "https://localhost:8080/"
        },
        "id": "kJN0peERk39A",
        "outputId": "f10d031b-a957-4075-a114-ea64e24035c6"
      },
      "execution_count": 55,
      "outputs": [
        {
          "output_type": "stream",
          "name": "stdout",
          "text": [
            "------------------------------------------------------------------------\n",
            "Training for fold 1 ...\n",
            "Epoch 1/50\n",
            "9/9 [==============================] - 1s 78ms/step - loss: 0.9438 - mean_squared_error: 0.9438 - val_loss: 0.6237 - val_mean_squared_error: 0.6237\n",
            "Epoch 2/50\n",
            "9/9 [==============================] - 1s 61ms/step - loss: 0.5027 - mean_squared_error: 0.5027 - val_loss: 0.4854 - val_mean_squared_error: 0.4854\n",
            "Epoch 3/50\n",
            "9/9 [==============================] - 1s 60ms/step - loss: 0.5281 - mean_squared_error: 0.5281 - val_loss: 0.3911 - val_mean_squared_error: 0.3911\n",
            "Epoch 4/50\n",
            "9/9 [==============================] - 1s 64ms/step - loss: 0.4689 - mean_squared_error: 0.4689 - val_loss: 0.3777 - val_mean_squared_error: 0.3777\n",
            "Epoch 5/50\n",
            "9/9 [==============================] - 1s 60ms/step - loss: 0.4273 - mean_squared_error: 0.4273 - val_loss: 0.3649 - val_mean_squared_error: 0.3649\n",
            "Epoch 6/50\n",
            "9/9 [==============================] - 1s 62ms/step - loss: 0.4425 - mean_squared_error: 0.4425 - val_loss: 0.3613 - val_mean_squared_error: 0.3613\n",
            "Epoch 7/50\n",
            "9/9 [==============================] - 1s 60ms/step - loss: 0.4093 - mean_squared_error: 0.4093 - val_loss: 0.3858 - val_mean_squared_error: 0.3858\n",
            "Epoch 8/50\n",
            "9/9 [==============================] - 1s 61ms/step - loss: 0.3974 - mean_squared_error: 0.3974 - val_loss: 0.3569 - val_mean_squared_error: 0.3569\n",
            "Epoch 9/50\n",
            "9/9 [==============================] - 1s 59ms/step - loss: 0.4214 - mean_squared_error: 0.4214 - val_loss: 0.3610 - val_mean_squared_error: 0.3610\n",
            "Epoch 10/50\n",
            "9/9 [==============================] - 1s 62ms/step - loss: 0.4199 - mean_squared_error: 0.4199 - val_loss: 0.3510 - val_mean_squared_error: 0.3510\n",
            "Epoch 11/50\n",
            "9/9 [==============================] - 1s 60ms/step - loss: 0.4211 - mean_squared_error: 0.4211 - val_loss: 0.4142 - val_mean_squared_error: 0.4142\n",
            "Epoch 12/50\n",
            "9/9 [==============================] - 1s 60ms/step - loss: 0.4247 - mean_squared_error: 0.4247 - val_loss: 0.3553 - val_mean_squared_error: 0.3553\n",
            "Epoch 13/50\n",
            "9/9 [==============================] - 1s 61ms/step - loss: 0.4572 - mean_squared_error: 0.4572 - val_loss: 0.3548 - val_mean_squared_error: 0.3548\n",
            "Epoch 14/50\n",
            "9/9 [==============================] - 1s 62ms/step - loss: 0.4071 - mean_squared_error: 0.4071 - val_loss: 0.3474 - val_mean_squared_error: 0.3474\n",
            "Epoch 15/50\n",
            "9/9 [==============================] - 1s 62ms/step - loss: 0.3801 - mean_squared_error: 0.3801 - val_loss: 0.3727 - val_mean_squared_error: 0.3727\n",
            "Epoch 16/50\n",
            "9/9 [==============================] - 1s 60ms/step - loss: 0.4148 - mean_squared_error: 0.4148 - val_loss: 0.3410 - val_mean_squared_error: 0.3410\n",
            "Epoch 17/50\n",
            "9/9 [==============================] - 1s 61ms/step - loss: 0.4215 - mean_squared_error: 0.4215 - val_loss: 0.3387 - val_mean_squared_error: 0.3387\n",
            "Epoch 18/50\n",
            "9/9 [==============================] - 1s 61ms/step - loss: 0.4055 - mean_squared_error: 0.4055 - val_loss: 0.3762 - val_mean_squared_error: 0.3762\n",
            "Epoch 19/50\n",
            "9/9 [==============================] - 1s 63ms/step - loss: 0.4208 - mean_squared_error: 0.4208 - val_loss: 0.3360 - val_mean_squared_error: 0.3360\n",
            "Epoch 20/50\n",
            "9/9 [==============================] - 1s 61ms/step - loss: 0.3959 - mean_squared_error: 0.3959 - val_loss: 0.3415 - val_mean_squared_error: 0.3415\n",
            "Epoch 21/50\n",
            "9/9 [==============================] - 1s 63ms/step - loss: 0.3841 - mean_squared_error: 0.3841 - val_loss: 0.3339 - val_mean_squared_error: 0.3339\n",
            "Epoch 22/50\n",
            "9/9 [==============================] - 1s 62ms/step - loss: 0.4439 - mean_squared_error: 0.4439 - val_loss: 0.3329 - val_mean_squared_error: 0.3329\n",
            "Epoch 23/50\n",
            "9/9 [==============================] - 1s 65ms/step - loss: 0.4064 - mean_squared_error: 0.4064 - val_loss: 0.3394 - val_mean_squared_error: 0.3394\n",
            "Epoch 24/50\n",
            "9/9 [==============================] - 1s 61ms/step - loss: 0.3998 - mean_squared_error: 0.3998 - val_loss: 0.3283 - val_mean_squared_error: 0.3283\n",
            "Epoch 25/50\n",
            "9/9 [==============================] - 1s 63ms/step - loss: 0.4076 - mean_squared_error: 0.4076 - val_loss: 0.3284 - val_mean_squared_error: 0.3284\n",
            "Epoch 26/50\n",
            "9/9 [==============================] - 1s 60ms/step - loss: 0.3619 - mean_squared_error: 0.3619 - val_loss: 0.3433 - val_mean_squared_error: 0.3433\n",
            "Epoch 27/50\n",
            "9/9 [==============================] - 1s 62ms/step - loss: 0.4028 - mean_squared_error: 0.4028 - val_loss: 0.3226 - val_mean_squared_error: 0.3226\n",
            "Epoch 28/50\n",
            "9/9 [==============================] - 1s 60ms/step - loss: 0.3837 - mean_squared_error: 0.3837 - val_loss: 0.3288 - val_mean_squared_error: 0.3288\n",
            "Epoch 29/50\n",
            "9/9 [==============================] - 1s 60ms/step - loss: 0.3849 - mean_squared_error: 0.3849 - val_loss: 0.3197 - val_mean_squared_error: 0.3197\n",
            "Epoch 30/50\n",
            "9/9 [==============================] - 1s 61ms/step - loss: 0.3604 - mean_squared_error: 0.3604 - val_loss: 0.3191 - val_mean_squared_error: 0.3191\n",
            "Epoch 31/50\n",
            "9/9 [==============================] - 1s 61ms/step - loss: 0.3658 - mean_squared_error: 0.3658 - val_loss: 0.3202 - val_mean_squared_error: 0.3202\n",
            "Epoch 32/50\n",
            "9/9 [==============================] - 1s 61ms/step - loss: 0.3782 - mean_squared_error: 0.3782 - val_loss: 0.3195 - val_mean_squared_error: 0.3195\n",
            "Epoch 33/50\n",
            "9/9 [==============================] - 1s 61ms/step - loss: 0.4081 - mean_squared_error: 0.4081 - val_loss: 0.3617 - val_mean_squared_error: 0.3617\n",
            "Epoch 34/50\n",
            "9/9 [==============================] - 1s 61ms/step - loss: 0.3946 - mean_squared_error: 0.3946 - val_loss: 0.3293 - val_mean_squared_error: 0.3293\n",
            "Epoch 35/50\n",
            "9/9 [==============================] - 1s 60ms/step - loss: 0.3977 - mean_squared_error: 0.3977 - val_loss: 0.3632 - val_mean_squared_error: 0.3632\n",
            "Epoch 36/50\n",
            "9/9 [==============================] - 1s 62ms/step - loss: 0.3751 - mean_squared_error: 0.3751 - val_loss: 0.3183 - val_mean_squared_error: 0.3183\n",
            "Epoch 37/50\n",
            "9/9 [==============================] - 1s 60ms/step - loss: 0.3667 - mean_squared_error: 0.3667 - val_loss: 0.3204 - val_mean_squared_error: 0.3204\n",
            "Epoch 38/50\n",
            "9/9 [==============================] - 1s 63ms/step - loss: 0.3454 - mean_squared_error: 0.3454 - val_loss: 0.3130 - val_mean_squared_error: 0.3130\n",
            "Epoch 39/50\n",
            "9/9 [==============================] - 1s 61ms/step - loss: 0.3732 - mean_squared_error: 0.3732 - val_loss: 0.3399 - val_mean_squared_error: 0.3399\n",
            "Epoch 40/50\n",
            "9/9 [==============================] - 1s 63ms/step - loss: 0.3604 - mean_squared_error: 0.3604 - val_loss: 0.3082 - val_mean_squared_error: 0.3082\n",
            "Epoch 41/50\n",
            "9/9 [==============================] - 1s 65ms/step - loss: 0.3662 - mean_squared_error: 0.3662 - val_loss: 0.3113 - val_mean_squared_error: 0.3113\n",
            "Epoch 42/50\n",
            "9/9 [==============================] - 1s 62ms/step - loss: 0.3681 - mean_squared_error: 0.3681 - val_loss: 0.3138 - val_mean_squared_error: 0.3138\n",
            "Epoch 43/50\n",
            "9/9 [==============================] - 1s 61ms/step - loss: 0.3804 - mean_squared_error: 0.3804 - val_loss: 0.3102 - val_mean_squared_error: 0.3102\n",
            "Epoch 44/50\n",
            "9/9 [==============================] - 1s 62ms/step - loss: 0.3714 - mean_squared_error: 0.3714 - val_loss: 0.3044 - val_mean_squared_error: 0.3044\n",
            "Epoch 45/50\n",
            "9/9 [==============================] - 1s 63ms/step - loss: 0.3861 - mean_squared_error: 0.3861 - val_loss: 0.3049 - val_mean_squared_error: 0.3049\n",
            "Epoch 46/50\n",
            "9/9 [==============================] - 1s 61ms/step - loss: 0.3533 - mean_squared_error: 0.3533 - val_loss: 0.3053 - val_mean_squared_error: 0.3053\n",
            "Epoch 47/50\n",
            "9/9 [==============================] - 1s 63ms/step - loss: 0.3707 - mean_squared_error: 0.3707 - val_loss: 0.3047 - val_mean_squared_error: 0.3047\n",
            "Epoch 48/50\n",
            "9/9 [==============================] - 1s 60ms/step - loss: 0.3699 - mean_squared_error: 0.3699 - val_loss: 0.3011 - val_mean_squared_error: 0.3011\n",
            "Epoch 49/50\n",
            "9/9 [==============================] - 1s 62ms/step - loss: 0.3683 - mean_squared_error: 0.3683 - val_loss: 0.2995 - val_mean_squared_error: 0.2995\n",
            "Epoch 50/50\n",
            "9/9 [==============================] - 1s 61ms/step - loss: 0.3470 - mean_squared_error: 0.3470 - val_loss: 0.2978 - val_mean_squared_error: 0.2978\n",
            "Score for fold 1:  mean_squared_error of 0.2977878451347351\n",
            "------------------------------------------------------------------------\n",
            "Training for fold 2 ...\n",
            "Epoch 1/50\n",
            "9/9 [==============================] - 1s 78ms/step - loss: 0.9015 - mean_squared_error: 0.9015 - val_loss: 0.6054 - val_mean_squared_error: 0.6054\n",
            "Epoch 2/50\n",
            "9/9 [==============================] - 1s 64ms/step - loss: 0.5577 - mean_squared_error: 0.5577 - val_loss: 0.4766 - val_mean_squared_error: 0.4766\n",
            "Epoch 3/50\n",
            "9/9 [==============================] - 1s 60ms/step - loss: 0.4544 - mean_squared_error: 0.4544 - val_loss: 0.4025 - val_mean_squared_error: 0.4025\n",
            "Epoch 4/50\n",
            "9/9 [==============================] - 1s 62ms/step - loss: 0.4716 - mean_squared_error: 0.4716 - val_loss: 0.3968 - val_mean_squared_error: 0.3968\n",
            "Epoch 5/50\n",
            "9/9 [==============================] - 1s 61ms/step - loss: 0.4243 - mean_squared_error: 0.4243 - val_loss: 0.3621 - val_mean_squared_error: 0.3621\n",
            "Epoch 6/50\n",
            "9/9 [==============================] - 1s 63ms/step - loss: 0.4564 - mean_squared_error: 0.4564 - val_loss: 0.3596 - val_mean_squared_error: 0.3596\n",
            "Epoch 7/50\n",
            "9/9 [==============================] - 1s 63ms/step - loss: 0.4265 - mean_squared_error: 0.4265 - val_loss: 0.3601 - val_mean_squared_error: 0.3601\n",
            "Epoch 8/50\n",
            "9/9 [==============================] - 1s 62ms/step - loss: 0.4299 - mean_squared_error: 0.4299 - val_loss: 0.3544 - val_mean_squared_error: 0.3544\n",
            "Epoch 9/50\n",
            "9/9 [==============================] - 1s 62ms/step - loss: 0.3835 - mean_squared_error: 0.3835 - val_loss: 0.3562 - val_mean_squared_error: 0.3562\n",
            "Epoch 10/50\n",
            "9/9 [==============================] - 1s 63ms/step - loss: 0.4121 - mean_squared_error: 0.4121 - val_loss: 0.3536 - val_mean_squared_error: 0.3536\n",
            "Epoch 11/50\n",
            "9/9 [==============================] - 1s 62ms/step - loss: 0.4107 - mean_squared_error: 0.4107 - val_loss: 0.3475 - val_mean_squared_error: 0.3475\n",
            "Epoch 12/50\n",
            "9/9 [==============================] - 1s 61ms/step - loss: 0.4070 - mean_squared_error: 0.4070 - val_loss: 0.3442 - val_mean_squared_error: 0.3442\n",
            "Epoch 13/50\n",
            "9/9 [==============================] - 1s 63ms/step - loss: 0.4231 - mean_squared_error: 0.4231 - val_loss: 0.3445 - val_mean_squared_error: 0.3445\n",
            "Epoch 14/50\n",
            "9/9 [==============================] - 1s 61ms/step - loss: 0.4139 - mean_squared_error: 0.4139 - val_loss: 0.3440 - val_mean_squared_error: 0.3440\n",
            "Epoch 15/50\n",
            "9/9 [==============================] - 1s 62ms/step - loss: 0.4125 - mean_squared_error: 0.4125 - val_loss: 0.3437 - val_mean_squared_error: 0.3437\n",
            "Epoch 16/50\n",
            "9/9 [==============================] - 1s 62ms/step - loss: 0.3952 - mean_squared_error: 0.3952 - val_loss: 0.3366 - val_mean_squared_error: 0.3366\n",
            "Epoch 17/50\n",
            "9/9 [==============================] - 1s 62ms/step - loss: 0.4096 - mean_squared_error: 0.4096 - val_loss: 0.3493 - val_mean_squared_error: 0.3493\n",
            "Epoch 18/50\n",
            "9/9 [==============================] - 1s 61ms/step - loss: 0.3725 - mean_squared_error: 0.3725 - val_loss: 0.3337 - val_mean_squared_error: 0.3337\n",
            "Epoch 19/50\n",
            "9/9 [==============================] - 1s 64ms/step - loss: 0.3957 - mean_squared_error: 0.3957 - val_loss: 0.3549 - val_mean_squared_error: 0.3549\n",
            "Epoch 20/50\n",
            "9/9 [==============================] - 1s 65ms/step - loss: 0.4106 - mean_squared_error: 0.4106 - val_loss: 0.3276 - val_mean_squared_error: 0.3276\n",
            "Epoch 21/50\n",
            "9/9 [==============================] - 1s 62ms/step - loss: 0.4308 - mean_squared_error: 0.4308 - val_loss: 0.3251 - val_mean_squared_error: 0.3251\n",
            "Epoch 22/50\n",
            "9/9 [==============================] - 1s 61ms/step - loss: 0.4411 - mean_squared_error: 0.4411 - val_loss: 0.3516 - val_mean_squared_error: 0.3516\n",
            "Epoch 23/50\n",
            "9/9 [==============================] - 1s 72ms/step - loss: 0.3957 - mean_squared_error: 0.3957 - val_loss: 0.3246 - val_mean_squared_error: 0.3246\n",
            "Epoch 24/50\n",
            "9/9 [==============================] - 1s 160ms/step - loss: 0.3631 - mean_squared_error: 0.3631 - val_loss: 0.3232 - val_mean_squared_error: 0.3232\n",
            "Epoch 25/50\n",
            "9/9 [==============================] - 1s 137ms/step - loss: 0.4059 - mean_squared_error: 0.4059 - val_loss: 0.3245 - val_mean_squared_error: 0.3245\n",
            "Epoch 26/50\n",
            "9/9 [==============================] - 1s 123ms/step - loss: 0.3811 - mean_squared_error: 0.3811 - val_loss: 0.3230 - val_mean_squared_error: 0.3230\n",
            "Epoch 27/50\n",
            "9/9 [==============================] - 1s 167ms/step - loss: 0.3787 - mean_squared_error: 0.3787 - val_loss: 0.3175 - val_mean_squared_error: 0.3175\n",
            "Epoch 28/50\n",
            "9/9 [==============================] - 1s 83ms/step - loss: 0.3754 - mean_squared_error: 0.3754 - val_loss: 0.3301 - val_mean_squared_error: 0.3301\n",
            "Epoch 29/50\n",
            "9/9 [==============================] - 1s 63ms/step - loss: 0.4012 - mean_squared_error: 0.4012 - val_loss: 0.3162 - val_mean_squared_error: 0.3162\n",
            "Epoch 30/50\n",
            "9/9 [==============================] - 1s 65ms/step - loss: 0.3639 - mean_squared_error: 0.3639 - val_loss: 0.3402 - val_mean_squared_error: 0.3402\n",
            "Epoch 31/50\n",
            "9/9 [==============================] - 1s 63ms/step - loss: 0.3463 - mean_squared_error: 0.3463 - val_loss: 0.3133 - val_mean_squared_error: 0.3133\n",
            "Epoch 32/50\n",
            "9/9 [==============================] - 1s 65ms/step - loss: 0.3455 - mean_squared_error: 0.3455 - val_loss: 0.3301 - val_mean_squared_error: 0.3301\n",
            "Epoch 33/50\n",
            "9/9 [==============================] - 1s 67ms/step - loss: 0.3488 - mean_squared_error: 0.3488 - val_loss: 0.3064 - val_mean_squared_error: 0.3064\n",
            "Epoch 34/50\n",
            "9/9 [==============================] - 1s 61ms/step - loss: 0.3541 - mean_squared_error: 0.3541 - val_loss: 0.3146 - val_mean_squared_error: 0.3146\n",
            "Epoch 35/50\n",
            "9/9 [==============================] - 1s 63ms/step - loss: 0.3467 - mean_squared_error: 0.3467 - val_loss: 0.3067 - val_mean_squared_error: 0.3067\n",
            "Epoch 36/50\n",
            "9/9 [==============================] - 1s 63ms/step - loss: 0.3657 - mean_squared_error: 0.3657 - val_loss: 0.3142 - val_mean_squared_error: 0.3142\n",
            "Epoch 37/50\n",
            "9/9 [==============================] - 1s 63ms/step - loss: 0.3444 - mean_squared_error: 0.3444 - val_loss: 0.3022 - val_mean_squared_error: 0.3022\n",
            "Epoch 38/50\n",
            "9/9 [==============================] - 1s 61ms/step - loss: 0.3681 - mean_squared_error: 0.3681 - val_loss: 0.3094 - val_mean_squared_error: 0.3094\n",
            "Epoch 39/50\n",
            "9/9 [==============================] - 1s 64ms/step - loss: 0.3425 - mean_squared_error: 0.3425 - val_loss: 0.2982 - val_mean_squared_error: 0.2982\n",
            "Epoch 40/50\n",
            "9/9 [==============================] - 1s 62ms/step - loss: 0.3588 - mean_squared_error: 0.3588 - val_loss: 0.2969 - val_mean_squared_error: 0.2969\n",
            "Epoch 41/50\n",
            "9/9 [==============================] - 1s 64ms/step - loss: 0.3728 - mean_squared_error: 0.3728 - val_loss: 0.2937 - val_mean_squared_error: 0.2937\n",
            "Epoch 42/50\n",
            "9/9 [==============================] - 1s 62ms/step - loss: 0.3521 - mean_squared_error: 0.3521 - val_loss: 0.2972 - val_mean_squared_error: 0.2972\n",
            "Epoch 43/50\n",
            "9/9 [==============================] - 1s 62ms/step - loss: 0.3432 - mean_squared_error: 0.3432 - val_loss: 0.2946 - val_mean_squared_error: 0.2946\n",
            "Epoch 44/50\n",
            "9/9 [==============================] - 1s 61ms/step - loss: 0.3653 - mean_squared_error: 0.3653 - val_loss: 0.2894 - val_mean_squared_error: 0.2894\n",
            "Epoch 45/50\n",
            "9/9 [==============================] - 1s 61ms/step - loss: 0.3451 - mean_squared_error: 0.3451 - val_loss: 0.2909 - val_mean_squared_error: 0.2909\n",
            "Epoch 46/50\n",
            "9/9 [==============================] - 1s 63ms/step - loss: 0.3720 - mean_squared_error: 0.3720 - val_loss: 0.2901 - val_mean_squared_error: 0.2901\n",
            "Epoch 47/50\n",
            "9/9 [==============================] - 1s 61ms/step - loss: 0.3346 - mean_squared_error: 0.3346 - val_loss: 0.2894 - val_mean_squared_error: 0.2894\n",
            "Epoch 48/50\n",
            "9/9 [==============================] - 1s 63ms/step - loss: 0.3415 - mean_squared_error: 0.3415 - val_loss: 0.2882 - val_mean_squared_error: 0.2882\n",
            "Epoch 49/50\n",
            "9/9 [==============================] - 1s 63ms/step - loss: 0.3538 - mean_squared_error: 0.3538 - val_loss: 0.2906 - val_mean_squared_error: 0.2906\n",
            "Epoch 50/50\n",
            "9/9 [==============================] - 1s 63ms/step - loss: 0.3149 - mean_squared_error: 0.3149 - val_loss: 0.2875 - val_mean_squared_error: 0.2875\n",
            "Score for fold 2:  mean_squared_error of 0.2874923646450043\n",
            "------------------------------------------------------------------------\n",
            "Training for fold 3 ...\n",
            "Epoch 1/50\n",
            "9/9 [==============================] - 1s 79ms/step - loss: 1.1167 - mean_squared_error: 1.1167 - val_loss: 0.5282 - val_mean_squared_error: 0.5282\n",
            "Epoch 2/50\n",
            "9/9 [==============================] - 1s 64ms/step - loss: 0.5810 - mean_squared_error: 0.5810 - val_loss: 0.4521 - val_mean_squared_error: 0.4521\n",
            "Epoch 3/50\n",
            "9/9 [==============================] - 1s 62ms/step - loss: 0.5735 - mean_squared_error: 0.5735 - val_loss: 0.4433 - val_mean_squared_error: 0.4433\n",
            "Epoch 4/50\n",
            "9/9 [==============================] - 1s 62ms/step - loss: 0.4767 - mean_squared_error: 0.4767 - val_loss: 0.3765 - val_mean_squared_error: 0.3765\n",
            "Epoch 5/50\n",
            "9/9 [==============================] - 1s 62ms/step - loss: 0.4183 - mean_squared_error: 0.4183 - val_loss: 0.3800 - val_mean_squared_error: 0.3800\n",
            "Epoch 6/50\n",
            "9/9 [==============================] - 1s 62ms/step - loss: 0.4291 - mean_squared_error: 0.4291 - val_loss: 0.3683 - val_mean_squared_error: 0.3683\n",
            "Epoch 7/50\n",
            "9/9 [==============================] - 1s 61ms/step - loss: 0.4335 - mean_squared_error: 0.4335 - val_loss: 0.3764 - val_mean_squared_error: 0.3764\n",
            "Epoch 8/50\n",
            "9/9 [==============================] - 1s 64ms/step - loss: 0.4362 - mean_squared_error: 0.4362 - val_loss: 0.3620 - val_mean_squared_error: 0.3620\n",
            "Epoch 9/50\n",
            "9/9 [==============================] - 1s 62ms/step - loss: 0.4375 - mean_squared_error: 0.4375 - val_loss: 0.3741 - val_mean_squared_error: 0.3741\n",
            "Epoch 10/50\n",
            "9/9 [==============================] - 1s 62ms/step - loss: 0.4243 - mean_squared_error: 0.4243 - val_loss: 0.3639 - val_mean_squared_error: 0.3639\n",
            "Epoch 11/50\n",
            "9/9 [==============================] - 1s 63ms/step - loss: 0.4321 - mean_squared_error: 0.4321 - val_loss: 0.3713 - val_mean_squared_error: 0.3713\n",
            "Epoch 12/50\n",
            "9/9 [==============================] - 1s 61ms/step - loss: 0.4527 - mean_squared_error: 0.4527 - val_loss: 0.4082 - val_mean_squared_error: 0.4082\n",
            "Epoch 13/50\n",
            "9/9 [==============================] - 1s 63ms/step - loss: 0.4199 - mean_squared_error: 0.4199 - val_loss: 0.3582 - val_mean_squared_error: 0.3582\n",
            "Epoch 14/50\n",
            "9/9 [==============================] - 1s 60ms/step - loss: 0.4063 - mean_squared_error: 0.4063 - val_loss: 0.3688 - val_mean_squared_error: 0.3688\n",
            "Epoch 15/50\n",
            "9/9 [==============================] - 1s 63ms/step - loss: 0.3895 - mean_squared_error: 0.3895 - val_loss: 0.3515 - val_mean_squared_error: 0.3515\n",
            "Epoch 16/50\n",
            "9/9 [==============================] - 1s 62ms/step - loss: 0.4351 - mean_squared_error: 0.4351 - val_loss: 0.3628 - val_mean_squared_error: 0.3628\n",
            "Epoch 17/50\n",
            "9/9 [==============================] - 1s 63ms/step - loss: 0.4301 - mean_squared_error: 0.4301 - val_loss: 0.3550 - val_mean_squared_error: 0.3550\n",
            "Epoch 18/50\n",
            "9/9 [==============================] - 1s 63ms/step - loss: 0.4049 - mean_squared_error: 0.4049 - val_loss: 0.3499 - val_mean_squared_error: 0.3499\n",
            "Epoch 19/50\n",
            "9/9 [==============================] - 1s 63ms/step - loss: 0.4046 - mean_squared_error: 0.4046 - val_loss: 0.3494 - val_mean_squared_error: 0.3494\n",
            "Epoch 20/50\n",
            "9/9 [==============================] - 1s 61ms/step - loss: 0.3942 - mean_squared_error: 0.3942 - val_loss: 0.3536 - val_mean_squared_error: 0.3536\n",
            "Epoch 21/50\n",
            "9/9 [==============================] - 1s 62ms/step - loss: 0.3922 - mean_squared_error: 0.3922 - val_loss: 0.3470 - val_mean_squared_error: 0.3470\n",
            "Epoch 22/50\n",
            "9/9 [==============================] - 1s 62ms/step - loss: 0.3941 - mean_squared_error: 0.3941 - val_loss: 0.3605 - val_mean_squared_error: 0.3605\n",
            "Epoch 23/50\n",
            "9/9 [==============================] - 1s 62ms/step - loss: 0.4065 - mean_squared_error: 0.4065 - val_loss: 0.3456 - val_mean_squared_error: 0.3456\n",
            "Epoch 24/50\n",
            "9/9 [==============================] - 1s 62ms/step - loss: 0.3804 - mean_squared_error: 0.3804 - val_loss: 0.3495 - val_mean_squared_error: 0.3495\n",
            "Epoch 25/50\n",
            "9/9 [==============================] - 1s 63ms/step - loss: 0.3995 - mean_squared_error: 0.3995 - val_loss: 0.3401 - val_mean_squared_error: 0.3401\n",
            "Epoch 26/50\n",
            "9/9 [==============================] - 1s 62ms/step - loss: 0.4060 - mean_squared_error: 0.4060 - val_loss: 0.3441 - val_mean_squared_error: 0.3441\n",
            "Epoch 27/50\n",
            "9/9 [==============================] - 1s 61ms/step - loss: 0.3937 - mean_squared_error: 0.3937 - val_loss: 0.3403 - val_mean_squared_error: 0.3403\n",
            "Epoch 28/50\n",
            "9/9 [==============================] - 1s 62ms/step - loss: 0.3784 - mean_squared_error: 0.3784 - val_loss: 0.3625 - val_mean_squared_error: 0.3625\n",
            "Epoch 29/50\n",
            "9/9 [==============================] - 1s 61ms/step - loss: 0.4230 - mean_squared_error: 0.4230 - val_loss: 0.3369 - val_mean_squared_error: 0.3369\n",
            "Epoch 30/50\n",
            "9/9 [==============================] - 1s 62ms/step - loss: 0.3836 - mean_squared_error: 0.3836 - val_loss: 0.3374 - val_mean_squared_error: 0.3374\n",
            "Epoch 31/50\n",
            "9/9 [==============================] - 1s 62ms/step - loss: 0.4131 - mean_squared_error: 0.4131 - val_loss: 0.3428 - val_mean_squared_error: 0.3428\n",
            "Epoch 32/50\n",
            "9/9 [==============================] - 1s 61ms/step - loss: 0.3917 - mean_squared_error: 0.3917 - val_loss: 0.3428 - val_mean_squared_error: 0.3428\n",
            "Epoch 33/50\n",
            "9/9 [==============================] - 1s 61ms/step - loss: 0.3973 - mean_squared_error: 0.3973 - val_loss: 0.3428 - val_mean_squared_error: 0.3428\n",
            "Epoch 34/50\n",
            "9/9 [==============================] - 1s 63ms/step - loss: 0.4085 - mean_squared_error: 0.4085 - val_loss: 0.3349 - val_mean_squared_error: 0.3349\n",
            "Epoch 35/50\n",
            "9/9 [==============================] - 1s 62ms/step - loss: 0.3729 - mean_squared_error: 0.3729 - val_loss: 0.3307 - val_mean_squared_error: 0.3307\n",
            "Epoch 36/50\n",
            "9/9 [==============================] - 1s 61ms/step - loss: 0.4345 - mean_squared_error: 0.4345 - val_loss: 0.3595 - val_mean_squared_error: 0.3595\n",
            "Epoch 37/50\n",
            "9/9 [==============================] - 1s 64ms/step - loss: 0.3931 - mean_squared_error: 0.3931 - val_loss: 0.3304 - val_mean_squared_error: 0.3304\n",
            "Epoch 38/50\n",
            "9/9 [==============================] - 1s 62ms/step - loss: 0.4011 - mean_squared_error: 0.4011 - val_loss: 0.3593 - val_mean_squared_error: 0.3593\n",
            "Epoch 39/50\n",
            "9/9 [==============================] - 1s 63ms/step - loss: 0.4021 - mean_squared_error: 0.4021 - val_loss: 0.3339 - val_mean_squared_error: 0.3339\n",
            "Epoch 40/50\n",
            "9/9 [==============================] - 1s 60ms/step - loss: 0.3747 - mean_squared_error: 0.3747 - val_loss: 0.3362 - val_mean_squared_error: 0.3362\n",
            "Epoch 41/50\n",
            "9/9 [==============================] - 1s 63ms/step - loss: 0.3950 - mean_squared_error: 0.3950 - val_loss: 0.3308 - val_mean_squared_error: 0.3308\n",
            "Epoch 42/50\n",
            "9/9 [==============================] - 1s 62ms/step - loss: 0.3738 - mean_squared_error: 0.3738 - val_loss: 0.3267 - val_mean_squared_error: 0.3267\n",
            "Epoch 43/50\n",
            "9/9 [==============================] - 1s 65ms/step - loss: 0.3720 - mean_squared_error: 0.3720 - val_loss: 0.3261 - val_mean_squared_error: 0.3261\n",
            "Epoch 44/50\n",
            "9/9 [==============================] - 1s 64ms/step - loss: 0.3732 - mean_squared_error: 0.3732 - val_loss: 0.3233 - val_mean_squared_error: 0.3233\n",
            "Epoch 45/50\n",
            "9/9 [==============================] - 1s 64ms/step - loss: 0.3897 - mean_squared_error: 0.3897 - val_loss: 0.3265 - val_mean_squared_error: 0.3265\n",
            "Epoch 46/50\n",
            "9/9 [==============================] - 1s 62ms/step - loss: 0.3524 - mean_squared_error: 0.3524 - val_loss: 0.3225 - val_mean_squared_error: 0.3225\n",
            "Epoch 47/50\n",
            "9/9 [==============================] - 1s 62ms/step - loss: 0.3698 - mean_squared_error: 0.3698 - val_loss: 0.3213 - val_mean_squared_error: 0.3213\n",
            "Epoch 48/50\n",
            "9/9 [==============================] - 1s 62ms/step - loss: 0.3976 - mean_squared_error: 0.3976 - val_loss: 0.3273 - val_mean_squared_error: 0.3273\n",
            "Epoch 49/50\n",
            "9/9 [==============================] - 1s 64ms/step - loss: 0.3509 - mean_squared_error: 0.3509 - val_loss: 0.3177 - val_mean_squared_error: 0.3177\n",
            "Epoch 50/50\n",
            "9/9 [==============================] - 1s 61ms/step - loss: 0.3649 - mean_squared_error: 0.3649 - val_loss: 0.3257 - val_mean_squared_error: 0.3257\n",
            "Score for fold 3:  mean_squared_error of 0.3257119655609131\n",
            "------------------------------------------------------------------------\n",
            "Score per fold\n",
            "------------------------------------------------------------------------\n",
            "> Fold 1 - Loss: 0.2977878451347351\n",
            "------------------------------------------------------------------------\n",
            "> Fold 2 - Loss: 0.2874923646450043\n",
            "------------------------------------------------------------------------\n",
            "> Fold 3 - Loss: 0.3257119655609131\n",
            "------------------------------------------------------------------------\n",
            "Average scores for all folds:\n",
            "> Loss: 0.30366405844688416\n",
            "------------------------------------------------------------------------\n"
          ]
        }
      ]
    }
  ]
}